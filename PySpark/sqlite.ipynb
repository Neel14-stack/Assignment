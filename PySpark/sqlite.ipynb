{
 "cells": [
  {
   "cell_type": "code",
   "execution_count": 3,
   "id": "87076269",
   "metadata": {},
   "outputs": [],
   "source": [
    "# in order to connect to sqllite db we use the splite db api 2.0\n",
    "import sqlite3"
   ]
  },
  {
   "cell_type": "code",
   "execution_count": 4,
   "id": "014d1d9f",
   "metadata": {},
   "outputs": [
    {
     "data": {
      "text/plain": [
       "sqlite3.Connection"
      ]
     },
     "execution_count": 4,
     "metadata": {},
     "output_type": "execute_result"
    }
   ],
   "source": [
    "#create a connection to the database\n",
    "conn = sqlite3.connect(\"products.db\")\n",
    "\n",
    "# the conn object represent the connet object to the disk based object products\n",
    "type(conn\n",
    "    \n",
    "    )"
   ]
  },
  {
   "cell_type": "code",
   "execution_count": 8,
   "id": "90fd8fb9",
   "metadata": {},
   "outputs": [],
   "source": [
    "# create a cusor object by ysing the cursor object\n",
    "cur = conn.cursor()"
   ]
  },
  {
   "cell_type": "code",
   "execution_count": 9,
   "id": "05b5d080",
   "metadata": {},
   "outputs": [
    {
     "data": {
      "text/plain": [
       "<sqlite3.Cursor at 0x1d52835c500>"
      ]
     },
     "execution_count": 9,
     "metadata": {},
     "output_type": "execute_result"
    }
   ],
   "source": [
    "# create a table by using the connection objeect\n",
    "cur.execute (\"\"\"\n",
    "CREATE TABLE orders(\n",
    "_id INT PRIMARY KEY,\n",
    "customer_id INT NOT NULL,\n",
    "age INT,\n",
    "status CHAR(10),\n",
    "payment_type CHAR(10));\n",
    "\"\"\")"
   ]
  },
  {
   "cell_type": "code",
   "execution_count": 10,
   "id": "86ffc9f6",
   "metadata": {},
   "outputs": [
    {
     "data": {
      "text/plain": [
       "('orders',)"
      ]
     },
     "execution_count": 10,
     "metadata": {},
     "output_type": "execute_result"
    }
   ],
   "source": [
    "# we can verify that the new tbale has been created by querying the sqlite master\n",
    "result = cur.execute(\"SELECT name from sqlite_master\")\n",
    "result.fetchone()"
   ]
  },
  {
   "cell_type": "code",
   "execution_count": 12,
   "id": "c168c713",
   "metadata": {},
   "outputs": [
    {
     "data": {
      "text/plain": [
       "True"
      ]
     },
     "execution_count": 12,
     "metadata": {},
     "output_type": "execute_result"
    }
   ],
   "source": [
    "# we can check if other databases are availabe in the sql_master database\n",
    "res = cur.execute(\"SELECT name FROM sqlite_master WHERE name='order_details'\")\n",
    "res.fetchone() is None\n"
   ]
  },
  {
   "cell_type": "code",
   "execution_count": 15,
   "id": "e14ff356",
   "metadata": {},
   "outputs": [],
   "source": []
  },
  {
   "cell_type": "code",
   "execution_count": 16,
   "id": "4d223ac7",
   "metadata": {},
   "outputs": [
    {
     "data": {
      "text/plain": [
       "<sqlite3.Cursor at 0x1d52835c500>"
      ]
     },
     "execution_count": 16,
     "metadata": {},
     "output_type": "execute_result"
    }
   ],
   "source": [
    "# we can isert data into the tables\n",
    "cur.execute(\"\"\"\n",
    "INSERT INTO orders VALUES\n",
    "(101,2100,34,'paid','creditcard'),\n",
    "(102,2102,25,'checkout','upi-netbanking');\n",
    "\"\"\")"
   ]
  },
  {
   "cell_type": "code",
   "execution_count": null,
   "id": "0ab8dcf6",
   "metadata": {},
   "outputs": [],
   "source": [
    "\n",
    "conn.commit()"
   ]
  },
  {
   "cell_type": "code",
   "execution_count": 17,
   "id": "f603adb2",
   "metadata": {},
   "outputs": [
    {
     "data": {
      "text/plain": [
       "(101, 2100, 34, 'paid', 'creditcard')"
      ]
     },
     "execution_count": 17,
     "metadata": {},
     "output_type": "execute_result"
    }
   ],
   "source": [
    "result = cur.execute(\"SELECT * from orders\")\n",
    "result.fetchone()"
   ]
  },
  {
   "cell_type": "code",
   "execution_count": 18,
   "id": "7d2586e9",
   "metadata": {},
   "outputs": [
    {
     "data": {
      "text/plain": [
       "[(101, 2100, 34, 'paid', 'creditcard'),\n",
       " (102, 2102, 25, 'checkout', 'upi-netbanking')]"
      ]
     },
     "execution_count": 18,
     "metadata": {},
     "output_type": "execute_result"
    }
   ],
   "source": [
    "result = cur.execute(\"SELECT * from orders\")\n",
    "result.fetchall()"
   ]
  },
  {
   "cell_type": "code",
   "execution_count": 20,
   "id": "f653ef49",
   "metadata": {},
   "outputs": [
    {
     "data": {
      "text/plain": [
       "[('paid',), ('checkout',)]"
      ]
     },
     "execution_count": 20,
     "metadata": {},
     "output_type": "execute_result"
    }
   ],
   "source": [
    "result = cur.execute(\"SELECT status from orders\")\n",
    "result.fetchall()"
   ]
  },
  {
   "cell_type": "code",
   "execution_count": 21,
   "id": "eba39902",
   "metadata": {},
   "outputs": [
    {
     "data": {
      "text/plain": [
       "<sqlite3.Cursor at 0x1d52835c500>"
      ]
     },
     "execution_count": 21,
     "metadata": {},
     "output_type": "execute_result"
    }
   ],
   "source": [
    "# insert more data\n",
    "data = [\n",
    "    (103,2101,25,'expired','creditcard'),\n",
    "    (104,2103,25,'expired','creditcard'),\n",
    "    (105,2104,25,'completed','upi-netbanking')\n",
    "]\n",
    "cur.executemany(\"INSERT INTO orders VALUES (?,?,?,?,?)\",data)"
   ]
  },
  {
   "cell_type": "code",
   "execution_count": 22,
   "id": "b866b3b9",
   "metadata": {},
   "outputs": [
    {
     "name": "stdout",
     "output_type": "stream",
     "text": [
      "(25, 'upi-netbanking')\n",
      "(25, 'creditcard')\n",
      "(25, 'creditcard')\n",
      "(25, 'upi-netbanking')\n",
      "(34, 'creditcard')\n"
     ]
    }
   ],
   "source": [
    "for row in cur.execute(\"SELECT age, payment_type FROM orders ORDER BY age\"):\n",
    "    print(row)"
   ]
  },
  {
   "cell_type": "code",
   "execution_count": 23,
   "id": "14d5cafc",
   "metadata": {},
   "outputs": [],
   "source": [
    "conn.close()"
   ]
  },
  {
   "cell_type": "code",
   "execution_count": null,
   "id": "eeb00f6f",
   "metadata": {},
   "outputs": [],
   "source": []
  }
 ],
 "metadata": {
  "kernelspec": {
   "display_name": "Python 3 (ipykernel)",
   "language": "python",
   "name": "python3"
  },
  "language_info": {
   "codemirror_mode": {
    "name": "ipython",
    "version": 3
   },
   "file_extension": ".py",
   "mimetype": "text/x-python",
   "name": "python",
   "nbconvert_exporter": "python",
   "pygments_lexer": "ipython3",
   "version": "3.9.13"
  }
 },
 "nbformat": 4,
 "nbformat_minor": 5
}
