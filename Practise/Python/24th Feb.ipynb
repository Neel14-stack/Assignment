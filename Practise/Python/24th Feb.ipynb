{
 "cells": [
  {
   "cell_type": "markdown",
   "id": "4ba3a7ef",
   "metadata": {},
   "source": [
    "### Variables\n",
    "    * A python variable is reserved memory location to store value. A variable is created the moment you assign a value to it"
   ]
  },
  {
   "cell_type": "code",
   "execution_count": 1,
   "id": "7930d880",
   "metadata": {},
   "outputs": [],
   "source": [
    "#assignment\n",
    "first_string_var = 'Test Variable'\n",
    "first_integer_Var = 100\n"
   ]
  },
  {
   "cell_type": "code",
   "execution_count": 2,
   "id": "f089f1c5",
   "metadata": {},
   "outputs": [
    {
     "name": "stdout",
     "output_type": "stream",
     "text": [
      "200\n"
     ]
    }
   ],
   "source": [
    "first_integer_Var = first_integer_Var + 100\n",
    "print(first_integer_Var)"
   ]
  },
  {
   "cell_type": "code",
   "execution_count": 3,
   "id": "dac2c70d",
   "metadata": {},
   "outputs": [
    {
     "name": "stdout",
     "output_type": "stream",
     "text": [
      "Test VariableTest VariableTest VariableTest VariableTest Variable\n"
     ]
    }
   ],
   "source": [
    "#multiplying sting var with integer, it will print that string number of times the integer value provided\n",
    "print(first_string_var * 5)"
   ]
  },
  {
   "cell_type": "markdown",
   "id": "0bc9a738",
   "metadata": {},
   "source": [
    "### Multiple Assignments\n",
    "    * multiple variables can be assigned simultaneously"
   ]
  },
  {
   "cell_type": "code",
   "execution_count": 4,
   "id": "85d56f81",
   "metadata": {},
   "outputs": [],
   "source": [
    "intvar, str_var, float_var, bool_var = 10000, 'NMR', 120.25, True"
   ]
  },
  {
   "cell_type": "code",
   "execution_count": 6,
   "id": "68b3fac3",
   "metadata": {},
   "outputs": [
    {
     "name": "stdout",
     "output_type": "stream",
     "text": [
      "10000 120.25 NMR True\n"
     ]
    }
   ],
   "source": [
    "print(intvar, float_var, str_var, bool_var)"
   ]
  },
  {
   "cell_type": "markdown",
   "id": "b94c7545",
   "metadata": {},
   "source": [
    "### Alternative of print the values"
   ]
  },
  {
   "cell_type": "code",
   "execution_count": 7,
   "id": "79c4c7c8",
   "metadata": {},
   "outputs": [
    {
     "name": "stdout",
     "output_type": "stream",
     "text": [
      "ineger value is 10000\n"
     ]
    }
   ],
   "source": [
    "print(f'ineger value is {intvar}')"
   ]
  },
  {
   "cell_type": "code",
   "execution_count": 9,
   "id": "d1d7ea9c",
   "metadata": {},
   "outputs": [
    {
     "name": "stdout",
     "output_type": "stream",
     "text": [
      "integer value 10000, boolean value True, float value 120.25, string value NMR\n"
     ]
    }
   ],
   "source": [
    "print('integer value {}, boolean value {}, float value {}, string value {}'.format(intvar, bool_var, float_var, str_var))"
   ]
  },
  {
   "cell_type": "code",
   "execution_count": 12,
   "id": "b998e10e",
   "metadata": {},
   "outputs": [
    {
     "name": "stdout",
     "output_type": "stream",
     "text": [
      "Intger value is 10000\n"
     ]
    }
   ],
   "source": [
    "print(\"Intger value is\",intvar)"
   ]
  },
  {
   "cell_type": "markdown",
   "id": "e9e985d1",
   "metadata": {},
   "source": [
    "### Data type check\n",
    "    * isinstance()"
   ]
  },
  {
   "cell_type": "code",
   "execution_count": 25,
   "id": "b1e217b4",
   "metadata": {},
   "outputs": [
    {
     "name": "stdout",
     "output_type": "stream",
     "text": [
      "100 is integer? True\n"
     ]
    },
    {
     "data": {
      "text/plain": [
       "True"
      ]
     },
     "execution_count": 25,
     "metadata": {},
     "output_type": "execute_result"
    }
   ],
   "source": [
    "var1 = 100\n",
    "print(var1, \"is integer?\" , isinstance(var1, int))\n",
    "isinstance(var1, int)"
   ]
  },
  {
   "cell_type": "code",
   "execution_count": 1,
   "id": "9f5efb1d",
   "metadata": {},
   "outputs": [],
   "source": [
    "?type"
   ]
  },
  {
   "cell_type": "code",
   "execution_count": 21,
   "id": "0907c1e0",
   "metadata": {},
   "outputs": [
    {
     "data": {
      "text/plain": [
       "2010601117136"
      ]
     },
     "execution_count": 21,
     "metadata": {},
     "output_type": "execute_result"
    }
   ],
   "source": [
    "id(var1)\n",
    "#display the unique id of any variable"
   ]
  },
  {
   "cell_type": "markdown",
   "id": "fe96023f",
   "metadata": {},
   "source": [
    "\n",
    "### Operators\n",
    "   Operators are constraints which can help manipulate the value of operands\n",
    "       \n",
    "       * Arithmatic operators\n",
    "           - used to perform mathematical oeprations like addition subtraction multiplication etc.\n",
    "           "
   ]
  },
  {
   "cell_type": "code",
   "execution_count": 30,
   "id": "76241d48",
   "metadata": {},
   "outputs": [],
   "source": [
    "v1 , v2 = 5,2"
   ]
  },
  {
   "cell_type": "code",
   "execution_count": 31,
   "id": "96835578",
   "metadata": {},
   "outputs": [
    {
     "name": "stdout",
     "output_type": "stream",
     "text": [
      "7\n",
      "3\n",
      "10\n",
      "2.5\n",
      "25\n",
      "2\n",
      "1\n"
     ]
    }
   ],
   "source": [
    "print(v1 + v2)\n",
    "print(v1 - v2)\n",
    "print(v1 * v2)\n",
    "print(v1 / v2)\n",
    "print(v1 ** v2)\n",
    "print(v1 // v2)\n",
    "print(v1 % v2)\n"
   ]
  },
  {
   "cell_type": "markdown",
   "id": "84ce5683",
   "metadata": {},
   "source": [
    " * Comparison Operators\n",
    "     - Comparison operatos are used to commpare vales, it either return true or false according to the condition."
   ]
  },
  {
   "cell_type": "code",
   "execution_count": 32,
   "id": "df81af29",
   "metadata": {},
   "outputs": [
    {
     "name": "stdout",
     "output_type": "stream",
     "text": [
      "True\n",
      "False\n",
      "False\n",
      "True\n"
     ]
    }
   ],
   "source": [
    "v1, v2 = 7,3\n",
    "print(v1 > v2)\n",
    "print(v1 < v2)\n",
    "print(v1 == v2)\n",
    "print(v1 != v2)\n"
   ]
  },
  {
   "cell_type": "markdown",
   "id": "192a9e7f",
   "metadata": {},
   "source": [
    " * Logical Operators\n",
    "     - logical operators 'and', 'or', 'not"
   ]
  },
  {
   "cell_type": "code",
   "execution_count": 41,
   "id": "f6c825be",
   "metadata": {},
   "outputs": [
    {
     "name": "stdout",
     "output_type": "stream",
     "text": [
      "False\n",
      "False\n",
      "True\n",
      "True\n",
      "True\n"
     ]
    }
   ],
   "source": [
    "v1, v2 = True, False\n",
    "print(v1 and v2)\n",
    "print(v1 & v2)\n",
    "print(v1 or v2)\n",
    "print(v1 | v2)\n",
    "print(not v2)\n",
    "#print(!v1)\n"
   ]
  },
  {
   "cell_type": "markdown",
   "id": "971ecb0c",
   "metadata": {},
   "source": [
    " * Bitwise operators\n",
    "     - this acts like an opetors as if they were string of binary digits it operats bit by bit"
   ]
  },
  {
   "cell_type": "code",
   "execution_count": 43,
   "id": "aeca27a9",
   "metadata": {},
   "outputs": [
    {
     "name": "stdout",
     "output_type": "stream",
     "text": [
      "3\n"
     ]
    }
   ],
   "source": [
    "v1, v2 = 3,7\n",
    "print(v1 & v2) # bitwise AND - 0000 0011 & 0000 0111 RESUTL WOUBLE BE - 0000 0011 (THATS 3)"
   ]
  },
  {
   "cell_type": "code",
   "execution_count": 44,
   "id": "2170108f",
   "metadata": {},
   "outputs": [
    {
     "name": "stdout",
     "output_type": "stream",
     "text": [
      "7\n"
     ]
    }
   ],
   "source": [
    "print(v1 | v2) # bitwise OR - 0000 0011 | 0000 0111 RESULT WOULD BE - 0000 0111 (THATS 7)\n"
   ]
  },
  {
   "cell_type": "code",
   "execution_count": 45,
   "id": "1c686999",
   "metadata": {},
   "outputs": [
    {
     "name": "stdout",
     "output_type": "stream",
     "text": [
      "4\n"
     ]
    }
   ],
   "source": [
    "print(v1 ^ v2)"
   ]
  },
  {
   "cell_type": "markdown",
   "id": "0136d497",
   "metadata": {},
   "source": [
    "### Python statements"
   ]
  },
  {
   "cell_type": "code",
   "execution_count": 46,
   "id": "8cfc8005",
   "metadata": {},
   "outputs": [
    {
     "ename": "SyntaxError",
     "evalue": "invalid syntax (153636317.py, line 2)",
     "output_type": "error",
     "traceback": [
      "\u001b[1;36m  File \u001b[1;32m\"C:\\Users\\neroy\\AppData\\Local\\Temp\\ipykernel_1324\\153636317.py\"\u001b[1;36m, line \u001b[1;32m2\u001b[0m\n\u001b[1;33m    number = 10 + 20 + 30 +\u001b[0m\n\u001b[1;37m                           ^\u001b[0m\n\u001b[1;31mSyntaxError\u001b[0m\u001b[1;31m:\u001b[0m invalid syntax\n"
     ]
    }
   ],
   "source": [
    "# multiple line statement\n",
    "number = 10 + 20 + 30 +\n",
    "        40 + 50 + 60 + \n",
    "        70 + 80 + 90 +\n",
    "        100"
   ]
  },
  {
   "cell_type": "code",
   "execution_count": 48,
   "id": "f49f06bb",
   "metadata": {},
   "outputs": [
    {
     "name": "stdout",
     "output_type": "stream",
     "text": [
      "550\n"
     ]
    }
   ],
   "source": [
    "# multiple line statement\n",
    "number = 10 + 20 + 30 + \\\n",
    "        40 + 50 + 60 + \\\n",
    "        70 + 80 + 90 + \\\n",
    "        100\n",
    "print(number)"
   ]
  },
  {
   "cell_type": "code",
   "execution_count": 49,
   "id": "27654fa6",
   "metadata": {},
   "outputs": [
    {
     "name": "stdout",
     "output_type": "stream",
     "text": [
      "550\n"
     ]
    }
   ],
   "source": [
    "# multiple line statement\n",
    "number =(10 + 20 + 30 +\n",
    "        40 + 50 + 60 + \n",
    "        70 + 80 + 90 +\n",
    "        100)\n",
    "print(number)"
   ]
  },
  {
   "cell_type": "markdown",
   "id": "e661943b",
   "metadata": {},
   "source": [
    "### Python Indentation"
   ]
  },
  {
   "cell_type": "code",
   "execution_count": 50,
   "id": "e0924a16",
   "metadata": {},
   "outputs": [
    {
     "ename": "IndentationError",
     "evalue": "unexpected indent (2418995807.py, line 2)",
     "output_type": "error",
     "traceback": [
      "\u001b[1;36m  File \u001b[1;32m\"C:\\Users\\neroy\\AppData\\Local\\Temp\\ipykernel_1324\\2418995807.py\"\u001b[1;36m, line \u001b[1;32m2\u001b[0m\n\u001b[1;33m    v2 =12\u001b[0m\n\u001b[1;37m    ^\u001b[0m\n\u001b[1;31mIndentationError\u001b[0m\u001b[1;31m:\u001b[0m unexpected indent\n"
     ]
    }
   ],
   "source": [
    "v1 = 10\n",
    "    v2 =12"
   ]
  },
  {
   "cell_type": "code",
   "execution_count": 51,
   "id": "3c2ab5b1",
   "metadata": {},
   "outputs": [
    {
     "ename": "IndentationError",
     "evalue": "expected an indented block (3762957064.py, line 2)",
     "output_type": "error",
     "traceback": [
      "\u001b[1;36m  File \u001b[1;32m\"C:\\Users\\neroy\\AppData\\Local\\Temp\\ipykernel_1324\\3762957064.py\"\u001b[1;36m, line \u001b[1;32m2\u001b[0m\n\u001b[1;33m    print(v2)\u001b[0m\n\u001b[1;37m    ^\u001b[0m\n\u001b[1;31mIndentationError\u001b[0m\u001b[1;31m:\u001b[0m expected an indented block\n"
     ]
    }
   ],
   "source": [
    "if v1 == 10:\n",
    "print(v2)"
   ]
  },
  {
   "cell_type": "markdown",
   "id": "e9944a96",
   "metadata": {},
   "source": [
    "### Conditional statement\n",
    "    * Control or conditional statement allow to check conditions and change the behaviour of a progarm"
   ]
  },
  {
   "cell_type": "code",
   "execution_count": 54,
   "id": "c6901c00",
   "metadata": {},
   "outputs": [
    {
     "name": "stdout",
     "output_type": "stream",
     "text": [
      "Number is less than default nubmber\n",
      "within the if block \n",
      "\n",
      "This is defualt print statement, it has nothing to do with if statement\n"
     ]
    }
   ],
   "source": [
    "number = 25\n",
    "\n",
    "if number <30:\n",
    "    print(\"Number is less than default nubmber\")\n",
    "    print(\"within the if block \\n\")\n",
    "print(\"This is defualt print statement, it has nothing to do with if statement\")"
   ]
  },
  {
   "cell_type": "code",
   "execution_count": 56,
   "id": "048d3943",
   "metadata": {},
   "outputs": [
    {
     "name": "stdout",
     "output_type": "stream",
     "text": [
      "You are an adult, juvenile crime doesn't apply on you\n"
     ]
    }
   ],
   "source": [
    "age = 21\n",
    "if age > 18:\n",
    "    print(\"You are an adult, juvenile crime doesn't apply on you\")\n",
    "else:\n",
    "    print(\"You are a kid, you comes under juvenile crime\")"
   ]
  },
  {
   "cell_type": "code",
   "execution_count": 58,
   "id": "741aceea",
   "metadata": {},
   "outputs": [
    {
     "name": "stdout",
     "output_type": "stream",
     "text": [
      "Adult\n",
      "This is default print & will always get excuted\n"
     ]
    }
   ],
   "source": [
    "#nested if statement\n",
    "age = 21\n",
    "\n",
    "if age >= 13:\n",
    "    if age<=19:\n",
    "        print(\"teenager\")\n",
    "    else:\n",
    "        print(\"Adult\")\n",
    "else:\n",
    "    print(\"child\")\n",
    "print(\"This is default print & will always get excuted\")"
   ]
  },
  {
   "cell_type": "code",
   "execution_count": 59,
   "id": "ca17809f",
   "metadata": {},
   "outputs": [
    {
     "name": "stdout",
     "output_type": "stream",
     "text": [
      "enter the age of the user? 24\n",
      "Adult\n",
      "This is default print & will always get excuted\n"
     ]
    }
   ],
   "source": [
    "#nested if statement\n",
    "age = int(input(\"enter the age of the user? \"))\n",
    "\n",
    "if age >= 13:\n",
    "    if age<=19:\n",
    "        print(\"teenager\")\n",
    "    else:\n",
    "        print(\"Adult\")\n",
    "else:\n",
    "    print(\"child\")\n",
    "print(\"This is default print & will always get excuted\")"
   ]
  },
  {
   "cell_type": "code",
   "execution_count": 61,
   "id": "c8719996",
   "metadata": {},
   "outputs": [
    {
     "name": "stdout",
     "output_type": "stream",
     "text": [
      "enter the marks of the student34\n",
      "better luch next time!, Grade E\n"
     ]
    }
   ],
   "source": [
    "marks = int(input(\"enter the marks of the student\"))\n",
    "\n",
    "if marks >= 90:\n",
    "    print(\"Good!, Grade A\")\n",
    "elif 90 <= marks >= 80:\n",
    "    print(\"Did well, keep it up! Grade B\")\n",
    "elif 80 <= marks >= 70:\n",
    "    print(\"Not bad!, Grade C\")\n",
    "elif 70 <= marks >= 60:\n",
    "    print(\"push hard!, Grade D\")\n",
    "else:\n",
    "    print(\"better luch next time!, Grade E\")\n",
    "    "
   ]
  },
  {
   "cell_type": "markdown",
   "id": "322d6c85",
   "metadata": {},
   "source": [
    "### Ternary Operators\n",
    "    * Ternary oeprators also known as conditional statement, test a condition in a single line, replacing multiple line if...else This makes code compact"
   ]
  },
  {
   "cell_type": "code",
   "execution_count": 62,
   "id": "dfba15d5",
   "metadata": {
    "scrolled": false
   },
   "outputs": [
    {
     "ename": "NameError",
     "evalue": "name 'expression' is not defined",
     "output_type": "error",
     "traceback": [
      "\u001b[1;31m---------------------------------------------------------------------------\u001b[0m",
      "\u001b[1;31mNameError\u001b[0m                                 Traceback (most recent call last)",
      "\u001b[1;32m~\\AppData\\Local\\Temp\\ipykernel_1324\\690278155.py\u001b[0m in \u001b[0;36m<module>\u001b[1;34m\u001b[0m\n\u001b[1;32m----> 1\u001b[1;33m \u001b[0mSyntax\u001b[0m\u001b[1;33m:\u001b[0m \u001b[1;33m[\u001b[0m\u001b[0mon_true\u001b[0m\u001b[1;33m]\u001b[0m \u001b[1;32mif\u001b[0m \u001b[1;33m[\u001b[0m\u001b[0mexpression\u001b[0m\u001b[1;33m]\u001b[0m \u001b[1;32melse\u001b[0m \u001b[1;33m[\u001b[0m\u001b[0mon_false\u001b[0m\u001b[1;33m]\u001b[0m\u001b[1;33m\u001b[0m\u001b[1;33m\u001b[0m\u001b[0m\n\u001b[0m",
      "\u001b[1;31mNameError\u001b[0m: name 'expression' is not defined"
     ]
    }
   ],
   "source": [
    "Syntax: [on_true] if [expression] else [on_false]"
   ]
  },
  {
   "cell_type": "code",
   "execution_count": 63,
   "id": "6ebff42c",
   "metadata": {},
   "outputs": [
    {
     "name": "stdout",
     "output_type": "stream",
     "text": [
      "20\n"
     ]
    }
   ],
   "source": [
    "a,b = 10, 20\n",
    "max = a if a>b else b\n",
    "print(max)"
   ]
  },
  {
   "cell_type": "code",
   "execution_count": 64,
   "id": "db678abe",
   "metadata": {},
   "outputs": [
    {
     "name": "stdout",
     "output_type": "stream",
     "text": [
      "20\n"
     ]
    }
   ],
   "source": [
    "a,b = 10, 20\n",
    "print(a if a>b else b)\n",
    "#print(max)"
   ]
  },
  {
   "cell_type": "code",
   "execution_count": 68,
   "id": "d7802855",
   "metadata": {
    "scrolled": true
   },
   "outputs": [
    {
     "name": "stdout",
     "output_type": "stream",
     "text": [
      "enter age? 35\n",
      "Adult\n"
     ]
    }
   ],
   "source": [
    "age = int(input(\"enter age? \"))\n",
    "\n",
    "print(\"Adult\" if age>=18 else \"Child\")"
   ]
  },
  {
   "cell_type": "code",
   "execution_count": 70,
   "id": "04f5c2c1",
   "metadata": {},
   "outputs": [
    {
     "ename": "SyntaxError",
     "evalue": "invalid syntax (48933926.py, line 3)",
     "output_type": "error",
     "traceback": [
      "\u001b[1;36m  File \u001b[1;32m\"C:\\Users\\neroy\\AppData\\Local\\Temp\\ipykernel_1324\\48933926.py\"\u001b[1;36m, line \u001b[1;32m3\u001b[0m\n\u001b[1;33m    print(\"Adult\" if (age = int(input(\"enter\")) >=18) else \"Child\")\u001b[0m\n\u001b[1;37m                          ^\u001b[0m\n\u001b[1;31mSyntaxError\u001b[0m\u001b[1;31m:\u001b[0m invalid syntax\n"
     ]
    }
   ],
   "source": [
    "#age = int(input(\"enter age? \"))\n",
    "\n",
    "print(\"Adult\" if (age = int(input(\"enter\")) >=18) else \"Child\")"
   ]
  },
  {
   "cell_type": "code",
   "execution_count": 74,
   "id": "775151b6",
   "metadata": {},
   "outputs": [
    {
     "ename": "SyntaxError",
     "evalue": "invalid syntax (3953263011.py, line 1)",
     "output_type": "error",
     "traceback": [
      "\u001b[1;36m  File \u001b[1;32m\"C:\\Users\\neroy\\AppData\\Local\\Temp\\ipykernel_1324\\3953263011.py\"\u001b[1;36m, line \u001b[1;32m1\u001b[0m\n\u001b[1;33m    if (age = int(input()) >12):\u001b[0m\n\u001b[1;37m            ^\u001b[0m\n\u001b[1;31mSyntaxError\u001b[0m\u001b[1;31m:\u001b[0m invalid syntax\n"
     ]
    }
   ],
   "source": [
    "if (age = int(input()) >12):\n",
    "    print(\"hello buddy\")"
   ]
  },
  {
   "cell_type": "markdown",
   "id": "ae8cb2a5",
   "metadata": {},
   "source": [
    "#### multiple if else statment in ternary operator"
   ]
  },
  {
   "cell_type": "code",
   "execution_count": 76,
   "id": "4a408b32",
   "metadata": {},
   "outputs": [
    {
     "ename": "NameError",
     "evalue": "name 'expression' is not defined",
     "output_type": "error",
     "traceback": [
      "\u001b[1;31m---------------------------------------------------------------------------\u001b[0m",
      "\u001b[1;31mNameError\u001b[0m                                 Traceback (most recent call last)",
      "\u001b[1;32m~\\AppData\\Local\\Temp\\ipykernel_1324\\577834938.py\u001b[0m in \u001b[0;36m<module>\u001b[1;34m\u001b[0m\n\u001b[1;32m----> 1\u001b[1;33m \u001b[0msyntax\u001b[0m \u001b[1;33m:\u001b[0m \u001b[1;33m[\u001b[0m\u001b[0mon_true\u001b[0m\u001b[1;33m]\u001b[0m \u001b[1;32mif\u001b[0m \u001b[1;33m[\u001b[0m\u001b[0mexpression\u001b[0m\u001b[1;33m]\u001b[0m \u001b[1;32melse\u001b[0m \u001b[1;33m[\u001b[0m\u001b[0mon_true\u001b[0m\u001b[1;33m]\u001b[0m \u001b[1;32mif\u001b[0m \u001b[1;33m[\u001b[0m\u001b[0mexpression\u001b[0m\u001b[1;33m]\u001b[0m \u001b[1;32melse\u001b[0m \u001b[1;33m[\u001b[0m\u001b[0mon_false\u001b[0m\u001b[1;33m]\u001b[0m\u001b[1;33m\u001b[0m\u001b[1;33m\u001b[0m\u001b[0m\n\u001b[0m",
      "\u001b[1;31mNameError\u001b[0m: name 'expression' is not defined"
     ]
    }
   ],
   "source": [
    "syntax : [on_true] if [expression] else [on_true] if [expression] else [on_false]"
   ]
  },
  {
   "cell_type": "code",
   "execution_count": 75,
   "id": "6fec88b0",
   "metadata": {},
   "outputs": [
    {
     "name": "stdout",
     "output_type": "stream",
     "text": [
      "enter brother age? 22\n",
      "enter sister age ?23\n",
      "sister is elder\n"
     ]
    }
   ],
   "source": [
    "b_age = int(input(\"enter brother age? \"))\n",
    "s_age = int(input(\"enter sister age ?\"))\n",
    "\n",
    "print(\"brother is elder\" if b-age > s_age else \"sister is elder\" if s_age> b_age  else \"both are twins\"  )"
   ]
  },
  {
   "cell_type": "markdown",
   "id": "7e1026e1",
   "metadata": {},
   "source": [
    "### While Loop\n",
    "    * use while loop to iterate over a block of code as long as the test ecpression is true or break statment is found"
   ]
  },
  {
   "cell_type": "code",
   "execution_count": 3,
   "id": "448dd0f8",
   "metadata": {},
   "outputs": [],
   "source": [
    "mylist  = [10,20,30,40,50,60,70,80,90]\n",
    "sums = 0\n",
    "index = 0\n",
    "while index < len(mylist):\n",
    "    sums = sums + mylist[index]\n",
    "    index += 1"
   ]
  },
  {
   "cell_type": "code",
   "execution_count": 4,
   "id": "65a81b5d",
   "metadata": {},
   "outputs": [
    {
     "name": "stdout",
     "output_type": "stream",
     "text": [
      "450\n"
     ]
    }
   ],
   "source": [
    "catch = 0\n",
    "for i in mylist:\n",
    "    catch = catch + i\n",
    "    \n",
    "print(catch)"
   ]
  },
  {
   "cell_type": "markdown",
   "id": "f81d9f03",
   "metadata": {},
   "source": [
    "### while loop with else\n",
    "    * while loop in python have an optional else part\n",
    "    * the satement in else will be executed when condition is not fullfilled anymore"
   ]
  },
  {
   "cell_type": "code",
   "execution_count": 9,
   "id": "28415a5a",
   "metadata": {},
   "outputs": [
    {
     "name": "stdout",
     "output_type": "stream",
     "text": [
      "-2\n",
      "sorry! that you are giving up!\n"
     ]
    }
   ],
   "source": [
    "guess_value = 5\n",
    "guess = 0\n",
    "\n",
    "while guess != guess_value:\n",
    "    guess = int(input())\n",
    "    if guess > 0:\n",
    "        if guess > guess_value:\n",
    "            print(\"number is too large\")\n",
    "        elif guess < guess_value:\n",
    "            print(\"number is too small\")\n",
    "    else:\n",
    "        print(\"sorry! that you are giving up!\")\n",
    "        break\n",
    "else:\n",
    "    print(\"Congratulation you made it!\")\n"
   ]
  },
  {
   "cell_type": "markdown",
   "id": "d827d429",
   "metadata": {},
   "source": [
    "### Find list of even digit number\n",
    "    Problem statement: WAP which will print all number betweeen 1000 and 300 (both included) such that each didgit of number is an even number"
   ]
  },
  {
   "cell_type": "code",
   "execution_count": 1,
   "id": "ee0c1952",
   "metadata": {},
   "outputs": [],
   "source": [
    "lt = []\n",
    "i = 1000\n",
    "while i <= 3000:\n",
    "    if i%2 == 0:\n",
    "        lt.append(i)\n",
    "    i += 1"
   ]
  },
  {
   "cell_type": "code",
   "execution_count": 5,
   "id": "15b702b2",
   "metadata": {},
   "outputs": [
    {
     "data": {
      "text/plain": [
       "1001"
      ]
     },
     "execution_count": 5,
     "metadata": {},
     "output_type": "execute_result"
    }
   ],
   "source": [
    "len(lt)"
   ]
  },
  {
   "cell_type": "markdown",
   "id": "14735eba",
   "metadata": {},
   "source": [
    "### For loop\n",
    "    * python for loop is an iterator based for loop it steps through the items of list, tuples, strings, ket of dictionaries and other iterables"
   ]
  },
  {
   "cell_type": "code",
   "execution_count": 6,
   "id": "43da5013",
   "metadata": {},
   "outputs": [],
   "source": [
    "new_list = []\n",
    "for i in range(1000,3001,2):\n",
    "    new_list.append(i)"
   ]
  },
  {
   "cell_type": "code",
   "execution_count": 8,
   "id": "fa6dcc91",
   "metadata": {},
   "outputs": [],
   "source": [
    "s_list = []\n",
    "for i in range(1000,3001):\n",
    "    if i % 2 == 0:\n",
    "        s_list.append(i)"
   ]
  },
  {
   "cell_type": "code",
   "execution_count": 9,
   "id": "64ac117c",
   "metadata": {},
   "outputs": [
    {
     "name": "stdout",
     "output_type": "stream",
     "text": [
      "[1000, 1002, 1004, 1006, 1008, 1010, 1012, 1014, 1016, 1018, 1020, 1022, 1024, 1026, 1028, 1030, 1032, 1034, 1036, 1038, 1040, 1042, 1044, 1046, 1048, 1050, 1052, 1054, 1056, 1058, 1060, 1062, 1064, 1066, 1068, 1070, 1072, 1074, 1076, 1078, 1080, 1082, 1084, 1086, 1088, 1090, 1092, 1094, 1096, 1098, 1100, 1102, 1104, 1106, 1108, 1110, 1112, 1114, 1116, 1118, 1120, 1122, 1124, 1126, 1128, 1130, 1132, 1134, 1136, 1138, 1140, 1142, 1144, 1146, 1148, 1150, 1152, 1154, 1156, 1158, 1160, 1162, 1164, 1166, 1168, 1170, 1172, 1174, 1176, 1178, 1180, 1182, 1184, 1186, 1188, 1190, 1192, 1194, 1196, 1198, 1200, 1202, 1204, 1206, 1208, 1210, 1212, 1214, 1216, 1218, 1220, 1222, 1224, 1226, 1228, 1230, 1232, 1234, 1236, 1238, 1240, 1242, 1244, 1246, 1248, 1250, 1252, 1254, 1256, 1258, 1260, 1262, 1264, 1266, 1268, 1270, 1272, 1274, 1276, 1278, 1280, 1282, 1284, 1286, 1288, 1290, 1292, 1294, 1296, 1298, 1300, 1302, 1304, 1306, 1308, 1310, 1312, 1314, 1316, 1318, 1320, 1322, 1324, 1326, 1328, 1330, 1332, 1334, 1336, 1338, 1340, 1342, 1344, 1346, 1348, 1350, 1352, 1354, 1356, 1358, 1360, 1362, 1364, 1366, 1368, 1370, 1372, 1374, 1376, 1378, 1380, 1382, 1384, 1386, 1388, 1390, 1392, 1394, 1396, 1398, 1400, 1402, 1404, 1406, 1408, 1410, 1412, 1414, 1416, 1418, 1420, 1422, 1424, 1426, 1428, 1430, 1432, 1434, 1436, 1438, 1440, 1442, 1444, 1446, 1448, 1450, 1452, 1454, 1456, 1458, 1460, 1462, 1464, 1466, 1468, 1470, 1472, 1474, 1476, 1478, 1480, 1482, 1484, 1486, 1488, 1490, 1492, 1494, 1496, 1498, 1500, 1502, 1504, 1506, 1508, 1510, 1512, 1514, 1516, 1518, 1520, 1522, 1524, 1526, 1528, 1530, 1532, 1534, 1536, 1538, 1540, 1542, 1544, 1546, 1548, 1550, 1552, 1554, 1556, 1558, 1560, 1562, 1564, 1566, 1568, 1570, 1572, 1574, 1576, 1578, 1580, 1582, 1584, 1586, 1588, 1590, 1592, 1594, 1596, 1598, 1600, 1602, 1604, 1606, 1608, 1610, 1612, 1614, 1616, 1618, 1620, 1622, 1624, 1626, 1628, 1630, 1632, 1634, 1636, 1638, 1640, 1642, 1644, 1646, 1648, 1650, 1652, 1654, 1656, 1658, 1660, 1662, 1664, 1666, 1668, 1670, 1672, 1674, 1676, 1678, 1680, 1682, 1684, 1686, 1688, 1690, 1692, 1694, 1696, 1698, 1700, 1702, 1704, 1706, 1708, 1710, 1712, 1714, 1716, 1718, 1720, 1722, 1724, 1726, 1728, 1730, 1732, 1734, 1736, 1738, 1740, 1742, 1744, 1746, 1748, 1750, 1752, 1754, 1756, 1758, 1760, 1762, 1764, 1766, 1768, 1770, 1772, 1774, 1776, 1778, 1780, 1782, 1784, 1786, 1788, 1790, 1792, 1794, 1796, 1798, 1800, 1802, 1804, 1806, 1808, 1810, 1812, 1814, 1816, 1818, 1820, 1822, 1824, 1826, 1828, 1830, 1832, 1834, 1836, 1838, 1840, 1842, 1844, 1846, 1848, 1850, 1852, 1854, 1856, 1858, 1860, 1862, 1864, 1866, 1868, 1870, 1872, 1874, 1876, 1878, 1880, 1882, 1884, 1886, 1888, 1890, 1892, 1894, 1896, 1898, 1900, 1902, 1904, 1906, 1908, 1910, 1912, 1914, 1916, 1918, 1920, 1922, 1924, 1926, 1928, 1930, 1932, 1934, 1936, 1938, 1940, 1942, 1944, 1946, 1948, 1950, 1952, 1954, 1956, 1958, 1960, 1962, 1964, 1966, 1968, 1970, 1972, 1974, 1976, 1978, 1980, 1982, 1984, 1986, 1988, 1990, 1992, 1994, 1996, 1998, 2000, 2002, 2004, 2006, 2008, 2010, 2012, 2014, 2016, 2018, 2020, 2022, 2024, 2026, 2028, 2030, 2032, 2034, 2036, 2038, 2040, 2042, 2044, 2046, 2048, 2050, 2052, 2054, 2056, 2058, 2060, 2062, 2064, 2066, 2068, 2070, 2072, 2074, 2076, 2078, 2080, 2082, 2084, 2086, 2088, 2090, 2092, 2094, 2096, 2098, 2100, 2102, 2104, 2106, 2108, 2110, 2112, 2114, 2116, 2118, 2120, 2122, 2124, 2126, 2128, 2130, 2132, 2134, 2136, 2138, 2140, 2142, 2144, 2146, 2148, 2150, 2152, 2154, 2156, 2158, 2160, 2162, 2164, 2166, 2168, 2170, 2172, 2174, 2176, 2178, 2180, 2182, 2184, 2186, 2188, 2190, 2192, 2194, 2196, 2198, 2200, 2202, 2204, 2206, 2208, 2210, 2212, 2214, 2216, 2218, 2220, 2222, 2224, 2226, 2228, 2230, 2232, 2234, 2236, 2238, 2240, 2242, 2244, 2246, 2248, 2250, 2252, 2254, 2256, 2258, 2260, 2262, 2264, 2266, 2268, 2270, 2272, 2274, 2276, 2278, 2280, 2282, 2284, 2286, 2288, 2290, 2292, 2294, 2296, 2298, 2300, 2302, 2304, 2306, 2308, 2310, 2312, 2314, 2316, 2318, 2320, 2322, 2324, 2326, 2328, 2330, 2332, 2334, 2336, 2338, 2340, 2342, 2344, 2346, 2348, 2350, 2352, 2354, 2356, 2358, 2360, 2362, 2364, 2366, 2368, 2370, 2372, 2374, 2376, 2378, 2380, 2382, 2384, 2386, 2388, 2390, 2392, 2394, 2396, 2398, 2400, 2402, 2404, 2406, 2408, 2410, 2412, 2414, 2416, 2418, 2420, 2422, 2424, 2426, 2428, 2430, 2432, 2434, 2436, 2438, 2440, 2442, 2444, 2446, 2448, 2450, 2452, 2454, 2456, 2458, 2460, 2462, 2464, 2466, 2468, 2470, 2472, 2474, 2476, 2478, 2480, 2482, 2484, 2486, 2488, 2490, 2492, 2494, 2496, 2498, 2500, 2502, 2504, 2506, 2508, 2510, 2512, 2514, 2516, 2518, 2520, 2522, 2524, 2526, 2528, 2530, 2532, 2534, 2536, 2538, 2540, 2542, 2544, 2546, 2548, 2550, 2552, 2554, 2556, 2558, 2560, 2562, 2564, 2566, 2568, 2570, 2572, 2574, 2576, 2578, 2580, 2582, 2584, 2586, 2588, 2590, 2592, 2594, 2596, 2598, 2600, 2602, 2604, 2606, 2608, 2610, 2612, 2614, 2616, 2618, 2620, 2622, 2624, 2626, 2628, 2630, 2632, 2634, 2636, 2638, 2640, 2642, 2644, 2646, 2648, 2650, 2652, 2654, 2656, 2658, 2660, 2662, 2664, 2666, 2668, 2670, 2672, 2674, 2676, 2678, 2680, 2682, 2684, 2686, 2688, 2690, 2692, 2694, 2696, 2698, 2700, 2702, 2704, 2706, 2708, 2710, 2712, 2714, 2716, 2718, 2720, 2722, 2724, 2726, 2728, 2730, 2732, 2734, 2736, 2738, 2740, 2742, 2744, 2746, 2748, 2750, 2752, 2754, 2756, 2758, 2760, 2762, 2764, 2766, 2768, 2770, 2772, 2774, 2776, 2778, 2780, 2782, 2784, 2786, 2788, 2790, 2792, 2794, 2796, 2798, 2800, 2802, 2804, 2806, 2808, 2810, 2812, 2814, 2816, 2818, 2820, 2822, 2824, 2826, 2828, 2830, 2832, 2834, 2836, 2838, 2840, 2842, 2844, 2846, 2848, 2850, 2852, 2854, 2856, 2858, 2860, 2862, 2864, 2866, 2868, 2870, 2872, 2874, 2876, 2878, 2880, 2882, 2884, 2886, 2888, 2890, 2892, 2894, 2896, 2898, 2900, 2902, 2904, 2906, 2908, 2910, 2912, 2914, 2916, 2918, 2920, 2922, 2924, 2926, 2928, 2930, 2932, 2934, 2936, 2938, 2940, 2942, 2944, 2946, 2948, 2950, 2952, 2954, 2956, 2958, 2960, 2962, 2964, 2966, 2968, 2970, 2972, 2974, 2976, 2978, 2980, 2982, 2984, 2986, 2988, 2990, 2992, 2994, 2996, 2998, 3000]\n"
     ]
    }
   ],
   "source": [
    "print(s_list)"
   ]
  },
  {
   "cell_type": "code",
   "execution_count": 10,
   "id": "24d03731",
   "metadata": {},
   "outputs": [],
   "source": [
    "list1 = []\n",
    "for i in range(1000,3001): i if i%2 !=0 else list1.append(i)"
   ]
  },
  {
   "cell_type": "code",
   "execution_count": 15,
   "id": "041472d1",
   "metadata": {},
   "outputs": [],
   "source": [
    "list2 = []\n",
    "for i in range(1,101): i if i%2 == 0 else list2.append(i)"
   ]
  },
  {
   "cell_type": "code",
   "execution_count": null,
   "id": "b59030f2",
   "metadata": {},
   "outputs": [],
   "source": [
    "list3 = []\n",
    "for i in range(2,int(101/2)+1):\n",
    "\n",
    "    "
   ]
  },
  {
   "cell_type": "code",
   "execution_count": 25,
   "id": "ae9f68f8",
   "metadata": {},
   "outputs": [
    {
     "name": "stdout",
     "output_type": "stream",
     "text": [
      "not a prime number\n"
     ]
    }
   ],
   "source": [
    "list4 = []\n",
    "for j in range(1,101):\n",
    "    if j == 1:\n",
    "        print(\"1 not a prime number\")\n",
    "    else:\n",
    "        for i in range(2,int(j/2)+1):\n",
    "            if (j%i) == 0:\n",
    "                #print(j,\"not a prime number\")\n",
    "                break\n",
    "        else:\n",
    "            #print(\"its a prime number\",j)\n",
    "            list4.append(j)"
   ]
  },
  {
   "cell_type": "code",
   "execution_count": 26,
   "id": "787a032f",
   "metadata": {},
   "outputs": [
    {
     "data": {
      "text/plain": [
       "[2,\n",
       " 3,\n",
       " 5,\n",
       " 7,\n",
       " 11,\n",
       " 13,\n",
       " 17,\n",
       " 19,\n",
       " 23,\n",
       " 29,\n",
       " 31,\n",
       " 37,\n",
       " 41,\n",
       " 43,\n",
       " 47,\n",
       " 53,\n",
       " 59,\n",
       " 61,\n",
       " 67,\n",
       " 71,\n",
       " 73,\n",
       " 79,\n",
       " 83,\n",
       " 89,\n",
       " 97]"
      ]
     },
     "execution_count": 26,
     "metadata": {},
     "output_type": "execute_result"
    }
   ],
   "source": [
    "list4"
   ]
  },
  {
   "cell_type": "markdown",
   "id": "57e4b037",
   "metadata": {},
   "source": [
    "### Loop and dictionary excerises"
   ]
  },
  {
   "cell_type": "markdown",
   "id": "a1887d94",
   "metadata": {},
   "source": [
    "keys = ['M','A','N','G']\n",
    "values = ['meta','apple','netflix','google']\n",
    "#expected output\n",
    "{'M':'meta','A':'apple so on'}"
   ]
  },
  {
   "cell_type": "code",
   "execution_count": 28,
   "id": "ce8fe4c3",
   "metadata": {},
   "outputs": [
    {
     "name": "stdout",
     "output_type": "stream",
     "text": [
      "{'M': 'meta', 'A': 'apple', 'N': 'netflix', 'G': 'google'}\n"
     ]
    }
   ],
   "source": [
    "keys = ['M','A','N','G']\n",
    "values = ['meta','apple','netflix','google']\n",
    "mang_company = dict(zip(keys,values))\n",
    "print(mang_company)"
   ]
  },
  {
   "cell_type": "code",
   "execution_count": 45,
   "id": "8ce869f1",
   "metadata": {},
   "outputs": [
    {
     "name": "stdout",
     "output_type": "stream",
     "text": [
      "M meta\n",
      "A apple\n",
      "N netflix\n",
      "G google\n"
     ]
    }
   ],
   "source": [
    "for i in mang_company:\n",
    "    print(i, mang_company[i])"
   ]
  },
  {
   "cell_type": "code",
   "execution_count": 55,
   "id": "5c33b5a7",
   "metadata": {},
   "outputs": [
    {
     "ename": "TypeError",
     "evalue": "'list' object cannot be interpreted as an integer",
     "output_type": "error",
     "traceback": [
      "\u001b[1;31m---------------------------------------------------------------------------\u001b[0m",
      "\u001b[1;31mTypeError\u001b[0m                                 Traceback (most recent call last)",
      "\u001b[1;32m~\\AppData\\Local\\Temp\\ipykernel_15436\\160933747.py\u001b[0m in \u001b[0;36m<module>\u001b[1;34m\u001b[0m\n\u001b[1;32m----> 1\u001b[1;33m \u001b[1;32mfor\u001b[0m \u001b[0mi\u001b[0m\u001b[1;33m,\u001b[0m \u001b[0mj\u001b[0m \u001b[1;32min\u001b[0m \u001b[0menumerate\u001b[0m\u001b[1;33m(\u001b[0m\u001b[0mkeys\u001b[0m\u001b[1;33m,\u001b[0m\u001b[0mvalues\u001b[0m\u001b[1;33m)\u001b[0m\u001b[1;33m:\u001b[0m\u001b[1;33m\u001b[0m\u001b[1;33m\u001b[0m\u001b[0m\n\u001b[0m\u001b[0;32m      2\u001b[0m     \u001b[0mprint\u001b[0m\u001b[1;33m(\u001b[0m\u001b[0mi\u001b[0m\u001b[1;33m,\u001b[0m\u001b[0mj\u001b[0m\u001b[1;33m)\u001b[0m\u001b[1;33m\u001b[0m\u001b[1;33m\u001b[0m\u001b[0m\n",
      "\u001b[1;31mTypeError\u001b[0m: 'list' object cannot be interpreted as an integer"
     ]
    }
   ],
   "source": [
    "for i, j in enumerate(keys,values):\n",
    "    print(i,j)"
   ]
  },
  {
   "cell_type": "code",
   "execution_count": 63,
   "id": "8a0d6f4f",
   "metadata": {},
   "outputs": [
    {
     "name": "stdout",
     "output_type": "stream",
     "text": [
      "0.0\n"
     ]
    }
   ],
   "source": [
    "dict_1 = {}\n",
    "start2 = time.time()\n",
    "for i in range(len(keys)):\n",
    "    dict_1[keys[i]] = values[i]\n",
    "duration2 = time.time() - start2\n",
    "print(duration2)"
   ]
  },
  {
   "cell_type": "code",
   "execution_count": 54,
   "id": "7dbce003",
   "metadata": {},
   "outputs": [
    {
     "data": {
      "text/plain": [
       "{'M': 'meta', 'A': 'apple', 'N': 'netflix', 'G': 'google'}"
      ]
     },
     "execution_count": 54,
     "metadata": {},
     "output_type": "execute_result"
    }
   ],
   "source": [
    "dict_1"
   ]
  },
  {
   "cell_type": "code",
   "execution_count": 65,
   "id": "007f8578",
   "metadata": {},
   "outputs": [
    {
     "name": "stdout",
     "output_type": "stream",
     "text": [
      "0.0\n",
      "{'M': 'meta', 'A': 'apple', 'N': 'netflix', 'G': 'google'}\n"
     ]
    }
   ],
   "source": [
    "dic1 = {}\n",
    "#start timestamp\n",
    "start1 = time.time()\n",
    "for i,j in enumerate(values):\n",
    "    #print(keys[i],j)\n",
    "    dic1.update({keys[i]:j})\n",
    "duration1 = time.time() - start1\n",
    "print(duration1)\n",
    "print(dic1)"
   ]
  },
  {
   "cell_type": "code",
   "execution_count": 61,
   "id": "05d9d053",
   "metadata": {},
   "outputs": [
    {
     "data": {
      "text/plain": [
       "1677230377.200758"
      ]
     },
     "execution_count": 61,
     "metadata": {},
     "output_type": "execute_result"
    }
   ],
   "source": [
    "import time\n",
    "time.time()"
   ]
  },
  {
   "cell_type": "code",
   "execution_count": null,
   "id": "8786ea69",
   "metadata": {},
   "outputs": [],
   "source": [
    "time.time()"
   ]
  },
  {
   "cell_type": "markdown",
   "id": "95e17d5d",
   "metadata": {},
   "source": [
    "### Exercise: create a dictionary by extracting the keys from a given dictionary"
   ]
  },
  {
   "cell_type": "code",
   "execution_count": 75,
   "id": "426703cc",
   "metadata": {},
   "outputs": [],
   "source": [
    "s_dic = {\n",
    "    'name':'x',\n",
    "    'age':'12',\n",
    "    'loc':'hyd',\n",
    "    'salary':200\n",
    "}"
   ]
  },
  {
   "cell_type": "code",
   "execution_count": 78,
   "id": "5e93c8d8",
   "metadata": {},
   "outputs": [],
   "source": [
    "keys = ['name','salary']\n",
    "f_dic = {}\n",
    "m_dic={}\n",
    "for i in keys:\n",
    "    f_dic[i] = s_dic[i]\n",
    "    "
   ]
  },
  {
   "cell_type": "code",
   "execution_count": 77,
   "id": "03ee08be",
   "metadata": {},
   "outputs": [
    {
     "data": {
      "text/plain": [
       "{'name': 'x', 'salary': 200}"
      ]
     },
     "execution_count": 77,
     "metadata": {},
     "output_type": "execute_result"
    }
   ],
   "source": [
    "f_dic"
   ]
  },
  {
   "cell_type": "code",
   "execution_count": 79,
   "id": "f4c3f3f8",
   "metadata": {},
   "outputs": [],
   "source": [
    "for i in keys: m_dic.update({i:s_dic[i]})"
   ]
  },
  {
   "cell_type": "code",
   "execution_count": 80,
   "id": "d1ba024d",
   "metadata": {},
   "outputs": [
    {
     "data": {
      "text/plain": [
       "{'name': 'x', 'salary': 200}"
      ]
     },
     "execution_count": 80,
     "metadata": {},
     "output_type": "execute_result"
    }
   ],
   "source": [
    "m_dic"
   ]
  },
  {
   "cell_type": "code",
   "execution_count": 81,
   "id": "a76ded2d",
   "metadata": {},
   "outputs": [
    {
     "data": {
      "text/plain": [
       "{'name': 'x', 'salary': 200}"
      ]
     },
     "execution_count": 81,
     "metadata": {},
     "output_type": "execute_result"
    }
   ],
   "source": [
    "new_dic = {k:s_dic[k] for k in keys}\n",
    "new_dic\n"
   ]
  },
  {
   "cell_type": "markdown",
   "id": "6fe48613",
   "metadata": {},
   "source": [
    "### scan all keys from dictionary and get a key will minimum value"
   ]
  },
  {
   "cell_type": "code",
   "execution_count": 86,
   "id": "d30ea499",
   "metadata": {},
   "outputs": [
    {
     "name": "stdout",
     "output_type": "stream",
     "text": [
      "c\n"
     ]
    }
   ],
   "source": [
    "marks = {\n",
    "    'a':23,\n",
    "    'b':77,\n",
    "    'c':12,\n",
    "    'd':21,\n",
    "    'e':56\n",
    "}\n",
    "\n",
    "print(min(marks,key = marks.get))"
   ]
  },
  {
   "cell_type": "code",
   "execution_count": 89,
   "id": "05eb464f",
   "metadata": {},
   "outputs": [
    {
     "data": {
      "text/plain": [
       "189"
      ]
     },
     "execution_count": 89,
     "metadata": {},
     "output_type": "execute_result"
    }
   ],
   "source": [
    "sum(marks[i] for i in marks)"
   ]
  },
  {
   "cell_type": "markdown",
   "id": "23db9278",
   "metadata": {},
   "source": [
    "### find frequency of each word from a given input string"
   ]
  },
  {
   "cell_type": "code",
   "execution_count": 107,
   "id": "5438bd2e",
   "metadata": {},
   "outputs": [],
   "source": [
    "sample_str = \"mumabi delhi hyderabad bareilly delhi kolkata chandigarh hyderabad bareilly bareilly bareilly delhi dhanbad kolkata\"\n",
    "\n",
    "lt = []\n",
    "lt = sample_str.split(' ')"
   ]
  },
  {
   "cell_type": "code",
   "execution_count": 106,
   "id": "3f19449e",
   "metadata": {
    "collapsed": true
   },
   "outputs": [
    {
     "name": "stdout",
     "output_type": "stream",
     "text": [
      "mumabi 1\n",
      "delhi 3\n",
      "hyderabd 1\n",
      "bareilly 4\n",
      "delhi 3\n",
      "kolkata 2\n",
      "chandigarh 1\n",
      "hyderabad 1\n",
      "bareilly 4\n",
      "bareilly 4\n",
      "bareilly 4\n",
      "delhi 3\n",
      "dhanbad 1\n",
      "kolkata 2\n"
     ]
    }
   ],
   "source": [
    "for i in lt:\n",
    "    print(i,lt.count(i))"
   ]
  },
  {
   "cell_type": "code",
   "execution_count": 109,
   "id": "2315409d",
   "metadata": {},
   "outputs": [],
   "source": [
    "sam_dic = {}\n",
    "for i in lt:\n",
    "    sam_dic[i] = lt.count(i)"
   ]
  },
  {
   "cell_type": "code",
   "execution_count": 110,
   "id": "daf09335",
   "metadata": {},
   "outputs": [
    {
     "data": {
      "text/plain": [
       "{'mumabi': 1,\n",
       " 'delhi': 3,\n",
       " 'hyderabad': 2,\n",
       " 'bareilly': 4,\n",
       " 'kolkata': 2,\n",
       " 'chandigarh': 1,\n",
       " 'dhanbad': 1}"
      ]
     },
     "execution_count": 110,
     "metadata": {},
     "output_type": "execute_result"
    }
   ],
   "source": [
    "sam_dic"
   ]
  },
  {
   "cell_type": "markdown",
   "id": "3c6bbf6c",
   "metadata": {},
   "source": [
    "### Functions\n",
    "    * In programming, we define a function to make reusable code that prefers similar operations It is block of organized code written to perform a specific taks\n",
    "    * Information can be passed into fucntiona as arguments\n",
    "    * parameters are specific after the function name within paranthesis. function_name(arg1,arg2....)\n",
    "    * a function in python is declared using def keyword\n",
    "    * a function may or may not return data"
   ]
  },
  {
   "cell_type": "code",
   "execution_count": 112,
   "id": "bc74d023",
   "metadata": {},
   "outputs": [
    {
     "name": "stdout",
     "output_type": "stream",
     "text": [
      "Hello python lovers!\n"
     ]
    }
   ],
   "source": [
    "#declaration of function\n",
    "def myfunc():\n",
    "    print(\"Hello python lovers!\")\n",
    "\n",
    "#calling function\n",
    "myfunc()"
   ]
  },
  {
   "cell_type": "code",
   "execution_count": 117,
   "id": "2e50be53",
   "metadata": {},
   "outputs": [
    {
     "name": "stdout",
     "output_type": "stream",
     "text": [
      "hello Neel good evening\n"
     ]
    }
   ],
   "source": [
    "def greeting(name):\n",
    "    '''\n",
    "    hello, this is the documentation of this function'''\n",
    "    print('hello '+ str(name)+ \" good evening\")\n",
    "\n",
    "greeting(\"Neel\")"
   ]
  },
  {
   "cell_type": "code",
   "execution_count": 118,
   "id": "2d1738bb",
   "metadata": {},
   "outputs": [
    {
     "name": "stdout",
     "output_type": "stream",
     "text": [
      "print(value, ..., sep=' ', end='\\n', file=sys.stdout, flush=False)\n",
      "\n",
      "Prints the values to a stream, or to sys.stdout by default.\n",
      "Optional keyword arguments:\n",
      "file:  a file-like object (stream); defaults to the current sys.stdout.\n",
      "sep:   string inserted between values, default a space.\n",
      "end:   string appended after the last value, default a newline.\n",
      "flush: whether to forcibly flush the stream.\n"
     ]
    }
   ],
   "source": [
    "print(print.__doc__)"
   ]
  },
  {
   "cell_type": "code",
   "execution_count": 119,
   "id": "4264a4a4",
   "metadata": {},
   "outputs": [
    {
     "name": "stdout",
     "output_type": "stream",
     "text": [
      "\n",
      "    hello, this is the documentation of this function\n"
     ]
    }
   ],
   "source": [
    "# __doc__ use this to get document of method/function/classes\n",
    "print(greeting.__doc__)"
   ]
  },
  {
   "cell_type": "code",
   "execution_count": 126,
   "id": "b7fc4a9e",
   "metadata": {},
   "outputs": [
    {
     "name": "stdout",
     "output_type": "stream",
     "text": [
      "sum of two argument are : 30.00\n"
     ]
    }
   ],
   "source": [
    "def add(var1,var2):\n",
    "    var3 = var1 + var2\n",
    "    print('sum of two argument are : %.2f'%var3)\n",
    "\n",
    "add(10,20)"
   ]
  },
  {
   "cell_type": "code",
   "execution_count": 151,
   "id": "a71d75e0",
   "metadata": {},
   "outputs": [],
   "source": [
    "def add(var1,var2):\n",
    "    var3 = var1 + var2\n",
    "    #print('sum of two argument are : %d'%var3)\n",
    "    print(var3)\n",
    "#add(19,28.987)"
   ]
  },
  {
   "cell_type": "code",
   "execution_count": 152,
   "id": "cc96077b",
   "metadata": {},
   "outputs": [],
   "source": [
    "def sub(var1,var2):\n",
    "    var3 = abs(var1 - var2)\n",
    "    #print('sum of two argument are : %d'%var3)\n",
    "    print(var3)\n",
    "#add(19,28.987)"
   ]
  },
  {
   "cell_type": "code",
   "execution_count": 153,
   "id": "640da1dc",
   "metadata": {},
   "outputs": [],
   "source": [
    "def mul(var1,var2):\n",
    "    var3 = var1*var2\n",
    "    #print('sum of two argument are : %d'%var3)\n",
    "    print( var3)\n",
    "#add(19,28.987)"
   ]
  },
  {
   "cell_type": "code",
   "execution_count": 131,
   "id": "01536669",
   "metadata": {},
   "outputs": [],
   "source": [
    "def div(var1,var2):\n",
    "    \n",
    "    var3 = var1/var2\n",
    "    #print('sum of two argument are : %d'%var3)\n",
    "    return var3\n",
    "#add(19,28.987)"
   ]
  },
  {
   "cell_type": "code",
   "execution_count": 132,
   "id": "e758b7e6",
   "metadata": {},
   "outputs": [],
   "source": [
    "def md(var1,var2):\n",
    "    var3 = var1%var2\n",
    "    #print('sum of two argument are : %d'%var3)\n",
    "    return var3\n",
    "#add(19,28.987)"
   ]
  },
  {
   "cell_type": "code",
   "execution_count": 127,
   "id": "d71db6c2",
   "metadata": {},
   "outputs": [
    {
     "data": {
      "text/plain": [
       "'hello raju good evening!'"
      ]
     },
     "execution_count": 127,
     "metadata": {},
     "output_type": "execute_result"
    }
   ],
   "source": [
    "#return type function\n",
    "def greeting(name):\n",
    "    statement = 'hello ' + name +' good evening!'\n",
    "    return statement\n",
    "\n",
    "#calling a function\n",
    "greeting('raju')"
   ]
  },
  {
   "cell_type": "markdown",
   "id": "5fcee2ab",
   "metadata": {},
   "source": [
    "### create a function calculator which takes 3 parameters two numbers and one operator"
   ]
  },
  {
   "cell_type": "code",
   "execution_count": 133,
   "id": "fb99d40f",
   "metadata": {},
   "outputs": [],
   "source": [
    "def calculator(val1, val2, op):\n",
    "    if op == 'additon':\n",
    "        result = add(val1,val2)\n",
    "    if op == 'subtraction':\n",
    "        result = sub(val1,val2)\n",
    "    if op == 'multiplication':\n",
    "        result = mul(val1,val2)\n",
    "    if op == 'division':\n",
    "        result  = div(val1,val2)\n",
    "    if op == 'modulas':\n",
    "        result = md(val1,val2)\n",
    "    \n",
    "    print(result)"
   ]
  },
  {
   "cell_type": "code",
   "execution_count": 143,
   "id": "964440f1",
   "metadata": {},
   "outputs": [
    {
     "name": "stdout",
     "output_type": "stream",
     "text": [
      "enter the value of v1: 5\n",
      "enter the value of v2: 6\n",
      "enter the operator additon\n"
     ]
    }
   ],
   "source": [
    "v1, v2, op  = int(input(\"enter the value of v1: \")), int(input(\"enter the value of v2: \")), input(\"enter the operator \")"
   ]
  },
  {
   "cell_type": "code",
   "execution_count": 134,
   "id": "b679d8f9",
   "metadata": {},
   "outputs": [
    {
     "name": "stdout",
     "output_type": "stream",
     "text": [
      "12\n"
     ]
    }
   ],
   "source": [
    "calculator(2,6,'multiplication')"
   ]
  },
  {
   "cell_type": "code",
   "execution_count": 144,
   "id": "bdd7d9d9",
   "metadata": {},
   "outputs": [
    {
     "name": "stdout",
     "output_type": "stream",
     "text": [
      "11\n"
     ]
    }
   ],
   "source": [
    "calculator(v1,v2,op)"
   ]
  },
  {
   "cell_type": "code",
   "execution_count": 154,
   "id": "f4932564",
   "metadata": {},
   "outputs": [],
   "source": [
    "def calculator(val1,val2,op): add(val1,val2) if op == 'addition' else sub(val1,val2) if op == 'subtraction' else mul(val1,val2) if op == 'multiplication' else print(\"invalud\")"
   ]
  },
  {
   "cell_type": "code",
   "execution_count": 155,
   "id": "51d39adf",
   "metadata": {},
   "outputs": [
    {
     "name": "stdout",
     "output_type": "stream",
     "text": [
      "5\n"
     ]
    }
   ],
   "source": [
    "calculator(2,3,'addition')"
   ]
  },
  {
   "cell_type": "markdown",
   "id": "42978ea0",
   "metadata": {},
   "source": [
    "### Scope of the variable\n"
   ]
  },
  {
   "cell_type": "code",
   "execution_count": 156,
   "id": "f964356e",
   "metadata": {},
   "outputs": [
    {
     "name": "stdout",
     "output_type": "stream",
     "text": [
      "inner variable\n"
     ]
    }
   ],
   "source": [
    "var ='global varibale'\n",
    "\n",
    "def inner():\n",
    "    var='inner variable'\n",
    "    print(var)\n",
    "inner()"
   ]
  },
  {
   "cell_type": "code",
   "execution_count": 158,
   "id": "3ab2d22a",
   "metadata": {},
   "outputs": [
    {
     "name": "stdout",
     "output_type": "stream",
     "text": [
      "global varibale\n"
     ]
    }
   ],
   "source": [
    "var ='global varibale'\n",
    "\n",
    "def inner():\n",
    "    print(var)\n",
    "    #var='inner variable'\n",
    "    #print(var)\n",
    "inner()"
   ]
  },
  {
   "cell_type": "code",
   "execution_count": 2,
   "id": "cabbd7b2",
   "metadata": {},
   "outputs": [
    {
     "name": "stdout",
     "output_type": "stream",
     "text": [
      "outer variable \n",
      "global variable\n"
     ]
    },
    {
     "ename": "NameError",
     "evalue": "name 'inner' is not defined",
     "output_type": "error",
     "traceback": [
      "\u001b[1;31m---------------------------------------------------------------------------\u001b[0m",
      "\u001b[1;31mNameError\u001b[0m                                 Traceback (most recent call last)",
      "\u001b[1;32m~\\AppData\\Local\\Temp\\ipykernel_11828\\4288952686.py\u001b[0m in \u001b[0;36m<module>\u001b[1;34m\u001b[0m\n\u001b[0;32m      9\u001b[0m \u001b[0mouter\u001b[0m\u001b[1;33m(\u001b[0m\u001b[1;33m)\u001b[0m\u001b[1;33m\u001b[0m\u001b[1;33m\u001b[0m\u001b[0m\n\u001b[0;32m     10\u001b[0m \u001b[0mprint\u001b[0m\u001b[1;33m(\u001b[0m\u001b[0mvar\u001b[0m\u001b[1;33m)\u001b[0m\u001b[1;33m\u001b[0m\u001b[1;33m\u001b[0m\u001b[0m\n\u001b[1;32m---> 11\u001b[1;33m \u001b[0minner\u001b[0m\u001b[1;33m(\u001b[0m\u001b[1;33m)\u001b[0m\u001b[1;33m\u001b[0m\u001b[1;33m\u001b[0m\u001b[0m\n\u001b[0m",
      "\u001b[1;31mNameError\u001b[0m: name 'inner' is not defined"
     ]
    }
   ],
   "source": [
    "#Enclosed Scope\n",
    "var = 'global variable'\n",
    "def outer():\n",
    "    var = 'outer variable '\n",
    "    def inner():\n",
    "        print(var)\n",
    "    inner()\n",
    "\n",
    "outer()\n",
    "print(var)\n",
    "inner()"
   ]
  },
  {
   "cell_type": "code",
   "execution_count": null,
   "id": "d0cf4af5",
   "metadata": {},
   "outputs": [],
   "source": []
  },
  {
   "cell_type": "code",
   "execution_count": null,
   "id": "03359d1f",
   "metadata": {},
   "outputs": [],
   "source": []
  }
 ],
 "metadata": {
  "kernelspec": {
   "display_name": "Python 3 (ipykernel)",
   "language": "python",
   "name": "python3"
  },
  "language_info": {
   "codemirror_mode": {
    "name": "ipython",
    "version": 3
   },
   "file_extension": ".py",
   "mimetype": "text/x-python",
   "name": "python",
   "nbconvert_exporter": "python",
   "pygments_lexer": "ipython3",
   "version": "3.9.13"
  }
 },
 "nbformat": 4,
 "nbformat_minor": 5
}
