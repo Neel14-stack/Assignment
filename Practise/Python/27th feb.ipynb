{
 "cells": [
  {
   "cell_type": "code",
   "execution_count": 38,
   "id": "d8fd3978",
   "metadata": {},
   "outputs": [
    {
     "data": {
      "text/plain": [
       "[45.5, 35, 41.3, 55, 24]"
      ]
     },
     "execution_count": 38,
     "metadata": {},
     "output_type": "execute_result"
    }
   ],
   "source": [
    "d = {'item1': 45.50, 'item2':35, 'item3': 41.30, 'item4':55, 'item5': 24}\n",
    "l = []\n",
    "\n",
    "for i in d:\n",
    "    l.append(d[i])\n",
    "l"
   ]
  },
  {
   "cell_type": "code",
   "execution_count": 43,
   "id": "f63c16d6",
   "metadata": {},
   "outputs": [
    {
     "name": "stdout",
     "output_type": "stream",
     "text": [
      "[('item5', 24), ('item2', 35), ('item3', 41.3), ('item1', 45.5), ('item4', 55)]\n"
     ]
    }
   ],
   "source": [
    "import operator\n",
    "print(sorted(d.items(),key =operator.itemgetter(1)))"
   ]
  },
  {
   "cell_type": "code",
   "execution_count": 49,
   "id": "f426f5e2",
   "metadata": {},
   "outputs": [
    {
     "name": "stdout",
     "output_type": "stream",
     "text": [
      "item4 55\n",
      "item1 45.5\n",
      "item3 41.3\n"
     ]
    }
   ],
   "source": [
    "from heapq import nlargest\n",
    "\n",
    "three_largest = nlargest(3, d, key=d.get)\n",
    "three_largest\n",
    "for i in three_largest:\n",
    "    print(i,d[i])"
   ]
  },
  {
   "cell_type": "code",
   "execution_count": 39,
   "id": "e94022fd",
   "metadata": {},
   "outputs": [],
   "source": [
    "l = sorted(l,reverse= True)"
   ]
  },
  {
   "cell_type": "code",
   "execution_count": 40,
   "id": "c04dfd29",
   "metadata": {},
   "outputs": [
    {
     "data": {
      "text/plain": [
       "[55, 45.5, 41.3, 35, 24]"
      ]
     },
     "execution_count": 40,
     "metadata": {},
     "output_type": "execute_result"
    }
   ],
   "source": [
    "l"
   ]
  },
  {
   "cell_type": "code",
   "execution_count": 41,
   "id": "8a5e2318",
   "metadata": {},
   "outputs": [
    {
     "name": "stdout",
     "output_type": "stream",
     "text": [
      "45.5\n",
      "35\n",
      "41.3\n",
      "55\n",
      "24\n"
     ]
    },
    {
     "data": {
      "text/plain": [
       "{}"
      ]
     },
     "execution_count": 41,
     "metadata": {},
     "output_type": "execute_result"
    }
   ],
   "source": [
    "d2 = {}\n",
    "for key,value in d.items():\n",
    "    if value in l:\n",
    "        print(value)\n",
    "d2"
   ]
  },
  {
   "cell_type": "code",
   "execution_count": 16,
   "id": "eda673e3",
   "metadata": {},
   "outputs": [
    {
     "name": "stdout",
     "output_type": "stream",
     "text": [
      "40\n",
      "40\n",
      "100\n"
     ]
    }
   ],
   "source": [
    "#scope of variable\n",
    "\n",
    "var1 = 40\n",
    "var2 = 200\n",
    "def fxn1():\n",
    "    #var1 = 50\n",
    "    print(var1)\n",
    "    def fxn3():\n",
    "        print(var1)\n",
    "    fxn3()\n",
    "\n",
    "def fxn2():\n",
    "    var2 = 100\n",
    "    print(var2)\n",
    "    \n",
    "fxn1()\n",
    "#fxn3()\n",
    "fxn2()\n",
    "#print(var1)"
   ]
  },
  {
   "cell_type": "code",
   "execution_count": 20,
   "id": "c32f9f45",
   "metadata": {},
   "outputs": [
    {
     "name": "stdout",
     "output_type": "stream",
     "text": [
      "50\n"
     ]
    },
    {
     "ename": "NameError",
     "evalue": "name 'fxn3' is not defined",
     "output_type": "error",
     "traceback": [
      "\u001b[1;31m---------------------------------------------------------------------------\u001b[0m",
      "\u001b[1;31mNameError\u001b[0m                                 Traceback (most recent call last)",
      "\u001b[1;32m~\\AppData\\Local\\Temp\\ipykernel_8852\\1041963844.py\u001b[0m in \u001b[0;36m<module>\u001b[1;34m\u001b[0m\n\u001b[0;32m     12\u001b[0m \u001b[1;33m\u001b[0m\u001b[0m\n\u001b[0;32m     13\u001b[0m \u001b[0mfxn1\u001b[0m\u001b[1;33m(\u001b[0m\u001b[1;33m)\u001b[0m\u001b[1;33m\u001b[0m\u001b[1;33m\u001b[0m\u001b[0m\n\u001b[1;32m---> 14\u001b[1;33m \u001b[0mfxn3\u001b[0m\u001b[1;33m(\u001b[0m\u001b[1;33m)\u001b[0m\u001b[1;33m\u001b[0m\u001b[1;33m\u001b[0m\u001b[0m\n\u001b[0m\u001b[0;32m     15\u001b[0m \u001b[0mfxn2\u001b[0m\u001b[1;33m(\u001b[0m\u001b[1;33m)\u001b[0m\u001b[1;33m\u001b[0m\u001b[1;33m\u001b[0m\u001b[0m\n",
      "\u001b[1;31mNameError\u001b[0m: name 'fxn3' is not defined"
     ]
    }
   ],
   "source": [
    "var1 = 80\n",
    "def fxn1():\n",
    "    var1 = 50\n",
    "    print(var1)\n",
    "    def fxn3():\n",
    "        print(var1)\n",
    "    #fxn3()\n",
    "\n",
    "def fxn2():\n",
    "    var2 = 100\n",
    "    print(var2)\n",
    "\n",
    "fxn1()\n",
    "fxn3()\n",
    "fxn2()"
   ]
  },
  {
   "cell_type": "code",
   "execution_count": 21,
   "id": "a37173e7",
   "metadata": {},
   "outputs": [],
   "source": [
    "l1 = [1,2,3,4]\n",
    "l2 = [10,20,30,40]\n",
    "l3 = []\n",
    "def list_merg(*li):\n",
    "    for i in li:\n",
    "        l3.append(i)\n",
    "        "
   ]
  },
  {
   "cell_type": "code",
   "execution_count": 22,
   "id": "c4f3595a",
   "metadata": {},
   "outputs": [],
   "source": [
    "list_merg(l1,l2)"
   ]
  },
  {
   "cell_type": "code",
   "execution_count": 23,
   "id": "1af6ab21",
   "metadata": {},
   "outputs": [
    {
     "data": {
      "text/plain": [
       "[[1, 2, 3, 4], [10, 20, 30, 40]]"
      ]
     },
     "execution_count": 23,
     "metadata": {},
     "output_type": "execute_result"
    }
   ],
   "source": [
    "l3"
   ]
  },
  {
   "cell_type": "markdown",
   "id": "d8864519",
   "metadata": {},
   "source": [
    "### WAP to create a function show employee using following conditions\n",
    "    * it should accept the employee name and salary and display both\n",
    "    * if salary is missing in function call then assign default value to salary"
   ]
  },
  {
   "cell_type": "code",
   "execution_count": 25,
   "id": "e4c03a96",
   "metadata": {},
   "outputs": [
    {
     "name": "stdout",
     "output_type": "stream",
     "text": [
      "The name of the employee is Raju\n",
      "THe salary of the Raju is 50000\n"
     ]
    }
   ],
   "source": [
    "def show_employee(name, salary = 50000):\n",
    "    print(f'The name of the employee is {name}')\n",
    "    print(f'THe salary of the {name} is {salary}')\n",
    "\n",
    "show_employee('Raju')"
   ]
  },
  {
   "cell_type": "code",
   "execution_count": 26,
   "id": "3bbcbb23",
   "metadata": {},
   "outputs": [
    {
     "name": "stdout",
     "output_type": "stream",
     "text": [
      "The name of the employee is Param\n",
      "THe salary of the Param is 100000\n"
     ]
    }
   ],
   "source": [
    "show_employee('Param',100000)"
   ]
  },
  {
   "cell_type": "markdown",
   "id": "4df44aad",
   "metadata": {},
   "source": [
    "### Create a python recursive fucntion in python we know that a fucntion can call other functions it is even possible for function to call itself"
   ]
  },
  {
   "cell_type": "code",
   "execution_count": 29,
   "id": "ab4095eb",
   "metadata": {},
   "outputs": [],
   "source": [
    "# factorial of input number\n",
    "def factorial(x):\n",
    "    '''\n",
    "    This is a recursive function, which calls itself. to find factorial of a positive integer number\n",
    "    '''\n",
    "    if x == 1:\n",
    "        return 1\n",
    "    else:\n",
    "        return (x*factorial(x-1))"
   ]
  },
  {
   "cell_type": "code",
   "execution_count": 30,
   "id": "3bbecaaa",
   "metadata": {},
   "outputs": [
    {
     "data": {
      "text/plain": [
       "120"
      ]
     },
     "execution_count": 30,
     "metadata": {},
     "output_type": "execute_result"
    }
   ],
   "source": [
    "factorial(5)"
   ]
  },
  {
   "cell_type": "code",
   "execution_count": null,
   "id": "7705df95",
   "metadata": {},
   "outputs": [],
   "source": [
    "Write a Python program to get the top three items in a shop. \n",
    "Sample data: {'item1': 45.50, 'item2':35, 'item3': 41.30, 'item4':55, 'item5': 24}\n",
    "Expected Output:\n",
    "item4 55\n",
    "item1 45.5\n",
    "item3 41.3"
   ]
  },
  {
   "cell_type": "code",
   "execution_count": 2,
   "id": "1b3ee3a2",
   "metadata": {},
   "outputs": [
    {
     "name": "stdout",
     "output_type": "stream",
     "text": [
      "enter a positive number: -4\n",
      "invalid number\n"
     ]
    }
   ],
   "source": [
    "#alternative method\n",
    "userinput = int(input(\"enter a positive number: \"))\n",
    "def fct(a):\n",
    "    while(a>0):\n",
    "        if a == 1:\n",
    "            return 1\n",
    "        elif a == 0:\n",
    "            return 0\n",
    "        else:\n",
    "            return (a*fct(a-1))\n",
    "    else:\n",
    "        print('invalid number')\n",
    "\n",
    "fct(userinput)"
   ]
  },
  {
   "cell_type": "code",
   "execution_count": 34,
   "id": "256fff08",
   "metadata": {},
   "outputs": [
    {
     "data": {
      "text/plain": [
       "120"
      ]
     },
     "execution_count": 34,
     "metadata": {},
     "output_type": "execute_result"
    }
   ],
   "source": [
    "def fct2(a):\n",
    "    rec = 1\n",
    "    while(a>0):\n",
    "        rec = rec * a\n",
    "        a = a-1\n",
    "    return rec\n",
    "\n",
    "fct2(5)"
   ]
  },
  {
   "cell_type": "markdown",
   "id": "f2f9d700",
   "metadata": {},
   "source": [
    "### * args\n",
    "    * When you are not usre about the number of argumets being apssed to function then we use *args as fucntion parameter.\n",
    "    * Arguments must be passed as list or tuple"
   ]
  },
  {
   "cell_type": "code",
   "execution_count": 36,
   "id": "def3f70b",
   "metadata": {},
   "outputs": [
    {
     "name": "stdout",
     "output_type": "stream",
     "text": [
      "('Neel', 'Madhab', 'Roy', 21, 9368587708, 'Hyderabad', 'TEKsystem Global Services', 'Techincal Trainee')\n"
     ]
    }
   ],
   "source": [
    "def userdetails(*args):\n",
    "    print(args)\n",
    "\n",
    "userdetails('Neel','Madhab','Roy',21,9368587708,'Hyderabad','TEKsystem Global Services','Techincal Trainee')"
   ]
  },
  {
   "cell_type": "code",
   "execution_count": 45,
   "id": "42d034ad",
   "metadata": {},
   "outputs": [
    {
     "name": "stdout",
     "output_type": "stream",
     "text": [
      "20\n"
     ]
    }
   ],
   "source": [
    "def addtion(* args):\n",
    "    return sum(args)\n",
    "\n",
    "list1 = [2,4,6,8]\n",
    "list2 = (2,4,6,8)\n",
    "\n",
    "print(addtion(*list1))"
   ]
  },
  {
   "cell_type": "markdown",
   "id": "8df136eb",
   "metadata": {},
   "source": [
    "### Kwargs (keyword arguments)\n",
    "    * kwargs allow us to pass varibale name of keyword arguments to the function\n",
    "    * Return output will be a dictionary"
   ]
  },
  {
   "cell_type": "code",
   "execution_count": 53,
   "id": "74a464c9",
   "metadata": {},
   "outputs": [
    {
     "name": "stdout",
     "output_type": "stream",
     "text": [
      "{'Name': 'Neel', 'Age': 21, 'Location': 'Hyderabad', 'Company': 'TGS'}\n",
      "{'list1': [1, 2, 3, 4, 5], 'list2': [6, 7, 8, 9, 0]}\n"
     ]
    }
   ],
   "source": [
    "def userdeatils(**kwargs):\n",
    "    print(kwargs)\n",
    "    \n",
    "userdeatils(Name = 'Neel',Age = 21,Location = 'Hyderabad',Company = 'TGS')\n",
    "userdeatils(list1 = [1,2,3,4,5],list2 = [6,7,8,9,0])"
   ]
  },
  {
   "cell_type": "code",
   "execution_count": 59,
   "id": "aa2c2075",
   "metadata": {},
   "outputs": [
    {
     "name": "stdout",
     "output_type": "stream",
     "text": [
      "Neel\n"
     ]
    }
   ],
   "source": [
    "def userdeatils(**kwargs):\n",
    "    return kwargs\n",
    "    \n",
    "detail1 = userdeatils(Name = 'Neel',Age = 21,Location = 'Hyderabad',Company = 'TGS')\n",
    "detail2 = userdeatils(list1 = [1,2,3,4,5],list2 = [6,7,8,9,0])\n",
    "\n",
    "print(detail1['Name'])"
   ]
  },
  {
   "cell_type": "markdown",
   "id": "19a34650",
   "metadata": {},
   "source": [
    "### * args return type is TUPLE OR LIST ........  **kwargs return type is DIC"
   ]
  },
  {
   "cell_type": "markdown",
   "id": "08d0dd10",
   "metadata": {},
   "source": [
    "### Lambda\n",
    "    * a lambda function is an anonymous function\n",
    "    * lambda fucntion can hvae ny numbre of pararmets but a single expression, the expression is evaluted and returned\n",
    "    * "
   ]
  },
  {
   "cell_type": "markdown",
   "id": "0a0ef104",
   "metadata": {},
   "source": [
    "syntax lambda argument(s): expression\n",
    "    * e.g lambda arg1, arg2: arg1 + arg2"
   ]
  },
  {
   "cell_type": "code",
   "execution_count": 61,
   "id": "3a44918d",
   "metadata": {},
   "outputs": [
    {
     "name": "stdout",
     "output_type": "stream",
     "text": [
      "20\n"
     ]
    }
   ],
   "source": [
    "addition = lambda a: a+10\n",
    "print(addition(10))"
   ]
  },
  {
   "cell_type": "code",
   "execution_count": 62,
   "id": "f1b7135c",
   "metadata": {},
   "outputs": [
    {
     "name": "stdout",
     "output_type": "stream",
     "text": [
      "200\n"
     ]
    }
   ],
   "source": [
    "product = lambda a,b: a*b\n",
    "print(product(10,20))"
   ]
  },
  {
   "cell_type": "code",
   "execution_count": 63,
   "id": "664987a0",
   "metadata": {},
   "outputs": [
    {
     "data": {
      "text/plain": [
       "140"
      ]
     },
     "execution_count": 63,
     "metadata": {},
     "output_type": "execute_result"
    }
   ],
   "source": [
    "result = lambda *args: max(args)\n",
    "result(10,40,140,80)"
   ]
  },
  {
   "cell_type": "code",
   "execution_count": 64,
   "id": "83178c1b",
   "metadata": {},
   "outputs": [
    {
     "data": {
      "text/plain": [
       "(140, 8)"
      ]
     },
     "execution_count": 64,
     "metadata": {},
     "output_type": "execute_result"
    }
   ],
   "source": [
    "result = lambda *args: max(args)\n",
    "result(10,40,140,80),result(1,6,8,4)"
   ]
  },
  {
   "cell_type": "code",
   "execution_count": 65,
   "id": "12d0cb8d",
   "metadata": {},
   "outputs": [
    {
     "name": "stdout",
     "output_type": "stream",
     "text": [
      "[('item4', 55), ('item1', 45.5), ('item3', 41.3)]\n"
     ]
    }
   ],
   "source": [
    "cost= {'item1': 45.50, 'item2':35, 'item3': 41.30, 'item4':55, 'item5': 24}\n",
    "cost=sorted(cost.items(),key=lambda x: x[1])[::-1]\n",
    "print(cost[:3])"
   ]
  },
  {
   "cell_type": "markdown",
   "id": "19d74a6d",
   "metadata": {},
   "source": [
    "### Filter\n",
    "    * It is used to fliter iterable/sequence as per conditions.\n",
    "    * Filter function filters the original iterable ans passes the items that return True for function provided to filter().\n",
    "    * Filter is generally used with lambda functions"
   ]
  },
  {
   "cell_type": "code",
   "execution_count": 4,
   "id": "8f01a05d",
   "metadata": {},
   "outputs": [
    {
     "data": {
      "text/plain": [
       "[1, 3, 5, 7, 9]"
      ]
     },
     "execution_count": 4,
     "metadata": {},
     "output_type": "execute_result"
    }
   ],
   "source": [
    "list1 = [1,2,3,4,5,6,7,8,9,10]\n",
    "def odd(num):\n",
    "    if num % 2 != 0:\n",
    "        return True\n",
    "    else:\n",
    "        return False\n",
    "\n",
    "list(filter(odd,list1))"
   ]
  },
  {
   "cell_type": "code",
   "execution_count": 5,
   "id": "b7f4d239",
   "metadata": {
    "scrolled": true
   },
   "outputs": [
    {
     "data": {
      "text/plain": [
       "[1, 3, 5, 7, 9]"
      ]
     },
     "execution_count": 5,
     "metadata": {},
     "output_type": "execute_result"
    }
   ],
   "source": [
    "list(filter((lambda x: x %2 != 0),list1))\n"
   ]
  },
  {
   "cell_type": "markdown",
   "id": "c962328c",
   "metadata": {},
   "source": [
    "### MAP - \n",
    "    * map() function applies a given fucntion of each item of an iterable (list,tuple) and return list of results"
   ]
  },
  {
   "cell_type": "code",
   "execution_count": 6,
   "id": "ff38a263",
   "metadata": {},
   "outputs": [],
   "source": [
    "def twice(num):\n",
    "    return num*2\n",
    "\n",
    "oddnum = list(map(twice,list1))"
   ]
  },
  {
   "cell_type": "code",
   "execution_count": 7,
   "id": "478a6b0d",
   "metadata": {},
   "outputs": [
    {
     "data": {
      "text/plain": [
       "[2, 4, 6, 8, 10, 12, 14, 16, 18, 20]"
      ]
     },
     "execution_count": 7,
     "metadata": {},
     "output_type": "execute_result"
    }
   ],
   "source": [
    "oddnum"
   ]
  },
  {
   "cell_type": "code",
   "execution_count": 79,
   "id": "b7425e70",
   "metadata": {},
   "outputs": [
    {
     "data": {
      "text/plain": [
       "[True, False, True, False, True, False, True, False, True, False]"
      ]
     },
     "execution_count": 79,
     "metadata": {},
     "output_type": "execute_result"
    }
   ],
   "source": [
    "list(map((lambda x: x %2 != 0),list1))"
   ]
  },
  {
   "cell_type": "markdown",
   "id": "b784f9c5",
   "metadata": {},
   "source": [
    "### Filter will return the filtered result of the given list, while map will perform some operation on that given list\n",
    "    * Filter will return the value for which condition is true\n",
    "    * while map will return the statement(True or false) for the given conditon\n",
    "    * map applies to all the context (list,tuple..etc)\n",
    "    * when we want to apply aggeragate we should use reduce funtion"
   ]
  },
  {
   "cell_type": "code",
   "execution_count": 81,
   "id": "c0500764",
   "metadata": {},
   "outputs": [
    {
     "data": {
      "text/plain": [
       "['4Even',\n",
       " '8Even',\n",
       " '12Even',\n",
       " '16Even',\n",
       " '20Even',\n",
       " '24Even',\n",
       " '28Even',\n",
       " '32Even',\n",
       " '36Even',\n",
       " '40Even']"
      ]
     },
     "execution_count": 81,
     "metadata": {},
     "output_type": "execute_result"
    }
   ],
   "source": [
    "#lambda function will return value\n",
    "\n",
    "list(map(lambda num:str(num*2) + 'Even',oddnum))"
   ]
  },
  {
   "cell_type": "code",
   "execution_count": 82,
   "id": "c33887cb",
   "metadata": {},
   "outputs": [
    {
     "data": {
      "text/plain": [
       "['2Even', '6Even', '10Even', '14Even', '18Even']"
      ]
     },
     "execution_count": 82,
     "metadata": {},
     "output_type": "execute_result"
    }
   ],
   "source": [
    "\n",
    "list(map(lambda num:str(num*2) + 'Even',list(filter((lambda x: x %2 != 0),list1))))"
   ]
  },
  {
   "cell_type": "code",
   "execution_count": null,
   "id": "b97d3b51",
   "metadata": {},
   "outputs": [],
   "source": []
  },
  {
   "cell_type": "code",
   "execution_count": 83,
   "id": "7ea3ed5f",
   "metadata": {},
   "outputs": [
    {
     "data": {
      "text/plain": [
       "['NEEL', 'RAJU', 'KARAN', 'SURESH', 'RAMPAL']"
      ]
     },
     "execution_count": 83,
     "metadata": {},
     "output_type": "execute_result"
    }
   ],
   "source": [
    "list3 = ['neel','raju','karan','suresh','rampal']\n",
    "\n",
    "list(map(lambda x: str.upper(x), list3 ))"
   ]
  },
  {
   "cell_type": "markdown",
   "id": "53f6e567",
   "metadata": {},
   "source": [
    "### Reduce \n",
    "    * Reduce (function,sequence) is used to apply a particular function passed in its argument to all list elements.\n",
    "    * Reduce() is define in \"functools\" module"
   ]
  },
  {
   "cell_type": "code",
   "execution_count": 84,
   "id": "31914d01",
   "metadata": {},
   "outputs": [
    {
     "name": "stdout",
     "output_type": "stream",
     "text": [
      "210\n"
     ]
    }
   ],
   "source": [
    "from functools import reduce\n",
    "\n",
    "# reduce = use this for aggregate function (sum,count,max,min)\n",
    "\n",
    "def summation(a,b):\n",
    "    return a+b\n",
    "\n",
    "sum_all = reduce(summation,[10,20,30,40,50,60])\n",
    "print(sum_all)"
   ]
  },
  {
   "cell_type": "code",
   "execution_count": 90,
   "id": "232f2dac",
   "metadata": {},
   "outputs": [
    {
     "name": "stdout",
     "output_type": "stream",
     "text": [
      "210\n"
     ]
    }
   ],
   "source": [
    "print(reduce(lambda x,y: x+y,[10,20,30,40,50,60]))\n",
    "l4 = [10,20,30,40,5,100]"
   ]
  },
  {
   "cell_type": "code",
   "execution_count": 91,
   "id": "b9652ea4",
   "metadata": {},
   "outputs": [
    {
     "data": {
      "text/plain": [
       "5"
      ]
     },
     "execution_count": 91,
     "metadata": {},
     "output_type": "execute_result"
    }
   ],
   "source": [
    "reduce(lambda a,b: min(a,b),l4)"
   ]
  },
  {
   "cell_type": "code",
   "execution_count": 89,
   "id": "ecb43cc5",
   "metadata": {},
   "outputs": [
    {
     "data": {
      "text/plain": [
       "10"
      ]
     },
     "execution_count": 89,
     "metadata": {},
     "output_type": "execute_result"
    }
   ],
   "source": [
    "reduce(lambda a,b:a if a<b else b, l4)"
   ]
  },
  {
   "cell_type": "markdown",
   "id": "c3ad332b",
   "metadata": {},
   "source": [
    "### frozenset() method\n",
    "    * it creates an immutable set object from an iterable. It is built in python function. As it set() hence it will store only unique values"
   ]
  },
  {
   "cell_type": "code",
   "execution_count": 92,
   "id": "0d0bebf4",
   "metadata": {},
   "outputs": [],
   "source": [
    "list1=['apple','banana','cupcakes','donuts','apple','donuts']\n",
    "fsets = set(list1)"
   ]
  },
  {
   "cell_type": "code",
   "execution_count": 93,
   "id": "85857a08",
   "metadata": {},
   "outputs": [
    {
     "data": {
      "text/plain": [
       "{'apple', 'banana', 'cupcakes', 'donuts'}"
      ]
     },
     "execution_count": 93,
     "metadata": {},
     "output_type": "execute_result"
    }
   ],
   "source": [
    "fsets\n"
   ]
  },
  {
   "cell_type": "code",
   "execution_count": 95,
   "id": "60da1b4d",
   "metadata": {},
   "outputs": [
    {
     "data": {
      "text/plain": [
       "{'apple', 'banana', 'cupcakes', 'donuts', 'watermelon'}"
      ]
     },
     "execution_count": 95,
     "metadata": {},
     "output_type": "execute_result"
    }
   ],
   "source": [
    "fsets.add('watermelon')\n",
    "fsets"
   ]
  },
  {
   "cell_type": "code",
   "execution_count": 96,
   "id": "e447a2a9",
   "metadata": {},
   "outputs": [
    {
     "data": {
      "text/plain": [
       "frozenset"
      ]
     },
     "execution_count": 96,
     "metadata": {},
     "output_type": "execute_result"
    }
   ],
   "source": [
    "frozen_set = frozenset(list1)\n",
    "type(frozen_set)\n"
   ]
  },
  {
   "cell_type": "code",
   "execution_count": 97,
   "id": "e5fa9e7c",
   "metadata": {},
   "outputs": [
    {
     "ename": "AttributeError",
     "evalue": "'frozenset' object has no attribute 'add'",
     "output_type": "error",
     "traceback": [
      "\u001b[1;31m---------------------------------------------------------------------------\u001b[0m",
      "\u001b[1;31mAttributeError\u001b[0m                            Traceback (most recent call last)",
      "\u001b[1;32m~\\AppData\\Local\\Temp\\ipykernel_8852\\1001435675.py\u001b[0m in \u001b[0;36m<module>\u001b[1;34m\u001b[0m\n\u001b[0;32m      1\u001b[0m \u001b[1;31m#frozensets are immutable, hence add(), update(), has no attribute\u001b[0m\u001b[1;33m\u001b[0m\u001b[1;33m\u001b[0m\u001b[0m\n\u001b[1;32m----> 2\u001b[1;33m \u001b[0mfrozen_set\u001b[0m\u001b[1;33m.\u001b[0m\u001b[0madd\u001b[0m\u001b[1;33m(\u001b[0m\u001b[1;34m'gauva'\u001b[0m\u001b[1;33m)\u001b[0m\u001b[1;33m\u001b[0m\u001b[1;33m\u001b[0m\u001b[0m\n\u001b[0m",
      "\u001b[1;31mAttributeError\u001b[0m: 'frozenset' object has no attribute 'add'"
     ]
    }
   ],
   "source": [
    "#frozensets are immutable, hence add(), update(), has no attribute\n",
    "frozen_set.add('gauva')"
   ]
  },
  {
   "cell_type": "code",
   "execution_count": 98,
   "id": "0678bad1",
   "metadata": {},
   "outputs": [],
   "source": [
    "a = frozenset([10,20,30,40,50])\n",
    "b = frozenset([70,80,90])\n",
    "\n",
    "c = a.copy()"
   ]
  },
  {
   "cell_type": "code",
   "execution_count": 99,
   "id": "559d482c",
   "metadata": {},
   "outputs": [
    {
     "data": {
      "text/plain": [
       "frozenset({10, 20, 30, 40, 50})"
      ]
     },
     "execution_count": 99,
     "metadata": {},
     "output_type": "execute_result"
    }
   ],
   "source": [
    "c"
   ]
  },
  {
   "cell_type": "code",
   "execution_count": 100,
   "id": "1a19bc96",
   "metadata": {},
   "outputs": [],
   "source": [
    "a = b.copy()"
   ]
  },
  {
   "cell_type": "code",
   "execution_count": 101,
   "id": "a5523eb8",
   "metadata": {},
   "outputs": [
    {
     "data": {
      "text/plain": [
       "frozenset({70, 80, 90})"
      ]
     },
     "execution_count": 101,
     "metadata": {},
     "output_type": "execute_result"
    }
   ],
   "source": [
    "a"
   ]
  },
  {
   "cell_type": "markdown",
   "id": "f995ce4f",
   "metadata": {},
   "source": [
    "### wap to check if word is palindrome"
   ]
  },
  {
   "cell_type": "code",
   "execution_count": 111,
   "id": "466717f8",
   "metadata": {},
   "outputs": [
    {
     "name": "stdout",
     "output_type": "stream",
     "text": [
      "not palindrom\n"
     ]
    }
   ],
   "source": [
    "strin = 'php'\n",
    "rv_strin = str(reversed(strin))\n",
    "\n",
    "if rv_strin == strin:\n",
    "    print('palindrom')\n",
    "else:\n",
    "    print(\"not palindrom\")"
   ]
  },
  {
   "cell_type": "code",
   "execution_count": 112,
   "id": "a9b8f649",
   "metadata": {},
   "outputs": [
    {
     "name": "stdout",
     "output_type": "stream",
     "text": [
      "<reversed object at 0x0000016A27515CD0>\n"
     ]
    }
   ],
   "source": [
    "print(str(rv_strin))"
   ]
  },
  {
   "cell_type": "code",
   "execution_count": 107,
   "id": "5f289491",
   "metadata": {},
   "outputs": [
    {
     "name": "stdout",
     "output_type": "stream",
     "text": [
      "php\n"
     ]
    }
   ],
   "source": [
    "r_string = strin[::-1]\n",
    "print(r_string)"
   ]
  },
  {
   "cell_type": "code",
   "execution_count": 108,
   "id": "7f3f10f7",
   "metadata": {},
   "outputs": [
    {
     "name": "stdout",
     "output_type": "stream",
     "text": [
      "panlidrom\n"
     ]
    }
   ],
   "source": [
    "if r_string == strin:\n",
    "    print('panlidrom')\n",
    "else:\n",
    "    print(\"not palindrom\")"
   ]
  },
  {
   "cell_type": "code",
   "execution_count": 113,
   "id": "c1b69974",
   "metadata": {},
   "outputs": [],
   "source": [
    "mylist = ['neel','anna','raju','harah']"
   ]
  },
  {
   "cell_type": "code",
   "execution_count": 114,
   "id": "9e7bf5c3",
   "metadata": {},
   "outputs": [
    {
     "data": {
      "text/plain": [
       "['anna', 'harah']"
      ]
     },
     "execution_count": 114,
     "metadata": {},
     "output_type": "execute_result"
    }
   ],
   "source": [
    "palindrom = list(filter(lambda word: str.lower(word) == str.lower(word[::-1]),mylist))\n",
    "palindrom"
   ]
  },
  {
   "cell_type": "markdown",
   "id": "25f63437",
   "metadata": {},
   "source": [
    "### Math Library"
   ]
  },
  {
   "cell_type": "code",
   "execution_count": 115,
   "id": "967f05b7",
   "metadata": {},
   "outputs": [],
   "source": [
    "import math\n"
   ]
  },
  {
   "cell_type": "code",
   "execution_count": 116,
   "id": "3d300493",
   "metadata": {},
   "outputs": [
    {
     "data": {
      "text/plain": [
       "2.718281828459045"
      ]
     },
     "execution_count": 116,
     "metadata": {},
     "output_type": "execute_result"
    }
   ],
   "source": [
    "math.e"
   ]
  },
  {
   "cell_type": "code",
   "execution_count": 117,
   "id": "be97c118",
   "metadata": {},
   "outputs": [
    {
     "name": "stdout",
     "output_type": "stream",
     "text": [
      "3.141592653589793\n"
     ]
    }
   ],
   "source": [
    "print(math.pi)"
   ]
  },
  {
   "cell_type": "code",
   "execution_count": 119,
   "id": "4bb02f50",
   "metadata": {},
   "outputs": [
    {
     "name": "stdout",
     "output_type": "stream",
     "text": [
      "the ceil of 2.3 is  3\n"
     ]
    }
   ],
   "source": [
    "num = 2.3\n",
    "#returning cell value of 2.3\n",
    "print(\"the ceil of 2.3 is \",math.ceil(2.3))"
   ]
  },
  {
   "cell_type": "code",
   "execution_count": 120,
   "id": "f56699f1",
   "metadata": {},
   "outputs": [
    {
     "name": "stdout",
     "output_type": "stream",
     "text": [
      "the floor of 2.3 is  2\n"
     ]
    }
   ],
   "source": [
    "print(\"the floor of 2.3 is \",math.floor(num))"
   ]
  },
  {
   "cell_type": "code",
   "execution_count": 121,
   "id": "7594f10b",
   "metadata": {},
   "outputs": [
    {
     "data": {
      "text/plain": [
       "120"
      ]
     },
     "execution_count": 121,
     "metadata": {},
     "output_type": "execute_result"
    }
   ],
   "source": [
    "math.factorial(5)"
   ]
  },
  {
   "cell_type": "code",
   "execution_count": 122,
   "id": "adb88a1b",
   "metadata": {},
   "outputs": [
    {
     "data": {
      "text/plain": [
       "1.0"
      ]
     },
     "execution_count": 122,
     "metadata": {},
     "output_type": "execute_result"
    }
   ],
   "source": [
    "math.log(10,10)"
   ]
  },
  {
   "cell_type": "code",
   "execution_count": 123,
   "id": "20e94ea0",
   "metadata": {},
   "outputs": [
    {
     "data": {
      "text/plain": [
       "3.321928094887362"
      ]
     },
     "execution_count": 123,
     "metadata": {},
     "output_type": "execute_result"
    }
   ],
   "source": [
    "math.log2(10)"
   ]
  },
  {
   "cell_type": "code",
   "execution_count": 125,
   "id": "ea4ce2c5",
   "metadata": {},
   "outputs": [
    {
     "data": {
      "text/plain": [
       "15.0"
      ]
     },
     "execution_count": 125,
     "metadata": {},
     "output_type": "execute_result"
    }
   ],
   "source": [
    "math.sqrt(225)"
   ]
  },
  {
   "cell_type": "code",
   "execution_count": 131,
   "id": "e2bc0811",
   "metadata": {},
   "outputs": [
    {
     "name": "stdout",
     "output_type": "stream",
     "text": [
      "6.283185307179586\n"
     ]
    },
    {
     "data": {
      "text/plain": [
       "29.999999999999996"
      ]
     },
     "execution_count": 131,
     "metadata": {},
     "output_type": "execute_result"
    }
   ],
   "source": [
    "\n",
    "print(math.radians(360)) #degree to radian\n",
    "math.degrees(math.pi/6)"
   ]
  },
  {
   "cell_type": "markdown",
   "id": "9954dc44",
   "metadata": {},
   "source": [
    "### Hashlib Library\n",
    "    * used in blockchain \n",
    "    * conversion of data to hash value(shaw hash SHA256) is known as cryptography\n",
    "    "
   ]
  },
  {
   "cell_type": "code",
   "execution_count": 11,
   "id": "938d607f",
   "metadata": {},
   "outputs": [
    {
     "name": "stdout",
     "output_type": "stream",
     "text": [
      "{'ripemd160', 'sha3_256', 'md4', 'mdc2', 'blake2b', 'sha3_512', 'md5', 'md5-sha1', 'sha512', 'blake2s', 'sha3_384', 'sha384', 'sha256', 'shake_128', 'shake_256', 'sm3', 'sha224', 'sha1', 'sha3_224', 'sha512_224', 'sha512_256', 'whirlpool'}\n"
     ]
    }
   ],
   "source": [
    "import hashlib\n",
    "print(hashlib.algorithms_available)"
   ]
  },
  {
   "cell_type": "code",
   "execution_count": 135,
   "id": "e44200a1",
   "metadata": {},
   "outputs": [],
   "source": [
    "message = hashlib.sha256()\n"
   ]
  },
  {
   "cell_type": "code",
   "execution_count": null,
   "id": "daae6695",
   "metadata": {},
   "outputs": [],
   "source": [
    "tt = "
   ]
  },
  {
   "cell_type": "code",
   "execution_count": 136,
   "id": "f4931882",
   "metadata": {},
   "outputs": [
    {
     "name": "stdout",
     "output_type": "stream",
     "text": [
      "b'\\x12\\x8c\\xfd \\xce\\xe4\\xc2\\xf1B\\xa5\\x92\\xc9\\xbcG\\xe6\\x1b8\\x8d\\xea=h\\x91\\xfa\\x14,,8\\x93\\x07\\xfbd\\xa7'\n"
     ]
    }
   ],
   "source": [
    "#update message using byte strings\n",
    "message.update(b'hello there')\n",
    "message.update(b'how are you')\n",
    "\n",
    "#print the message digest\n",
    "print(message.digest())"
   ]
  },
  {
   "cell_type": "code",
   "execution_count": 137,
   "id": "161fecf2",
   "metadata": {},
   "outputs": [
    {
     "name": "stdout",
     "output_type": "stream",
     "text": [
      "128cfd20cee4c2f142a592c9bc47e61b388dea3d6891fa142c2c389307fb64a7\n"
     ]
    }
   ],
   "source": [
    "#print hexadecimal (0-9,a-f)\n",
    "print(message.hexdigest())"
   ]
  },
  {
   "cell_type": "code",
   "execution_count": 12,
   "id": "b6e76551",
   "metadata": {},
   "outputs": [],
   "source": [
    "def get_sha_256_hash(input_value):\n",
    "    return hashlib.sha256(input_value).hexdigest()\n"
   ]
  },
  {
   "cell_type": "code",
   "execution_count": 13,
   "id": "20cd9bb5",
   "metadata": {},
   "outputs": [
    {
     "ename": "TypeError",
     "evalue": "Strings must be encoded before hashing",
     "output_type": "error",
     "traceback": [
      "\u001b[1;31m---------------------------------------------------------------------------\u001b[0m",
      "\u001b[1;31mTypeError\u001b[0m                                 Traceback (most recent call last)",
      "\u001b[1;32m~\\AppData\\Local\\Temp\\ipykernel_21400\\53760316.py\u001b[0m in \u001b[0;36m<module>\u001b[1;34m\u001b[0m\n\u001b[1;32m----> 1\u001b[1;33m \u001b[0mget_sha_256_hash\u001b[0m\u001b[1;33m(\u001b[0m\u001b[1;34m'my name is neel'\u001b[0m\u001b[1;33m)\u001b[0m\u001b[1;33m\u001b[0m\u001b[1;33m\u001b[0m\u001b[0m\n\u001b[0m",
      "\u001b[1;32m~\\AppData\\Local\\Temp\\ipykernel_21400\\1589139417.py\u001b[0m in \u001b[0;36mget_sha_256_hash\u001b[1;34m(input_value)\u001b[0m\n\u001b[0;32m      1\u001b[0m \u001b[1;32mdef\u001b[0m \u001b[0mget_sha_256_hash\u001b[0m\u001b[1;33m(\u001b[0m\u001b[0minput_value\u001b[0m\u001b[1;33m)\u001b[0m\u001b[1;33m:\u001b[0m\u001b[1;33m\u001b[0m\u001b[1;33m\u001b[0m\u001b[0m\n\u001b[1;32m----> 2\u001b[1;33m     \u001b[1;32mreturn\u001b[0m \u001b[0mhashlib\u001b[0m\u001b[1;33m.\u001b[0m\u001b[0msha256\u001b[0m\u001b[1;33m(\u001b[0m\u001b[0minput_value\u001b[0m\u001b[1;33m)\u001b[0m\u001b[1;33m.\u001b[0m\u001b[0mhexdigest\u001b[0m\u001b[1;33m(\u001b[0m\u001b[1;33m)\u001b[0m\u001b[1;33m\u001b[0m\u001b[1;33m\u001b[0m\u001b[0m\n\u001b[0m",
      "\u001b[1;31mTypeError\u001b[0m: Strings must be encoded before hashing"
     ]
    }
   ],
   "source": [
    "get_sha_256_hash('my name is neel')"
   ]
  },
  {
   "cell_type": "code",
   "execution_count": 141,
   "id": "58832b7e",
   "metadata": {},
   "outputs": [
    {
     "data": {
      "text/plain": [
       "'1d0126e0e515e391e4871cc12524de8299388667d98d1b0f72c99c85d2a39dc9'"
      ]
     },
     "execution_count": 141,
     "metadata": {},
     "output_type": "execute_result"
    }
   ],
   "source": [
    "get_sha_256_hash(b'my name is Neel')"
   ]
  },
  {
   "cell_type": "code",
   "execution_count": 142,
   "id": "0775c406",
   "metadata": {},
   "outputs": [
    {
     "data": {
      "text/plain": [
       "'a64d13b019b876e2c3a7a2e32b7e1e9404bcaaf605b2f8dbb55ef1083f7f7e39'"
      ]
     },
     "execution_count": 142,
     "metadata": {},
     "output_type": "execute_result"
    }
   ],
   "source": [
    "get_sha_256_hash(b'my name is neel')"
   ]
  },
  {
   "cell_type": "code",
   "execution_count": 146,
   "id": "5d6ae43f",
   "metadata": {},
   "outputs": [],
   "source": [
    "def hash_string(s1):\n",
    "    b1= s1.encode()\n",
    "    hash_object = hashlib.sha256(b1)\n",
    "    return hash_object"
   ]
  },
  {
   "cell_type": "code",
   "execution_count": 151,
   "id": "9b9ae080",
   "metadata": {},
   "outputs": [
    {
     "name": "stdout",
     "output_type": "stream",
     "text": [
      "ecf149c73b09ae9bc0bc1c62917a8bbb9d22b96c4c25c97d05ca8674eb35f684\n",
      "after updating: f4ddd93e022b393c726bd24f98daf81f75aae300cb409f9d034847182abd6f10\n",
      "True\n"
     ]
    }
   ],
   "source": [
    "def update_hash(hash_object,input_str):\n",
    "    hash_object.update(input_str.encode())\n",
    "\n",
    "hash_object = hash_string('Hello from ABC')\n",
    "\n",
    "#print hex value of message\n",
    "print(hash_object.hexdigest())\n",
    "\n",
    "#update the message\n",
    "update_hash(hash_object, ' Hello, how are you')\n",
    "\n",
    "#print the has message after update\n",
    "print('after updating:',hash_object.hexdigest())\n",
    "\n",
    "new_str = 'Hello from ABC Hello, how are you'\n",
    "\n",
    "print(hash_string(new_str).hexdigest()==hash_object.hexdigest())"
   ]
  },
  {
   "cell_type": "markdown",
   "id": "0902483f",
   "metadata": {},
   "source": [
    "### OOPs concept\n",
    "    * OOPs uses a bottom up approach\n",
    "    * the program is divided into objects\n",
    "    * oops uses access modifier\n",
    "    * objects can move freely within member function\n",
    "    \n",
    "    - object have 3 thing (identity, state/attribute, behaviour)\n",
    "    \n",
    "    "
   ]
  },
  {
   "cell_type": "code",
   "execution_count": 152,
   "id": "ce8277eb",
   "metadata": {},
   "outputs": [],
   "source": [
    "class Car:\n",
    "    pass"
   ]
  },
  {
   "cell_type": "markdown",
   "id": "32e43026",
   "metadata": {},
   "source": [
    "* self is object name, self is referring to object name\n",
    "- self is alawys the first parameter to pass in the class and whenvever we call a method on the object the object itselfi s automatically passed as the first parameter"
   ]
  },
  {
   "cell_type": "code",
   "execution_count": 154,
   "id": "a97724eb",
   "metadata": {},
   "outputs": [
    {
     "name": "stdout",
     "output_type": "stream",
     "text": [
      "hello Neel\n"
     ]
    }
   ],
   "source": [
    "class Classname:\n",
    "    def createname(self,name):\n",
    "        self.name = name\n",
    "    def greeting(self):\n",
    "        print(f'hello {self.name}')\n",
    "\n",
    "obj = Classname()\n",
    "obj.createname('Neel')\n",
    "obj.greeting()"
   ]
  },
  {
   "cell_type": "code",
   "execution_count": null,
   "id": "8631a2e4",
   "metadata": {},
   "outputs": [],
   "source": []
  }
 ],
 "metadata": {
  "kernelspec": {
   "display_name": "Python 3 (ipykernel)",
   "language": "python",
   "name": "python3"
  },
  "language_info": {
   "codemirror_mode": {
    "name": "ipython",
    "version": 3
   },
   "file_extension": ".py",
   "mimetype": "text/x-python",
   "name": "python",
   "nbconvert_exporter": "python",
   "pygments_lexer": "ipython3",
   "version": "3.9.13"
  }
 },
 "nbformat": 4,
 "nbformat_minor": 5
}
