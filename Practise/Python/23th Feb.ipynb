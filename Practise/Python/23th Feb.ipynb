{
 "cells": [
  {
   "cell_type": "code",
   "execution_count": 25,
   "id": "c5607235",
   "metadata": {},
   "outputs": [],
   "source": [
    "import sys"
   ]
  },
  {
   "cell_type": "code",
   "execution_count": 26,
   "id": "1ab5aa79",
   "metadata": {},
   "outputs": [
    {
     "name": "stdout",
     "output_type": "stream",
     "text": [
      "3.9.13 (main, Aug 25 2022, 23:51:50) [MSC v.1916 64 bit (AMD64)]\n"
     ]
    }
   ],
   "source": [
    "print(sys.version)"
   ]
  },
  {
   "cell_type": "code",
   "execution_count": 31,
   "id": "c1e441c2",
   "metadata": {},
   "outputs": [
    {
     "data": {
      "text/plain": [
       "'3.9.13 (main, Aug 25 2022, 23:51:50) [MSC v.1916 64 bit (AMD64)]'"
      ]
     },
     "execution_count": 31,
     "metadata": {},
     "output_type": "execute_result"
    }
   ],
   "source": [
    "sys.version"
   ]
  },
  {
   "cell_type": "code",
   "execution_count": 29,
   "id": "47c9cc17",
   "metadata": {},
   "outputs": [
    {
     "data": {
      "text/plain": [
       "True"
      ]
     },
     "execution_count": 29,
     "metadata": {},
     "output_type": "execute_result"
    }
   ],
   "source": [
    "keyword.iskeyword('and')"
   ]
  },
  {
   "cell_type": "code",
   "execution_count": 1,
   "id": "dae68321",
   "metadata": {},
   "outputs": [
    {
     "name": "stdout",
     "output_type": "stream",
     "text": [
      "Hello world\n"
     ]
    }
   ],
   "source": [
    "print('Hello world')"
   ]
  },
  {
   "cell_type": "code",
   "execution_count": 2,
   "id": "7c82dc6a",
   "metadata": {},
   "outputs": [
    {
     "data": {
      "text/plain": [
       "'\\nYo bro what up,\\nHow was ur day ?\\n\\n'"
      ]
     },
     "execution_count": 2,
     "metadata": {},
     "output_type": "execute_result"
    }
   ],
   "source": [
    "#comment\n",
    "'''\n",
    "Yo bro what up,\n",
    "How was ur day ?\n",
    "\n",
    "'''"
   ]
  },
  {
   "cell_type": "code",
   "execution_count": 3,
   "id": "8668270a",
   "metadata": {},
   "outputs": [],
   "source": [
    "\" _ is valid variable\"\n",
    "\n",
    "_ = 100\n"
   ]
  },
  {
   "cell_type": "code",
   "execution_count": 5,
   "id": "4376c9df",
   "metadata": {},
   "outputs": [
    {
     "name": "stdout",
     "output_type": "stream",
     "text": [
      "The Zen of Python, by Tim Peters\n",
      "\n",
      "Beautiful is better than ugly.\n",
      "Explicit is better than implicit.\n",
      "Simple is better than complex.\n",
      "Complex is better than complicated.\n",
      "Flat is better than nested.\n",
      "Sparse is better than dense.\n",
      "Readability counts.\n",
      "Special cases aren't special enough to break the rules.\n",
      "Although practicality beats purity.\n",
      "Errors should never pass silently.\n",
      "Unless explicitly silenced.\n",
      "In the face of ambiguity, refuse the temptation to guess.\n",
      "There should be one-- and preferably only one --obvious way to do it.\n",
      "Although that way may not be obvious at first unless you're Dutch.\n",
      "Now is better than never.\n",
      "Although never is often better than *right* now.\n",
      "If the implementation is hard to explain, it's a bad idea.\n",
      "If the implementation is easy to explain, it may be a good idea.\n",
      "Namespaces are one honking great idea -- let's do more of those!\n"
     ]
    }
   ],
   "source": [
    "import this\n"
   ]
  },
  {
   "cell_type": "code",
   "execution_count": 6,
   "id": "a346a822",
   "metadata": {},
   "outputs": [],
   "source": [
    "import keyword"
   ]
  },
  {
   "cell_type": "code",
   "execution_count": 7,
   "id": "2ca9fd22",
   "metadata": {},
   "outputs": [
    {
     "name": "stdout",
     "output_type": "stream",
     "text": [
      "['False', 'None', 'True', '__peg_parser__', 'and', 'as', 'assert', 'async', 'await', 'break', 'class', 'continue', 'def', 'del', 'elif', 'else', 'except', 'finally', 'for', 'from', 'global', 'if', 'import', 'in', 'is', 'lambda', 'nonlocal', 'not', 'or', 'pass', 'raise', 'return', 'try', 'while', 'with', 'yield']\n"
     ]
    }
   ],
   "source": [
    "print(keyword.kwlist)"
   ]
  },
  {
   "cell_type": "code",
   "execution_count": 8,
   "id": "0b03b496",
   "metadata": {},
   "outputs": [
    {
     "data": {
      "text/plain": [
       "36"
      ]
     },
     "execution_count": 8,
     "metadata": {},
     "output_type": "execute_result"
    }
   ],
   "source": [
    "len(keyword.kwlist)"
   ]
  },
  {
   "cell_type": "markdown",
   "id": "d77fc8c5",
   "metadata": {},
   "source": [
    "## Primitive Data Type\n",
    "    * Int\n",
    "    * Float\n",
    "    * Complex\n",
    "    * String\n",
    "    * Boolean\n",
    "    "
   ]
  },
  {
   "cell_type": "code",
   "execution_count": 30,
   "id": "daabb459",
   "metadata": {},
   "outputs": [
    {
     "name": "stdout",
     "output_type": "stream",
     "text": [
      "<class 'int'>\n"
     ]
    }
   ],
   "source": [
    "var1 = 10\n",
    "print(type(var1))"
   ]
  },
  {
   "cell_type": "code",
   "execution_count": 23,
   "id": "367236fd",
   "metadata": {},
   "outputs": [
    {
     "name": "stdout",
     "output_type": "stream",
     "text": [
      "This is string\n"
     ]
    },
    {
     "data": {
      "text/plain": [
       "str"
      ]
     },
     "execution_count": 23,
     "metadata": {},
     "output_type": "execute_result"
    }
   ],
   "source": [
    "var1 = \"This is string\"\n",
    "print(var1)\n",
    "type(var1)"
   ]
  },
  {
   "cell_type": "markdown",
   "id": "5ba90935",
   "metadata": {},
   "source": [
    "#### In python we dont have character datatype that's why, we can use ' ' or \" \" both do the same work.....\n"
   ]
  },
  {
   "cell_type": "code",
   "execution_count": 15,
   "id": "84d11776",
   "metadata": {},
   "outputs": [],
   "source": [
    "?type\n",
    "#to get the documentation"
   ]
  },
  {
   "cell_type": "code",
   "execution_count": 22,
   "id": "097628ad",
   "metadata": {},
   "outputs": [
    {
     "name": "stdout",
     "output_type": "stream",
     "text": [
      "10.982\n"
     ]
    },
    {
     "data": {
      "text/plain": [
       "float"
      ]
     },
     "execution_count": 22,
     "metadata": {},
     "output_type": "execute_result"
    }
   ],
   "source": [
    "#float\n",
    "var3 = 10.982\n",
    "print(var3)\n",
    "type(var3)"
   ]
  },
  {
   "cell_type": "code",
   "execution_count": 20,
   "id": "42530f08",
   "metadata": {},
   "outputs": [
    {
     "name": "stdout",
     "output_type": "stream",
     "text": [
      "(12+3j)\n"
     ]
    },
    {
     "data": {
      "text/plain": [
       "complex"
      ]
     },
     "execution_count": 20,
     "metadata": {},
     "output_type": "execute_result"
    }
   ],
   "source": [
    "# real part and imaginary part\n",
    "var2 = 12 - -3j\n",
    "print(var2)\n",
    "type(var2)"
   ]
  },
  {
   "cell_type": "code",
   "execution_count": 21,
   "id": "baa6e69d",
   "metadata": {},
   "outputs": [],
   "source": [
    "bool1 = True\n",
    "bool_2 = False"
   ]
  },
  {
   "cell_type": "code",
   "execution_count": 24,
   "id": "38b80ab6",
   "metadata": {},
   "outputs": [
    {
     "data": {
      "text/plain": [
       "529"
      ]
     },
     "execution_count": 24,
     "metadata": {},
     "output_type": "execute_result"
    }
   ],
   "source": [
    "23**2"
   ]
  },
  {
   "cell_type": "code",
   "execution_count": 32,
   "id": "251c70bc",
   "metadata": {},
   "outputs": [],
   "source": [
    "import platform"
   ]
  },
  {
   "cell_type": "code",
   "execution_count": 35,
   "id": "694bf464",
   "metadata": {},
   "outputs": [
    {
     "name": "stdout",
     "output_type": "stream",
     "text": [
      "('main', 'Aug 25 2022 23:51:50')\n",
      "3.9.13\n"
     ]
    }
   ],
   "source": [
    "print(platform.python_build())\n",
    "print(platform.python_version())"
   ]
  },
  {
   "cell_type": "markdown",
   "id": "5f920a16",
   "metadata": {},
   "source": [
    "### String Methods"
   ]
  },
  {
   "cell_type": "code",
   "execution_count": 38,
   "id": "3cdb408a",
   "metadata": {},
   "outputs": [],
   "source": [
    "str1 = \"This is python's string\"\n",
    "str2 = \"Hi there, today's weather is amazing!\""
   ]
  },
  {
   "cell_type": "code",
   "execution_count": 40,
   "id": "dd9ef6de",
   "metadata": {},
   "outputs": [
    {
     "name": "stdout",
     "output_type": "stream",
     "text": [
      "This is python's string Hi there, today's weather is amazing!\n"
     ]
    }
   ],
   "source": [
    "str3 = str1 + ' ' + str2\n",
    "print(str1+\" \" + str2)"
   ]
  },
  {
   "cell_type": "code",
   "execution_count": 41,
   "id": "57f64aca",
   "metadata": {},
   "outputs": [
    {
     "data": {
      "text/plain": [
       "\"THIS IS PYTHON'S STRING HI THERE, TODAY'S WEATHER IS AMAZING!\""
      ]
     },
     "execution_count": 41,
     "metadata": {},
     "output_type": "execute_result"
    }
   ],
   "source": [
    "str3.upper()"
   ]
  },
  {
   "cell_type": "code",
   "execution_count": 42,
   "id": "fa37d66f",
   "metadata": {},
   "outputs": [
    {
     "data": {
      "text/plain": [
       "\"This Is Python'S String Hi There, Today'S Weather Is Amazing!\""
      ]
     },
     "execution_count": 42,
     "metadata": {},
     "output_type": "execute_result"
    }
   ],
   "source": [
    "str3.title()"
   ]
  },
  {
   "cell_type": "code",
   "execution_count": 43,
   "id": "8a147fc6",
   "metadata": {},
   "outputs": [
    {
     "data": {
      "text/plain": [
       "\"this is python's string hi there, today's weather is amazing!\""
      ]
     },
     "execution_count": 43,
     "metadata": {},
     "output_type": "execute_result"
    }
   ],
   "source": [
    "str3.lower()"
   ]
  },
  {
   "cell_type": "markdown",
   "id": "1f8a4f0a",
   "metadata": {},
   "source": [
    "### Indexing & Slicing"
   ]
  },
  {
   "cell_type": "code",
   "execution_count": 44,
   "id": "cade856b",
   "metadata": {},
   "outputs": [
    {
     "data": {
      "text/plain": [
       "'This i'"
      ]
     },
     "execution_count": 44,
     "metadata": {},
     "output_type": "execute_result"
    }
   ],
   "source": [
    "str3[:6]"
   ]
  },
  {
   "cell_type": "code",
   "execution_count": 45,
   "id": "8bada330",
   "metadata": {},
   "outputs": [],
   "source": [
    "str4 = \"This is TEK python session. We are learning about Python basics.\""
   ]
  },
  {
   "cell_type": "code",
   "execution_count": 49,
   "id": "edcd5070",
   "metadata": {},
   "outputs": [
    {
     "name": "stdout",
     "output_type": "stream",
     "text": [
      "T\n"
     ]
    },
    {
     "data": {
      "text/plain": [
       "str"
      ]
     },
     "execution_count": 49,
     "metadata": {},
     "output_type": "execute_result"
    }
   ],
   "source": [
    "print(str4[0])\n",
    "type(str4)"
   ]
  },
  {
   "cell_type": "code",
   "execution_count": 63,
   "id": "4b2f16a2",
   "metadata": {},
   "outputs": [
    {
     "data": {
      "text/plain": [
       "''"
      ]
     },
     "execution_count": 63,
     "metadata": {},
     "output_type": "execute_result"
    }
   ],
   "source": [
    "str4[-6:0]"
   ]
  },
  {
   "cell_type": "code",
   "execution_count": 61,
   "id": "a9b057c3",
   "metadata": {},
   "outputs": [
    {
     "data": {
      "text/plain": [
       "8"
      ]
     },
     "execution_count": 61,
     "metadata": {},
     "output_type": "execute_result"
    }
   ],
   "source": [
    "str4.find('TEK')"
   ]
  },
  {
   "cell_type": "code",
   "execution_count": 64,
   "id": "d676468f",
   "metadata": {},
   "outputs": [
    {
     "data": {
      "text/plain": [
       "12"
      ]
     },
     "execution_count": 64,
     "metadata": {},
     "output_type": "execute_result"
    }
   ],
   "source": [
    "x = str4.lower().find('python')"
   ]
  },
  {
   "cell_type": "code",
   "execution_count": 65,
   "id": "1630a34c",
   "metadata": {},
   "outputs": [
    {
     "name": "stdout",
     "output_type": "stream",
     "text": [
      "p\n",
      "y\n",
      "t\n",
      "h\n",
      "o\n",
      "n\n",
      " \n"
     ]
    }
   ],
   "source": [
    "for i in range(12,19):\n",
    "    print(str4[i])"
   ]
  },
  {
   "cell_type": "code",
   "execution_count": 66,
   "id": "97d6c622",
   "metadata": {},
   "outputs": [
    {
     "data": {
      "text/plain": [
       "'This is TEK python session. We are learning about Python basics.'"
      ]
     },
     "execution_count": 66,
     "metadata": {},
     "output_type": "execute_result"
    }
   ],
   "source": [
    "str4[:]"
   ]
  },
  {
   "cell_type": "code",
   "execution_count": 69,
   "id": "2cfce4c8",
   "metadata": {},
   "outputs": [
    {
     "data": {
      "text/plain": [
       "'.scisab nohtyP tuoba gninrael era eW .noisses nohtyp KET si sihT'"
      ]
     },
     "execution_count": 69,
     "metadata": {},
     "output_type": "execute_result"
    }
   ],
   "source": [
    "str4[::-1]"
   ]
  },
  {
   "cell_type": "code",
   "execution_count": 71,
   "id": "86cf4efa",
   "metadata": {},
   "outputs": [
    {
     "data": {
      "text/plain": [
       "64"
      ]
     },
     "execution_count": 71,
     "metadata": {},
     "output_type": "execute_result"
    }
   ],
   "source": [
    "len(str4)"
   ]
  },
  {
   "cell_type": "code",
   "execution_count": 93,
   "id": "acd35374",
   "metadata": {},
   "outputs": [],
   "source": [
    "rev_str = []\n",
    "ch = ''\n",
    "for i in str4:\n",
    "    if i != ' ':\n",
    "        ch = ch + i\n",
    "    if i == ' ':\n",
    "        ch = ch + ' '\n",
    "rev_str.append(ch)\n",
    "#rev_str.append(' ')\n",
    "    "
   ]
  },
  {
   "cell_type": "code",
   "execution_count": 104,
   "id": "33d0e486",
   "metadata": {},
   "outputs": [
    {
     "data": {
      "text/plain": [
       "['This',\n",
       " 'is',\n",
       " 'TEK',\n",
       " 'python',\n",
       " 'session.',\n",
       " 'We',\n",
       " 'are',\n",
       " 'learning',\n",
       " 'about',\n",
       " 'Python',\n",
       " 'basics.']"
      ]
     },
     "execution_count": 104,
     "metadata": {},
     "output_type": "execute_result"
    }
   ],
   "source": [
    "temp_str = str4.split(' ')\n",
    "temp_str"
   ]
  },
  {
   "cell_type": "code",
   "execution_count": 105,
   "id": "f41606f9",
   "metadata": {},
   "outputs": [],
   "source": [
    "for i in temp_str:\n",
    "    rev_str.append(i)"
   ]
  },
  {
   "cell_type": "code",
   "execution_count": 106,
   "id": "b0e94c92",
   "metadata": {},
   "outputs": [
    {
     "data": {
      "text/plain": [
       "['This is TEK python session. We are learning about Python basics.',\n",
       " 'This',\n",
       " 'is',\n",
       " 'TEK',\n",
       " 'python',\n",
       " 'session.',\n",
       " 'We',\n",
       " 'are',\n",
       " 'learning',\n",
       " 'about',\n",
       " 'Python',\n",
       " 'basics.']"
      ]
     },
     "execution_count": 106,
     "metadata": {},
     "output_type": "execute_result"
    }
   ],
   "source": [
    "rev_str"
   ]
  },
  {
   "cell_type": "code",
   "execution_count": 107,
   "id": "96642ec5",
   "metadata": {},
   "outputs": [],
   "source": [
    "rev_str.reverse()"
   ]
  },
  {
   "cell_type": "code",
   "execution_count": 108,
   "id": "cd7bd2cc",
   "metadata": {},
   "outputs": [
    {
     "data": {
      "text/plain": [
       "['basics.',\n",
       " 'Python',\n",
       " 'about',\n",
       " 'learning',\n",
       " 'are',\n",
       " 'We',\n",
       " 'session.',\n",
       " 'python',\n",
       " 'TEK',\n",
       " 'is',\n",
       " 'This',\n",
       " 'This is TEK python session. We are learning about Python basics.']"
      ]
     },
     "execution_count": 108,
     "metadata": {},
     "output_type": "execute_result"
    }
   ],
   "source": [
    "rev_str"
   ]
  },
  {
   "cell_type": "code",
   "execution_count": 92,
   "id": "904051a4",
   "metadata": {},
   "outputs": [
    {
     "data": {
      "text/plain": [
       "['This', ' is pthon', ' session', ' we are', ' learning here!']"
      ]
     },
     "execution_count": 92,
     "metadata": {},
     "output_type": "execute_result"
    }
   ],
   "source": [
    "str5 = \"This, is pthon, session, we are, learning here!\"\n",
    "str5.split(',')"
   ]
  },
  {
   "cell_type": "code",
   "execution_count": 100,
   "id": "ee68daea",
   "metadata": {},
   "outputs": [
    {
     "data": {
      "text/plain": [
       "('Data Engineering with ptyhon', ' and ', 'TEKsystem Global Services')"
      ]
     },
     "execution_count": 100,
     "metadata": {},
     "output_type": "execute_result"
    }
   ],
   "source": [
    "str6 = \"Data Engineering with ptyhon and TEKsystem Global Services\"\n",
    "str6.partition(' and ')"
   ]
  },
  {
   "cell_type": "markdown",
   "id": "022c226a",
   "metadata": {},
   "source": [
    "### Lists\n",
    "    * List is mutable data structure. Modification is allowed\n",
    "    * It is hetrogenous collection of multiple data items of different types e.g int, complex, boolean, float, stringse etc.\n",
    "    * Duplicate values are allowed."
   ]
  },
  {
   "cell_type": "code",
   "execution_count": 114,
   "id": "424dd54d",
   "metadata": {},
   "outputs": [],
   "source": [
    "list1 = [1,1,3,4,5]\n",
    "list2 = ['a','b','c','d','e']"
   ]
  },
  {
   "cell_type": "code",
   "execution_count": 110,
   "id": "46f0e62b",
   "metadata": {},
   "outputs": [
    {
     "name": "stdout",
     "output_type": "stream",
     "text": [
      "[1, 2, 3, 4, 5, 'a', 'b', 'c', 'd', 'e']\n"
     ]
    }
   ],
   "source": [
    "print(list1+list2)"
   ]
  },
  {
   "cell_type": "code",
   "execution_count": 111,
   "id": "0f694210",
   "metadata": {},
   "outputs": [],
   "source": [
    "#Nested List\n",
    "\n",
    "list3 = [[1,2,3,4,5],['a','b','c','d','e']]"
   ]
  },
  {
   "cell_type": "markdown",
   "id": "f5982e5a",
   "metadata": {},
   "source": [
    "### Methods of Lists"
   ]
  },
  {
   "cell_type": "code",
   "execution_count": 115,
   "id": "4580242e",
   "metadata": {},
   "outputs": [
    {
     "data": {
      "text/plain": [
       "2"
      ]
     },
     "execution_count": 115,
     "metadata": {},
     "output_type": "execute_result"
    }
   ],
   "source": [
    "list1.count(1)"
   ]
  },
  {
   "cell_type": "code",
   "execution_count": 116,
   "id": "a7d9fa28",
   "metadata": {},
   "outputs": [
    {
     "data": {
      "text/plain": [
       "[1, 1, 3, 4, 5, 2]"
      ]
     },
     "execution_count": 116,
     "metadata": {},
     "output_type": "execute_result"
    }
   ],
   "source": [
    "list1.append(2)\n",
    "list1"
   ]
  },
  {
   "cell_type": "code",
   "execution_count": 117,
   "id": "d51d957c",
   "metadata": {},
   "outputs": [],
   "source": [
    "list1.append(True)"
   ]
  },
  {
   "cell_type": "code",
   "execution_count": 118,
   "id": "2be6f97d",
   "metadata": {},
   "outputs": [
    {
     "data": {
      "text/plain": [
       "[1, 1, 3, 4, 5, 2, True]"
      ]
     },
     "execution_count": 118,
     "metadata": {},
     "output_type": "execute_result"
    }
   ],
   "source": [
    "list1"
   ]
  },
  {
   "cell_type": "code",
   "execution_count": 119,
   "id": "16289840",
   "metadata": {},
   "outputs": [],
   "source": [
    "list1.append(True)"
   ]
  },
  {
   "cell_type": "code",
   "execution_count": 120,
   "id": "88d79e73",
   "metadata": {},
   "outputs": [
    {
     "data": {
      "text/plain": [
       "[1, 1, 3, 4, 5, 2, True, True]"
      ]
     },
     "execution_count": 120,
     "metadata": {},
     "output_type": "execute_result"
    }
   ],
   "source": [
    "list1"
   ]
  },
  {
   "cell_type": "code",
   "execution_count": 121,
   "id": "5701de2a",
   "metadata": {},
   "outputs": [
    {
     "data": {
      "text/plain": [
       "[1, 1, 3, 4, 5, 2, True, True, 12345]"
      ]
     },
     "execution_count": 121,
     "metadata": {},
     "output_type": "execute_result"
    }
   ],
   "source": [
    "list1.append(12345)\n",
    "list1"
   ]
  },
  {
   "cell_type": "code",
   "execution_count": 122,
   "id": "d48cc3e8",
   "metadata": {},
   "outputs": [
    {
     "data": {
      "text/plain": [
       "[1, 1, 3, 4, 5, 2, True, True, 12345, [12, 120]]"
      ]
     },
     "execution_count": 122,
     "metadata": {},
     "output_type": "execute_result"
    }
   ],
   "source": [
    "list1.append([12,120])\n",
    "list1"
   ]
  },
  {
   "cell_type": "code",
   "execution_count": 123,
   "id": "dcadb02f",
   "metadata": {},
   "outputs": [
    {
     "data": {
      "text/plain": [
       "[]"
      ]
     },
     "execution_count": 123,
     "metadata": {},
     "output_type": "execute_result"
    }
   ],
   "source": [
    "list1.clear()\n",
    "list1"
   ]
  },
  {
   "cell_type": "code",
   "execution_count": 124,
   "id": "8381f10c",
   "metadata": {},
   "outputs": [
    {
     "ename": "NameError",
     "evalue": "name 'list1' is not defined",
     "output_type": "error",
     "traceback": [
      "\u001b[1;31m---------------------------------------------------------------------------\u001b[0m",
      "\u001b[1;31mNameError\u001b[0m                                 Traceback (most recent call last)",
      "\u001b[1;32m~\\AppData\\Local\\Temp\\ipykernel_10716\\453873028.py\u001b[0m in \u001b[0;36m<module>\u001b[1;34m\u001b[0m\n\u001b[0;32m      1\u001b[0m \u001b[1;32mdel\u001b[0m\u001b[1;33m(\u001b[0m\u001b[0mlist1\u001b[0m\u001b[1;33m)\u001b[0m\u001b[1;33m\u001b[0m\u001b[1;33m\u001b[0m\u001b[0m\n\u001b[1;32m----> 2\u001b[1;33m \u001b[0mlist1\u001b[0m\u001b[1;33m\u001b[0m\u001b[1;33m\u001b[0m\u001b[0m\n\u001b[0m",
      "\u001b[1;31mNameError\u001b[0m: name 'list1' is not defined"
     ]
    }
   ],
   "source": [
    "del(list1)\n",
    "list1"
   ]
  },
  {
   "cell_type": "code",
   "execution_count": 125,
   "id": "0f590b0b",
   "metadata": {},
   "outputs": [],
   "source": [
    "#shallow copy\n",
    "list4 = list2.copy()"
   ]
  },
  {
   "cell_type": "code",
   "execution_count": 127,
   "id": "87b8dfb9",
   "metadata": {},
   "outputs": [
    {
     "name": "stdout",
     "output_type": "stream",
     "text": [
      "['a', 'b', 'c', 'd', 'e', 'New numbre added']\n",
      "['a', 'b', 'c', 'd', 'e', 'New numbre added']\n",
      "['a', 'b', 'c', 'd', 'e', 'New numbre added', 'New numbre added 2nd time']\n"
     ]
    }
   ],
   "source": [
    "list5 = list2\n",
    "#deep copy\n",
    "print(list2)\n",
    "print(list5)\n",
    "list2.append(\"New numbre added 2nd time\")\n",
    "print(list5)"
   ]
  },
  {
   "cell_type": "code",
   "execution_count": 128,
   "id": "368c0cb5",
   "metadata": {},
   "outputs": [],
   "source": [
    "#use of Extend function in list\n",
    "#append takes only one element\n",
    "#while extend takes multiple elements as an argument"
   ]
  },
  {
   "cell_type": "code",
   "execution_count": 129,
   "id": "72495f0e",
   "metadata": {},
   "outputs": [
    {
     "data": {
      "text/plain": [
       "['a',\n",
       " 'b',\n",
       " 'c',\n",
       " 'd',\n",
       " 'e',\n",
       " 'New numbre added',\n",
       " 'New numbre added 2nd time',\n",
       " 'raja',\n",
       " 'baja',\n",
       " 'maja']"
      ]
     },
     "execution_count": 129,
     "metadata": {},
     "output_type": "execute_result"
    }
   ],
   "source": [
    "list2.extend(['raja','baja','maja'])\n",
    "list2"
   ]
  },
  {
   "cell_type": "code",
   "execution_count": 130,
   "id": "bd232076",
   "metadata": {},
   "outputs": [
    {
     "data": {
      "text/plain": [
       "4"
      ]
     },
     "execution_count": 130,
     "metadata": {},
     "output_type": "execute_result"
    }
   ],
   "source": [
    "list2.index('e')\n",
    "#return individual index of the  element"
   ]
  },
  {
   "cell_type": "code",
   "execution_count": 132,
   "id": "d39108a0",
   "metadata": {},
   "outputs": [
    {
     "data": {
      "text/plain": [
       "['a',\n",
       " 'b',\n",
       " 'c',\n",
       " 'neel',\n",
       " 'd',\n",
       " 'e',\n",
       " 'New numbre added',\n",
       " 'New numbre added 2nd time',\n",
       " 'raja',\n",
       " 'baja',\n",
       " 'maja']"
      ]
     },
     "execution_count": 132,
     "metadata": {},
     "output_type": "execute_result"
    }
   ],
   "source": [
    "list2.insert(3,'neel')\n",
    "#it insert individual object at specific place\n",
    "list2"
   ]
  },
  {
   "cell_type": "code",
   "execution_count": 133,
   "id": "6ec621c1",
   "metadata": {},
   "outputs": [
    {
     "data": {
      "text/plain": [
       "['a',\n",
       " 'b',\n",
       " ['new', 'list', 'it', 'is'],\n",
       " 'c',\n",
       " 'neel',\n",
       " 'd',\n",
       " 'e',\n",
       " 'New numbre added',\n",
       " 'New numbre added 2nd time',\n",
       " 'raja',\n",
       " 'baja',\n",
       " 'maja']"
      ]
     },
     "execution_count": 133,
     "metadata": {},
     "output_type": "execute_result"
    }
   ],
   "source": [
    "list2.insert(2,['new','list','it','is'])\n",
    "list2"
   ]
  },
  {
   "cell_type": "code",
   "execution_count": 134,
   "id": "5954343f",
   "metadata": {},
   "outputs": [
    {
     "data": {
      "text/plain": [
       "'maja'"
      ]
     },
     "execution_count": 134,
     "metadata": {},
     "output_type": "execute_result"
    }
   ],
   "source": [
    "list2.pop()\n",
    "#it removes a single from list, using index positon....but default value is -1"
   ]
  },
  {
   "cell_type": "code",
   "execution_count": 135,
   "id": "0e3219af",
   "metadata": {},
   "outputs": [],
   "source": [
    "#remove function remove by value\n",
    "list2.remove('neel')"
   ]
  },
  {
   "cell_type": "code",
   "execution_count": 136,
   "id": "a1ad863d",
   "metadata": {},
   "outputs": [
    {
     "data": {
      "text/plain": [
       "['a',\n",
       " 'b',\n",
       " ['new', 'list', 'it', 'is'],\n",
       " 'c',\n",
       " 'd',\n",
       " 'e',\n",
       " 'New numbre added',\n",
       " 'New numbre added 2nd time',\n",
       " 'raja',\n",
       " 'baja']"
      ]
     },
     "execution_count": 136,
     "metadata": {},
     "output_type": "execute_result"
    }
   ],
   "source": [
    "list2"
   ]
  },
  {
   "cell_type": "code",
   "execution_count": 137,
   "id": "8f773a54",
   "metadata": {},
   "outputs": [
    {
     "data": {
      "text/plain": [
       "['baja',\n",
       " 'raja',\n",
       " 'New numbre added 2nd time',\n",
       " 'New numbre added',\n",
       " 'e',\n",
       " 'd',\n",
       " 'c',\n",
       " ['new', 'list', 'it', 'is'],\n",
       " 'b',\n",
       " 'a']"
      ]
     },
     "execution_count": 137,
     "metadata": {},
     "output_type": "execute_result"
    }
   ],
   "source": [
    "list2.reverse()\n",
    "list2"
   ]
  },
  {
   "cell_type": "code",
   "execution_count": 138,
   "id": "db032272",
   "metadata": {},
   "outputs": [
    {
     "data": {
      "text/plain": [
       "['a',\n",
       " 'b',\n",
       " ['new', 'list', 'it', 'is'],\n",
       " 'c',\n",
       " 'd',\n",
       " 'e',\n",
       " 'New numbre added',\n",
       " 'New numbre added 2nd time',\n",
       " 'raja',\n",
       " 'baja']"
      ]
     },
     "execution_count": 138,
     "metadata": {},
     "output_type": "execute_result"
    }
   ],
   "source": [
    "list2[-1::-1]"
   ]
  },
  {
   "cell_type": "code",
   "execution_count": 140,
   "id": "d3bb5ea0",
   "metadata": {},
   "outputs": [
    {
     "data": {
      "text/plain": [
       "['baja',\n",
       " 'raja',\n",
       " 'New numbre added 2nd time',\n",
       " 'New numbre added',\n",
       " 'e',\n",
       " 'd',\n",
       " 'c',\n",
       " ['new', 'list', 'it', 'is'],\n",
       " 'b',\n",
       " 'a']"
      ]
     },
     "execution_count": 140,
     "metadata": {},
     "output_type": "execute_result"
    }
   ],
   "source": [
    "list2"
   ]
  },
  {
   "cell_type": "code",
   "execution_count": 142,
   "id": "5d1bca9c",
   "metadata": {},
   "outputs": [
    {
     "data": {
      "text/plain": [
       "'list'"
      ]
     },
     "execution_count": 142,
     "metadata": {},
     "output_type": "execute_result"
    }
   ],
   "source": [
    "list2[7][1]"
   ]
  },
  {
   "cell_type": "markdown",
   "id": "cc58da93",
   "metadata": {},
   "source": [
    "### Tuples\n",
    "    * Tuples are similar to list ecept that the tuple object are immutable \n",
    "    * when we dont want to change data over time, tuples are preffered\n",
    "    * Iterating over the elements of tuple is faster compared to iterating over list.\n",
    "#### last line is important\n",
    "    * tuples take less memory compared to lists"
   ]
  },
  {
   "cell_type": "code",
   "execution_count": 143,
   "id": "bde136af",
   "metadata": {},
   "outputs": [],
   "source": [
    "tuple1 = ()\n",
    "tuple1 = tuple()"
   ]
  },
  {
   "cell_type": "code",
   "execution_count": 144,
   "id": "cf5e6d2d",
   "metadata": {},
   "outputs": [
    {
     "data": {
      "text/plain": [
       "('neel', 54, 'zee', 'ulya', 78)"
      ]
     },
     "execution_count": 144,
     "metadata": {},
     "output_type": "execute_result"
    }
   ],
   "source": [
    "tuple1 = ('neel',54,'zee','ulya',78)\n",
    "tuple1"
   ]
  },
  {
   "cell_type": "code",
   "execution_count": 145,
   "id": "c0fca425",
   "metadata": {},
   "outputs": [
    {
     "data": {
      "text/plain": [
       "3"
      ]
     },
     "execution_count": 145,
     "metadata": {},
     "output_type": "execute_result"
    }
   ],
   "source": [
    "tuple1.index('ulya')"
   ]
  },
  {
   "cell_type": "code",
   "execution_count": 146,
   "id": "0c86f958",
   "metadata": {},
   "outputs": [
    {
     "ename": "NameError",
     "evalue": "name 'tuple2' is not defined",
     "output_type": "error",
     "traceback": [
      "\u001b[1;31m---------------------------------------------------------------------------\u001b[0m",
      "\u001b[1;31mNameError\u001b[0m                                 Traceback (most recent call last)",
      "\u001b[1;32m~\\AppData\\Local\\Temp\\ipykernel_10716\\736183719.py\u001b[0m in \u001b[0;36m<module>\u001b[1;34m\u001b[0m\n\u001b[1;32m----> 1\u001b[1;33m \u001b[0mtuple2\u001b[0m\u001b[1;33m[\u001b[0m\u001b[1;36m2\u001b[0m\u001b[1;33m]\u001b[0m \u001b[1;33m=\u001b[0m \u001b[1;34m'new value'\u001b[0m\u001b[1;33m\u001b[0m\u001b[1;33m\u001b[0m\u001b[0m\n\u001b[0m\u001b[0;32m      2\u001b[0m \u001b[1;31m#cant update exisiting tuple value\u001b[0m\u001b[1;33m\u001b[0m\u001b[1;33m\u001b[0m\u001b[0m\n",
      "\u001b[1;31mNameError\u001b[0m: name 'tuple2' is not defined"
     ]
    }
   ],
   "source": [
    "tuple2[2] = 'new value'\n",
    "#cant update exisiting tuple value"
   ]
  },
  {
   "cell_type": "markdown",
   "id": "629a7cfe",
   "metadata": {},
   "source": [
    "### List are dynamic, while tuple are static"
   ]
  },
  {
   "cell_type": "code",
   "execution_count": 147,
   "id": "729b5043",
   "metadata": {},
   "outputs": [],
   "source": [
    "list2[2] = 5"
   ]
  },
  {
   "cell_type": "markdown",
   "id": "bc0a5e7f",
   "metadata": {},
   "source": [
    "### Sets\n",
    "    * Sets elements are unique collection of items, no duplicate items are allowed\n",
    "    * sets are unordered sets has no index attached to any element\n",
    "    * it is mutable and heterogeneous collection"
   ]
  },
  {
   "cell_type": "code",
   "execution_count": 148,
   "id": "31fe690e",
   "metadata": {},
   "outputs": [
    {
     "data": {
      "text/plain": [
       "set"
      ]
     },
     "execution_count": 148,
     "metadata": {},
     "output_type": "execute_result"
    }
   ],
   "source": [
    "set1 = set()\n",
    "type(set1)"
   ]
  },
  {
   "cell_type": "code",
   "execution_count": 149,
   "id": "e70cfda1",
   "metadata": {},
   "outputs": [
    {
     "data": {
      "text/plain": [
       "{100, 25, 50, 75, 'This is set'}"
      ]
     },
     "execution_count": 149,
     "metadata": {},
     "output_type": "execute_result"
    }
   ],
   "source": [
    "set1 = {'This is set',25,50,100,75,25}\n",
    "set1"
   ]
  },
  {
   "cell_type": "code",
   "execution_count": 150,
   "id": "4b4c383e",
   "metadata": {},
   "outputs": [],
   "source": [
    "A = {'A','B','C','D','E','H'}\n",
    "B = {'G','H','I','F','D'}\n",
    "C = {'A','N','O','P','H','D'}"
   ]
  },
  {
   "cell_type": "code",
   "execution_count": 152,
   "id": "65e51b04",
   "metadata": {},
   "outputs": [
    {
     "data": {
      "text/plain": [
       "{'D', 'H'}"
      ]
     },
     "execution_count": 152,
     "metadata": {},
     "output_type": "execute_result"
    }
   ],
   "source": [
    "A.intersection(B)\n",
    "#common values b/w set A nad Set B"
   ]
  },
  {
   "cell_type": "code",
   "execution_count": 153,
   "id": "4080f20e",
   "metadata": {},
   "outputs": [
    {
     "data": {
      "text/plain": [
       "{'A', 'D', 'H'}"
      ]
     },
     "execution_count": 153,
     "metadata": {},
     "output_type": "execute_result"
    }
   ],
   "source": [
    "A.intersection(C)\n",
    "#common values b/w set A nad set C"
   ]
  },
  {
   "cell_type": "code",
   "execution_count": 154,
   "id": "7bc053c9",
   "metadata": {},
   "outputs": [
    {
     "data": {
      "text/plain": [
       "{'A', 'B', 'C', 'D', 'E', 'F', 'G', 'H', 'I'}"
      ]
     },
     "execution_count": 154,
     "metadata": {},
     "output_type": "execute_result"
    }
   ],
   "source": [
    "A | B\n"
   ]
  },
  {
   "cell_type": "code",
   "execution_count": 155,
   "id": "f06d57d2",
   "metadata": {},
   "outputs": [
    {
     "data": {
      "text/plain": [
       "{'D', 'H'}"
      ]
     },
     "execution_count": 155,
     "metadata": {},
     "output_type": "execute_result"
    }
   ],
   "source": [
    "A & B & C\n",
    "#intersection of A to B,C"
   ]
  },
  {
   "cell_type": "code",
   "execution_count": 164,
   "id": "4ff70f7f",
   "metadata": {},
   "outputs": [
    {
     "name": "stdout",
     "output_type": "stream",
     "text": [
      "{'C', 'E', 'G', 'I', 'D', 'F', 'B', 'O', 'P', 'H', 'A', 'N'}\n"
     ]
    }
   ],
   "source": [
    "print(A | B | C)\n",
    "#union of sets"
   ]
  },
  {
   "cell_type": "code",
   "execution_count": 158,
   "id": "43fe7d9e",
   "metadata": {},
   "outputs": [
    {
     "data": {
      "text/plain": [
       "{'A', 'B', 'C', 'D', 'E', 'F', 'G', 'H', 'I', 'N', 'O', 'P'}"
      ]
     },
     "execution_count": 158,
     "metadata": {},
     "output_type": "execute_result"
    }
   ],
   "source": [
    "A.union(B,C)"
   ]
  },
  {
   "cell_type": "code",
   "execution_count": 159,
   "id": "8ec966e8",
   "metadata": {},
   "outputs": [
    {
     "data": {
      "text/plain": [
       "{'A', 'B', 'C', 'E'}"
      ]
     },
     "execution_count": 159,
     "metadata": {},
     "output_type": "execute_result"
    }
   ],
   "source": [
    "A.difference(B)"
   ]
  },
  {
   "cell_type": "code",
   "execution_count": 163,
   "id": "a392c896",
   "metadata": {},
   "outputs": [
    {
     "data": {
      "text/plain": [
       "{'A', 'B', 'C', 'E'}"
      ]
     },
     "execution_count": 163,
     "metadata": {},
     "output_type": "execute_result"
    }
   ],
   "source": [
    "A - B\n",
    "#elements presetn in A but not in B"
   ]
  },
  {
   "cell_type": "code",
   "execution_count": 161,
   "id": "bfbbb291",
   "metadata": {},
   "outputs": [
    {
     "data": {
      "text/plain": [
       "{'A', 'B', 'C', 'D', 'E', 'H'}"
      ]
     },
     "execution_count": 161,
     "metadata": {},
     "output_type": "execute_result"
    }
   ],
   "source": [
    "A"
   ]
  },
  {
   "cell_type": "code",
   "execution_count": 162,
   "id": "695b8cd4",
   "metadata": {},
   "outputs": [
    {
     "data": {
      "text/plain": [
       "{'D', 'F', 'G', 'H', 'I'}"
      ]
     },
     "execution_count": 162,
     "metadata": {},
     "output_type": "execute_result"
    }
   ],
   "source": [
    "B"
   ]
  },
  {
   "cell_type": "code",
   "execution_count": 165,
   "id": "044286ad",
   "metadata": {},
   "outputs": [
    {
     "name": "stdout",
     "output_type": "stream",
     "text": [
      "{False, True, 1234, 'Apple', 'Papaya', (22+66j)}\n"
     ]
    }
   ],
   "source": [
    "myset1 = {1234,True,False,'Apple','Papaya', 22+66j}\n",
    "print(myset1)"
   ]
  },
  {
   "cell_type": "code",
   "execution_count": 166,
   "id": "518d406b",
   "metadata": {},
   "outputs": [],
   "source": [
    "myset1.add(100)"
   ]
  },
  {
   "cell_type": "code",
   "execution_count": 167,
   "id": "bd690215",
   "metadata": {},
   "outputs": [
    {
     "data": {
      "text/plain": [
       "{(22+66j), 100, 1234, 'Apple', False, 'Papaya', True}"
      ]
     },
     "execution_count": 167,
     "metadata": {},
     "output_type": "execute_result"
    }
   ],
   "source": [
    "myset1"
   ]
  },
  {
   "cell_type": "code",
   "execution_count": 169,
   "id": "4830527c",
   "metadata": {},
   "outputs": [
    {
     "name": "stdout",
     "output_type": "stream",
     "text": [
      "{False, True, 1234, 'Apple', (22+66j), 'elevven', 100, 'ten', 'twelve', 'Papaya'}\n"
     ]
    }
   ],
   "source": [
    "myset1.update(['elevven','ten','twelve'])\n",
    "print(myset1)\n",
    "#to update exisitng sets with multiple values"
   ]
  },
  {
   "cell_type": "code",
   "execution_count": 170,
   "id": "1b2f5667",
   "metadata": {},
   "outputs": [
    {
     "data": {
      "text/plain": [
       "False"
      ]
     },
     "execution_count": 170,
     "metadata": {},
     "output_type": "execute_result"
    }
   ],
   "source": [
    "myset1.pop()\n",
    "#it removes the first element, and it doesnt take any argument"
   ]
  },
  {
   "cell_type": "code",
   "execution_count": 177,
   "id": "ac43e7d3",
   "metadata": {},
   "outputs": [],
   "source": [
    "list7 = [1,2,'a','c',True]"
   ]
  },
  {
   "cell_type": "code",
   "execution_count": 175,
   "id": "605dd59b",
   "metadata": {},
   "outputs": [
    {
     "data": {
      "text/plain": [
       "[2, 'a', 'c', True]"
      ]
     },
     "execution_count": 175,
     "metadata": {},
     "output_type": "execute_result"
    }
   ],
   "source": [
    "list7.pop(0)\n",
    "list7"
   ]
  },
  {
   "cell_type": "code",
   "execution_count": 178,
   "id": "26c02ef4",
   "metadata": {},
   "outputs": [],
   "source": [
    "list7.remove(1)"
   ]
  },
  {
   "cell_type": "code",
   "execution_count": 179,
   "id": "d19d2e3c",
   "metadata": {},
   "outputs": [
    {
     "data": {
      "text/plain": [
       "[2, 'a', 'c', True]"
      ]
     },
     "execution_count": 179,
     "metadata": {},
     "output_type": "execute_result"
    }
   ],
   "source": [
    "list7"
   ]
  },
  {
   "cell_type": "markdown",
   "id": "fb233656",
   "metadata": {},
   "source": [
    "### Dictionary\n",
    "    * Mutable collection of keys and values, where keys are unique and values may or may not be duplicate\n",
    "    * dictionary is mutable"
   ]
  },
  {
   "cell_type": "code",
   "execution_count": 181,
   "id": "323d12fe",
   "metadata": {},
   "outputs": [
    {
     "name": "stdout",
     "output_type": "stream",
     "text": [
      "<class 'dict'>\n"
     ]
    }
   ],
   "source": [
    "dic1 = {}\n",
    "print(type(dic1))"
   ]
  },
  {
   "cell_type": "code",
   "execution_count": 182,
   "id": "73f9500b",
   "metadata": {},
   "outputs": [],
   "source": [
    "employee1 = {'empid':10879,\n",
    "              'name':'Neel Madhab Roy',\n",
    "                'Age': 21,\n",
    "                'company':'Teksystem'}"
   ]
  },
  {
   "cell_type": "code",
   "execution_count": 187,
   "id": "bb85d301",
   "metadata": {},
   "outputs": [],
   "source": [
    "fruit_basket = dict([('A','Apple'),('B','Blueberry'),('C','Cherry'),('G','Graphes')])"
   ]
  },
  {
   "cell_type": "code",
   "execution_count": 188,
   "id": "f2af9e94",
   "metadata": {},
   "outputs": [
    {
     "name": "stdout",
     "output_type": "stream",
     "text": [
      "{'A': 'Apple', 'B': 'Blueberry', 'C': 'Cherry', 'G': 'Graphes'}\n"
     ]
    }
   ],
   "source": [
    "print(fruit_basket)\n"
   ]
  },
  {
   "cell_type": "code",
   "execution_count": 190,
   "id": "b7d32d44",
   "metadata": {},
   "outputs": [
    {
     "data": {
      "text/plain": [
       "dict_items([('empid', 10879), ('name', 'Neel Madhab Roy'), ('Age', 21), ('company', 'Teksystem')])"
      ]
     },
     "execution_count": 190,
     "metadata": {},
     "output_type": "execute_result"
    }
   ],
   "source": [
    "employee1.items()\n",
    "#return list of tuples of all items "
   ]
  },
  {
   "cell_type": "code",
   "execution_count": 192,
   "id": "06017ae7",
   "metadata": {},
   "outputs": [
    {
     "data": {
      "text/plain": [
       "dict_keys(['empid', 'name', 'Age', 'company'])"
      ]
     },
     "execution_count": 192,
     "metadata": {},
     "output_type": "execute_result"
    }
   ],
   "source": [
    "employee1.keys()"
   ]
  },
  {
   "cell_type": "code",
   "execution_count": 194,
   "id": "e0cd89e4",
   "metadata": {},
   "outputs": [
    {
     "data": {
      "text/plain": [
       "dict_values([10879, 'Neel Madhab Roy', 21, 'Teksystem'])"
      ]
     },
     "execution_count": 194,
     "metadata": {},
     "output_type": "execute_result"
    }
   ],
   "source": [
    "employee1.values()"
   ]
  },
  {
   "cell_type": "code",
   "execution_count": 195,
   "id": "b5767164",
   "metadata": {},
   "outputs": [
    {
     "data": {
      "text/plain": [
       "{'empid': 10879, 'name': 'Neel Madhab Roy', 'Age': 21, 'company': 'Teksystem'}"
      ]
     },
     "execution_count": 195,
     "metadata": {},
     "output_type": "execute_result"
    }
   ],
   "source": [
    "employee1"
   ]
  },
  {
   "cell_type": "code",
   "execution_count": 196,
   "id": "4cf653ee",
   "metadata": {},
   "outputs": [],
   "source": [
    "employee1['location'] = 'Hyderabad'"
   ]
  },
  {
   "cell_type": "code",
   "execution_count": 197,
   "id": "297d2ab5",
   "metadata": {},
   "outputs": [
    {
     "data": {
      "text/plain": [
       "{'empid': 10879,\n",
       " 'name': 'Neel Madhab Roy',\n",
       " 'Age': 21,\n",
       " 'company': 'Teksystem',\n",
       " 'location': 'Hyderabad'}"
      ]
     },
     "execution_count": 197,
     "metadata": {},
     "output_type": "execute_result"
    }
   ],
   "source": [
    "employee1"
   ]
  },
  {
   "cell_type": "code",
   "execution_count": 198,
   "id": "efa71da0",
   "metadata": {},
   "outputs": [],
   "source": [
    "employee1.update({'Age':22})"
   ]
  },
  {
   "cell_type": "code",
   "execution_count": 199,
   "id": "c0c8c74d",
   "metadata": {},
   "outputs": [
    {
     "data": {
      "text/plain": [
       "{'empid': 10879,\n",
       " 'name': 'Neel Madhab Roy',\n",
       " 'Age': 22,\n",
       " 'company': 'Teksystem',\n",
       " 'location': 'Hyderabad'}"
      ]
     },
     "execution_count": 199,
     "metadata": {},
     "output_type": "execute_result"
    }
   ],
   "source": [
    "employee1"
   ]
  },
  {
   "cell_type": "code",
   "execution_count": 200,
   "id": "45a01621",
   "metadata": {},
   "outputs": [
    {
     "data": {
      "text/plain": [
       "{'empid': 10879,\n",
       " 'name': 'Neel Madhab Roy',\n",
       " 'Age': 22,\n",
       " 'company': 'Teksystem',\n",
       " 'location': ['Hyderbad', 'Banglore']}"
      ]
     },
     "execution_count": 200,
     "metadata": {},
     "output_type": "execute_result"
    }
   ],
   "source": [
    "employee1.update({'location':['Hyderbad','Banglore']})\n",
    "employee1"
   ]
  },
  {
   "cell_type": "code",
   "execution_count": 201,
   "id": "afa8c77f",
   "metadata": {},
   "outputs": [
    {
     "data": {
      "text/plain": [
       "'Banglore'"
      ]
     },
     "execution_count": 201,
     "metadata": {},
     "output_type": "execute_result"
    }
   ],
   "source": [
    "employee1['location'][1]"
   ]
  },
  {
   "cell_type": "code",
   "execution_count": 202,
   "id": "1cafa43d",
   "metadata": {},
   "outputs": [
    {
     "data": {
      "text/plain": [
       "{'empid': 10879,\n",
       " 'name': 'Neel Madhab Roy',\n",
       " 'company': 'Teksystem',\n",
       " 'location': ['Hyderbad', 'Banglore']}"
      ]
     },
     "execution_count": 202,
     "metadata": {},
     "output_type": "execute_result"
    }
   ],
   "source": [
    "employee1.pop('Age')\n",
    "employee1"
   ]
  },
  {
   "cell_type": "markdown",
   "id": "51b79c4c",
   "metadata": {},
   "source": [
    "### Nested Dictionary"
   ]
  },
  {
   "cell_type": "code",
   "execution_count": 204,
   "id": "24d0fd50",
   "metadata": {},
   "outputs": [],
   "source": [
    "nes_dic = {\n",
    "   'emp1': {\n",
    "        'id': 1,\n",
    "        'name':'neel',\n",
    "        'age':21\n",
    "    },\n",
    "    \n",
    "   'emp2': {\n",
    "        'id':2,\n",
    "        'name':'rahul',\n",
    "        'age':23\n",
    "    },\n",
    "   'emp3': {\n",
    "        'id':3,\n",
    "        'name':'ram',\n",
    "        'age':25\n",
    "    },\n",
    "    'emp4':{\n",
    "        'id':4,\n",
    "        'name':'shayam',\n",
    "        'age':32\n",
    "    }\n",
    "}"
   ]
  },
  {
   "cell_type": "code",
   "execution_count": 205,
   "id": "4c71efac",
   "metadata": {},
   "outputs": [
    {
     "data": {
      "text/plain": [
       "{'emp1': {'id': 1, 'name': 'neel', 'age': 21},\n",
       " 'emp2': {'id': 2, 'name': 'rahul', 'age': 23},\n",
       " 'emp3': {'id': 3, 'name': 'ram', 'age': 25},\n",
       " 'emp4': {'id': 4, 'name': 'shayam', 'age': 32}}"
      ]
     },
     "execution_count": 205,
     "metadata": {},
     "output_type": "execute_result"
    }
   ],
   "source": [
    "nes_dic"
   ]
  },
  {
   "cell_type": "code",
   "execution_count": 206,
   "id": "5882622b",
   "metadata": {},
   "outputs": [
    {
     "data": {
      "text/plain": [
       "{'id': 1, 'name': 'neel', 'age': 21}"
      ]
     },
     "execution_count": 206,
     "metadata": {},
     "output_type": "execute_result"
    }
   ],
   "source": [
    "nes_dic['emp1']"
   ]
  },
  {
   "cell_type": "markdown",
   "id": "5cc8b959",
   "metadata": {},
   "source": [
    "### Unasisted Practise Question\n",
    "\n",
    "    * Create a nested dictionary\n",
    "    * create three dictionaries then create one dictionary that will contain the other three dictionaries\n",
    "    * access key value using get() method\n",
    "    * update an existing key value pair\n",
    "    * check operation if any key exits or not\n",
    "    * delete entire dictionary\n",
    "    * Make a copy of a dictionary using copy() method"
   ]
  },
  {
   "cell_type": "code",
   "execution_count": 252,
   "id": "ec6f79a9",
   "metadata": {},
   "outputs": [],
   "source": [
    "person1 = {'name':'pushkal','loc':'hyd','company':'TGS'}\n",
    "person2 = {'name':'himant','loc':'bly','company':'Nokia'}\n",
    "person3 = {'name':'ankit','loc':'bwn','company':'atlasian'}"
   ]
  },
  {
   "cell_type": "code",
   "execution_count": 253,
   "id": "ba90edee",
   "metadata": {},
   "outputs": [],
   "source": [
    "candidate = {\n",
    "    'person1' : person1,\n",
    "    'person2' : person2,\n",
    "    'person3' : person3\n",
    "    \n",
    "}"
   ]
  },
  {
   "cell_type": "code",
   "execution_count": 254,
   "id": "2f920916",
   "metadata": {},
   "outputs": [
    {
     "data": {
      "text/plain": [
       "{'person1': {'name': 'pushkal', 'loc': 'hyd', 'company': 'TGS'},\n",
       " 'person2': {'name': 'himant', 'loc': 'bly', 'company': 'Nokia'},\n",
       " 'person3': {'name': 'ankit', 'loc': 'bwn', 'company': 'atlasian'}}"
      ]
     },
     "execution_count": 254,
     "metadata": {},
     "output_type": "execute_result"
    }
   ],
   "source": [
    "candidate\n"
   ]
  },
  {
   "cell_type": "code",
   "execution_count": 255,
   "id": "3d89ddae",
   "metadata": {},
   "outputs": [
    {
     "data": {
      "text/plain": [
       "{'name': 'himant', 'loc': 'bly', 'company': 'Nokia'}"
      ]
     },
     "execution_count": 255,
     "metadata": {},
     "output_type": "execute_result"
    }
   ],
   "source": [
    "candidate.get('person2')"
   ]
  },
  {
   "cell_type": "code",
   "execution_count": 256,
   "id": "53d6070c",
   "metadata": {},
   "outputs": [],
   "source": [
    "candidate['person1'].update({'name':'Rahul'})"
   ]
  },
  {
   "cell_type": "code",
   "execution_count": 257,
   "id": "85dba9ff",
   "metadata": {},
   "outputs": [
    {
     "data": {
      "text/plain": [
       "{'person1': {'name': 'Rahul', 'loc': 'hyd', 'company': 'TGS'},\n",
       " 'person2': {'name': 'himant', 'loc': 'bly', 'company': 'Nokia'},\n",
       " 'person3': {'name': 'ankit', 'loc': 'bwn', 'company': 'atlasian'}}"
      ]
     },
     "execution_count": 257,
     "metadata": {},
     "output_type": "execute_result"
    }
   ],
   "source": [
    "candidate\n"
   ]
  },
  {
   "cell_type": "code",
   "execution_count": 258,
   "id": "14ed1036",
   "metadata": {},
   "outputs": [],
   "source": [
    "ky = list(candidate['person1'].keys()) + list(candidate.keys())"
   ]
  },
  {
   "cell_type": "code",
   "execution_count": 259,
   "id": "0b5a6d7f",
   "metadata": {},
   "outputs": [
    {
     "data": {
      "text/plain": [
       "['name', 'loc', 'company', 'person1', 'person2', 'person3']"
      ]
     },
     "execution_count": 259,
     "metadata": {},
     "output_type": "execute_result"
    }
   ],
   "source": [
    "ky"
   ]
  },
  {
   "cell_type": "code",
   "execution_count": 251,
   "id": "aaae2fe8",
   "metadata": {},
   "outputs": [
    {
     "data": {
      "text/plain": [
       "True"
      ]
     },
     "execution_count": 251,
     "metadata": {},
     "output_type": "execute_result"
    }
   ],
   "source": [
    "'loc' in ky"
   ]
  },
  {
   "cell_type": "code",
   "execution_count": 241,
   "id": "f0a58f52",
   "metadata": {},
   "outputs": [
    {
     "data": {
      "text/plain": [
       "dict_keys(['name', 'loc', 'company'])"
      ]
     },
     "execution_count": 241,
     "metadata": {},
     "output_type": "execute_result"
    }
   ],
   "source": [
    "candidate['person1'].keys()"
   ]
  },
  {
   "cell_type": "code",
   "execution_count": 242,
   "id": "1be2cb15",
   "metadata": {},
   "outputs": [],
   "source": [
    "copy_dic = candidate.copy()"
   ]
  },
  {
   "cell_type": "code",
   "execution_count": 243,
   "id": "4d858a17",
   "metadata": {},
   "outputs": [
    {
     "data": {
      "text/plain": [
       "'hyd'"
      ]
     },
     "execution_count": 243,
     "metadata": {},
     "output_type": "execute_result"
    }
   ],
   "source": [
    "candidate['person1']['loc']"
   ]
  },
  {
   "cell_type": "code",
   "execution_count": 244,
   "id": "adceaa0c",
   "metadata": {},
   "outputs": [],
   "source": [
    "candidate.clear()"
   ]
  },
  {
   "cell_type": "code",
   "execution_count": 245,
   "id": "7089a4c1",
   "metadata": {},
   "outputs": [
    {
     "data": {
      "text/plain": [
       "{}"
      ]
     },
     "execution_count": 245,
     "metadata": {},
     "output_type": "execute_result"
    }
   ],
   "source": [
    "candidate"
   ]
  },
  {
   "cell_type": "code",
   "execution_count": 246,
   "id": "e7067053",
   "metadata": {},
   "outputs": [],
   "source": [
    "del(candidate)"
   ]
  },
  {
   "cell_type": "code",
   "execution_count": 247,
   "id": "8e7eef9d",
   "metadata": {},
   "outputs": [
    {
     "ename": "NameError",
     "evalue": "name 'candidate' is not defined",
     "output_type": "error",
     "traceback": [
      "\u001b[1;31m---------------------------------------------------------------------------\u001b[0m",
      "\u001b[1;31mNameError\u001b[0m                                 Traceback (most recent call last)",
      "\u001b[1;32m~\\AppData\\Local\\Temp\\ipykernel_10716\\3762838954.py\u001b[0m in \u001b[0;36m<module>\u001b[1;34m\u001b[0m\n\u001b[1;32m----> 1\u001b[1;33m \u001b[0mcandidate\u001b[0m\u001b[1;33m\u001b[0m\u001b[1;33m\u001b[0m\u001b[0m\n\u001b[0m",
      "\u001b[1;31mNameError\u001b[0m: name 'candidate' is not defined"
     ]
    }
   ],
   "source": [
    "candidate"
   ]
  },
  {
   "cell_type": "code",
   "execution_count": 250,
   "id": "4d6fc190",
   "metadata": {},
   "outputs": [
    {
     "ename": "KeyError",
     "evalue": "'salary'",
     "output_type": "error",
     "traceback": [
      "\u001b[1;31m---------------------------------------------------------------------------\u001b[0m",
      "\u001b[1;31mKeyError\u001b[0m                                  Traceback (most recent call last)",
      "\u001b[1;32m~\\AppData\\Local\\Temp\\ipykernel_10716\\3034375428.py\u001b[0m in \u001b[0;36m<module>\u001b[1;34m\u001b[0m\n\u001b[1;32m----> 1\u001b[1;33m \u001b[0mcopy_dic\u001b[0m\u001b[1;33m[\u001b[0m\u001b[1;34m'person1'\u001b[0m\u001b[1;33m]\u001b[0m\u001b[1;33m[\u001b[0m\u001b[1;34m'salary'\u001b[0m\u001b[1;33m]\u001b[0m\u001b[1;33m\u001b[0m\u001b[1;33m\u001b[0m\u001b[0m\n\u001b[0m",
      "\u001b[1;31mKeyError\u001b[0m: 'salary'"
     ]
    }
   ],
   "source": [
    "copy_dic['person1']['salary']"
   ]
  },
  {
   "cell_type": "code",
   "execution_count": null,
   "id": "ea5d377f",
   "metadata": {},
   "outputs": [],
   "source": []
  }
 ],
 "metadata": {
  "kernelspec": {
   "display_name": "Python 3 (ipykernel)",
   "language": "python",
   "name": "python3"
  },
  "language_info": {
   "codemirror_mode": {
    "name": "ipython",
    "version": 3
   },
   "file_extension": ".py",
   "mimetype": "text/x-python",
   "name": "python",
   "nbconvert_exporter": "python",
   "pygments_lexer": "ipython3",
   "version": "3.9.13"
  }
 },
 "nbformat": 4,
 "nbformat_minor": 5
}
