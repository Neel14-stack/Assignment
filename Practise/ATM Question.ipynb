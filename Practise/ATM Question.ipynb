{
 "cells": [
  {
   "cell_type": "code",
   "execution_count": null,
   "id": "33c2103a",
   "metadata": {},
   "outputs": [],
   "source": [
    "# def combinations(X, Y, Z, XX, YY, ZZ, XYZ, amount):\n",
    "#     note_values = [2000, 500, 100, 50, 20, 10, 5]\n",
    "#     note_counts = [X, Y, Z, XX, YY, ZZ, XYZ]\n",
    "#     notes = []\n",
    "#     for i in range(len(note_values)):\n",
    "#         notes += [note_values[i]] * note_counts[i]\n",
    "#     results = []\n",
    "#     find_combinations(notes, amount, [], results)\n",
    "#     return results\n",
    "\n",
    "# def find_combinations(notes, amount, current_combination, results):\n",
    "#     if amount == 0:\n",
    "#         results.append(current_combination)\n",
    "#         return\n",
    "#     if amount < 0 or len(notes) == 0:\n",
    "#         return\n",
    "#     find_combinations(notes[1:], amount, current_combination, results)\n",
    "#     find_combinations(notes[1:], amount - notes[0], current_combination + [notes[0]], results)\n"
   ]
  },
  {
   "cell_type": "code",
   "execution_count": null,
   "id": "8bcf65c6",
   "metadata": {
    "scrolled": true
   },
   "outputs": [],
   "source": [
    "rupee_2000 = int(input(\"2000: \"))\n",
    "rupee_500 = int(input(\"500: \"))\n",
    "rupee_100 = int(input(\"100: \"))\n",
    "rupee_50 = int(input(\"50: \"))\n",
    "rupee_20 = int(input(\"20: \"))\n",
    "rupee_10 = int(input(\"10: \"))\n",
    "rupee_5 = int(input(\"5: \"))\n",
    "\n",
    "amt = int(input(\"enter amount: \"))\n",
    "\n",
    "results = combinations(rupee_2000, rupee_500, rupee_100, rupee_50, rupee_20, rupee_10, rupee_5, amt)\n",
    "if len(results) == 0:\n",
    "    print(\"invalid\")\n",
    "else:\n",
    "    for combination in results:\n",
    "        print(combination)\n"
   ]
  },
  {
   "cell_type": "code",
   "execution_count": null,
   "id": "12bef820",
   "metadata": {},
   "outputs": [],
   "source": []
  },
  {
   "cell_type": "markdown",
   "id": "02831ff2",
   "metadata": {},
   "source": [
    "This program uses a recursive function called find_combinations() to generate all possible combinations of notes. It starts with the largest notes and recursively tries to subtract them from the requested amount until the amount is zero or negative. If the amount is zero, it adds the current combination of notes to the list of results. If the amount is negative or there are no more notes left to try, it returns without adding the current combination to the results. The combinations() function initializes the notes list and calls the find_combinations() function with the notes list, the requested amount, an empty list for the current combination, and an empty list for the results. Finally, it returns the list of results."
   ]
  },
  {
   "cell_type": "code",
   "execution_count": null,
   "id": "8e8fdcab",
   "metadata": {},
   "outputs": [],
   "source": [
    "def combinations(rupee_2000, rupee_500, rupee_100, rupee_50, rupee_20, rupee_10, rupee_5, amt):\n",
    "    note_values = [2000, 500, 100, 50, 20, 10, 5]\n",
    "    note_counts = [rupee_2000, rupee_500, rupee_100, rupee_50, rupee_20, rupee_10, rupee_5]\n",
    "    notes = []\n",
    "    for i in range(len(note_values)):\n",
    "        notes += [note_values[i]] * note_counts[i]\n",
    "    results = []\n",
    "    combinations_helper(notes, amt, [], results)\n",
    "    return results\n",
    "\n",
    "def combinations_helper(notes, amt, current_combination, results):\n",
    "    if amt == 0:\n",
    "        results.append(current_combination)\n",
    "        return\n",
    "    if amt < 0:\n",
    "        return\n",
    "    for i in range(len(notes)):\n",
    "        new_combination = current_combination + [notes[i]]\n",
    "        combinations_helper(notes[i:], amt - notes[i], new_combination, results)\n"
   ]
  },
  {
   "cell_type": "code",
   "execution_count": null,
   "id": "59643e53",
   "metadata": {},
   "outputs": [],
   "source": []
  },
  {
   "cell_type": "code",
   "execution_count": null,
   "id": "3842b22b",
   "metadata": {},
   "outputs": [],
   "source": [
    "def combinations(rupee_2000=3, rupee_500=2, rupee_100=4, rupee_50=2, rupee_20=3, rupee_10=1, rupee_5=2, amt=550):\n",
    "    note_values = [2000, 500, 100, 50, 20, 10, 5]\n",
    "    note_counts = [rupee_2000, rupee_500, rupee_100, rupee_50, rupee_20, rupee_10, rupee_5]\n",
    "    notes = []\n",
    "    for i in range(len(note_values)):\n",
    "        notes += [note_values[i]] * note_counts[i]\n",
    "    #results = []\n",
    "    print(notes)\n",
    "    print(len(notes))"
   ]
  },
  {
   "cell_type": "code",
   "execution_count": null,
   "id": "650dc7dd",
   "metadata": {},
   "outputs": [],
   "source": [
    "combinations()"
   ]
  },
  {
   "cell_type": "code",
   "execution_count": null,
   "id": "ef6faca4",
   "metadata": {},
   "outputs": [],
   "source": [
    "len(notes)"
   ]
  },
  {
   "cell_type": "code",
   "execution_count": null,
   "id": "894069d5",
   "metadata": {},
   "outputs": [],
   "source": [
    "def combinations_helper(notes = [2000, 2000, 2000, 500, 500, 100, 100, 100, 100, 50, 50, 20, 20, 20, 10, 5, 5], amt = 560, current_combination = [], results = []):\n",
    "    if amt == 0:\n",
    "        results.append(current_combination)\n",
    "        return\n",
    "    if amt < 0:\n",
    "        return\n",
    "    for i in range(len(notes)):\n",
    "        print(len(notes))\n",
    "        new_combination = current_combination + [notes[i]]\n",
    "        print(new_combination)\n",
    "        combinations_helper(notes[i:], amt - notes[i], new_combination, results)\n"
   ]
  },
  {
   "cell_type": "code",
   "execution_count": null,
   "id": "bd736ae1",
   "metadata": {},
   "outputs": [],
   "source": []
  },
  {
   "cell_type": "code",
   "execution_count": null,
   "id": "954a152b",
   "metadata": {},
   "outputs": [],
   "source": [
    "def combinations(X, Y, Z, XX, YY, ZZ, XYZ, amount):\n",
    "    note_values = [2000, 500, 100, 50, 20, 10, 5]\n",
    "    note_counts = [X, Y, Z, XX, YY, ZZ, XYZ]\n",
    "    notes = []\n",
    "    for i in range(len(note_values)):\n",
    "        notes += [note_values[i]] * note_counts[i]\n",
    "    results = []\n",
    "    combinations_helper(notes, amount, [], results)\n",
    "    return results\n",
    "\n",
    "def combinations_helper(notes, amount, current_combination, results):\n",
    "    if amount == 0:\n",
    "        results.append(current_combination)\n",
    "        return\n",
    "    if amount < 0:\n",
    "        return\n",
    "    for i in range(len(notes)):\n",
    "        new_combination = current_combination + [notes[i]]\n",
    "        combinations_helper(notes[i:], amount - notes[i], new_combination, results)\n"
   ]
  },
  {
   "cell_type": "code",
   "execution_count": null,
   "id": "fe56eeb5",
   "metadata": {},
   "outputs": [],
   "source": [
    "X = int(input(\"Enter the number of 2000 INR notes: \"))\n",
    "Y = int(input(\"Enter the number of 500 INR notes: \"))\n",
    "Z = int(input(\"Enter the number of 100 INR notes: \"))\n",
    "XX = int(input(\"Enter the number of 50 INR notes: \"))\n",
    "YY = int(input(\"Enter the number of 20 INR notes: \"))\n",
    "ZZ = int(input(\"Enter the number of 10 INR notes: \"))\n",
    "XYZ = int(input(\"Enter the number of 5 INR notes: \"))\n",
    "amount = int(input(\"Enter the amount to be withdrawn: \"))\n",
    "\n",
    "results = combinations(X, Y, Z, XX, YY, ZZ, XYZ, amount)\n",
    "if len(results) == 0:\n",
    "    print(\"Unable to tender the requested amount\")\n",
    "else:\n",
    "    for combination in results:\n",
    "        print(combination)\n"
   ]
  },
  {
   "cell_type": "code",
   "execution_count": 1,
   "id": "c5105915",
   "metadata": {},
   "outputs": [],
   "source": [
    "def tender_notes(X, Y, Z, XX, YY, ZZ, XYZ, amount):\n",
    "    note_counts = [X, Y, Z, XX, YY, ZZ, XYZ]\n",
    "    note_values = [2000, 500, 100, 50, 20, 10, 5]\n",
    "    notes = []\n",
    "    for i in range(len(note_counts)):\n",
    "        notes += [note_values[i]] * note_counts[i]\n",
    "    results = []\n",
    "    tender_notes_helper(notes, amount, [], results)\n",
    "    return results\n",
    "\n",
    "def tender_notes_helper(notes, amount, current, results):\n",
    "    if amount == 0:\n",
    "        results.append(current)\n",
    "        return\n",
    "    if amount < 0 or len(notes) == 0:\n",
    "        return\n",
    "    tender_notes_helper(notes[1:], amount, current, results)\n",
    "    tender_notes_helper(notes, amount - notes[0], current + [notes[0]], results)"
   ]
  },
  {
   "cell_type": "code",
   "execution_count": null,
   "id": "5c27331a",
   "metadata": {},
   "outputs": [],
   "source": [
    "combinations = tender_notes(2, 5, 4, 30, 50, 100, 200, 2730)\n",
    "print(combinations)"
   ]
  },
  {
   "cell_type": "code",
   "execution_count": null,
   "id": "173958f0",
   "metadata": {},
   "outputs": [],
   "source": []
  }
 ],
 "metadata": {
  "kernelspec": {
   "display_name": "Python 3 (ipykernel)",
   "language": "python",
   "name": "python3"
  },
  "language_info": {
   "codemirror_mode": {
    "name": "ipython",
    "version": 3
   },
   "file_extension": ".py",
   "mimetype": "text/x-python",
   "name": "python",
   "nbconvert_exporter": "python",
   "pygments_lexer": "ipython3",
   "version": "3.9.13"
  }
 },
 "nbformat": 4,
 "nbformat_minor": 5
}
