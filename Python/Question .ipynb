{
 "cells": [
  {
   "cell_type": "markdown",
   "id": "21a1815d",
   "metadata": {},
   "source": [
    " * Create a python program find duplicate files by content. User will input path and it will scan all directories, subdirectories to find duplicates files.\n",
    " \n",
    " - delete the duplicate file\n",
    " - use hashlib"
   ]
  },
  {
   "cell_type": "code",
   "execution_count": 1,
   "id": "dd64659d",
   "metadata": {},
   "outputs": [
    {
     "data": {
      "text/plain": [
       "'C:\\\\Users\\\\neroy'"
      ]
     },
     "execution_count": 1,
     "metadata": {},
     "output_type": "execute_result"
    }
   ],
   "source": [
    "import os\n",
    "os.getcwd()"
   ]
  },
  {
   "cell_type": "code",
   "execution_count": 2,
   "id": "6a855330",
   "metadata": {},
   "outputs": [],
   "source": [
    "path_p = 'C:\\\\Users\\\\neroy\\\\Files'\n",
    "files_list = os.listdir(path = path_p)"
   ]
  },
  {
   "cell_type": "code",
   "execution_count": 3,
   "id": "3f9d36cd",
   "metadata": {},
   "outputs": [
    {
     "data": {
      "text/plain": [
       "['file3.txt', 'file4.txt']"
      ]
     },
     "execution_count": 3,
     "metadata": {},
     "output_type": "execute_result"
    }
   ],
   "source": [
    "files_list"
   ]
  },
  {
   "cell_type": "code",
   "execution_count": 4,
   "id": "67c6b9c5",
   "metadata": {},
   "outputs": [
    {
     "data": {
      "text/plain": [
       "'C:\\\\Users\\\\neroy'"
      ]
     },
     "execution_count": 4,
     "metadata": {},
     "output_type": "execute_result"
    }
   ],
   "source": [
    "os.getcwd()"
   ]
  },
  {
   "cell_type": "code",
   "execution_count": 5,
   "id": "5098e620",
   "metadata": {},
   "outputs": [],
   "source": [
    "os.chdir('C:\\\\Users\\\\neroy\\\\Files')"
   ]
  },
  {
   "cell_type": "code",
   "execution_count": 6,
   "id": "6e3fb31b",
   "metadata": {},
   "outputs": [],
   "source": [
    "import hashlib\n",
    "list1 = []\n",
    "for i in files_list:\n",
    "    file_obj = open(i,'r')\n",
    "    #print(file_obj.read())\n",
    "    content = file_obj.read()\n",
    "    #print(content)\n",
    "    file_obj.close()\n",
    "    encode_content = content.encode()\n",
    "    list1.append(hashlib.sha256(encode_content).hexdigest())"
   ]
  },
  {
   "cell_type": "code",
   "execution_count": 7,
   "id": "faa390e1",
   "metadata": {},
   "outputs": [
    {
     "data": {
      "text/plain": [
       "{'file3.txt': 'a1bd8f069bb9ae8d09c611d1d58dd17a695da99593212df14bd28b01874bdf4d',\n",
       " 'file4.txt': 'a1bd8f069bb9ae8d09c611d1d58dd17a695da99593212df14bd28b01874bdf4d'}"
      ]
     },
     "execution_count": 7,
     "metadata": {},
     "output_type": "execute_result"
    }
   ],
   "source": [
    "#dic = {}\n",
    "new_dic = dict(zip(files_list,list1))\n",
    "new_dic"
   ]
  },
  {
   "cell_type": "code",
   "execution_count": 8,
   "id": "156b9f48",
   "metadata": {
    "scrolled": true
   },
   "outputs": [],
   "source": [
    "# file_path = 'file1.txt'\n",
    "# abc_path = os.path.join(path_p,file_path)\n",
    "# abc_path\n"
   ]
  },
  {
   "cell_type": "code",
   "execution_count": 9,
   "id": "8be66445",
   "metadata": {
    "scrolled": true
   },
   "outputs": [],
   "source": [
    "from collections import Counter\n",
    "counts = Counter(new_dic.values())\n",
    "\n",
    "result = {k: v for k, v in new_dic.items() if counts[v] > 1}\n",
    "\n",
    "#print(result.keys())\n"
   ]
  },
  {
   "cell_type": "code",
   "execution_count": 10,
   "id": "ac6c3dd3",
   "metadata": {},
   "outputs": [
    {
     "name": "stdout",
     "output_type": "stream",
     "text": [
      "file3.txt\n",
      "file4.txt\n"
     ]
    }
   ],
   "source": [
    "for i in result:\n",
    "    print(i)"
   ]
  },
  {
   "cell_type": "code",
   "execution_count": 11,
   "id": "6f80bc31",
   "metadata": {},
   "outputs": [
    {
     "name": "stdout",
     "output_type": "stream",
     "text": [
      "C:\\Users\\neroy\\Files\\file3.txt\n",
      "C:\\Users\\neroy\\Files\\file4.txt\n"
     ]
    },
    {
     "data": {
      "text/plain": [
       "'C:\\\\Users\\\\neroy\\\\Files\\\\file4.txt'"
      ]
     },
     "execution_count": 11,
     "metadata": {},
     "output_type": "execute_result"
    }
   ],
   "source": [
    "for i in result:\n",
    "    file_path = i\n",
    "    #print(str(file_path))\n",
    "    abc_path = os.path.join(path_p,file_path)\n",
    "    print(abc_path)\n",
    "abc_path"
   ]
  },
  {
   "cell_type": "code",
   "execution_count": 12,
   "id": "dc8f519a",
   "metadata": {},
   "outputs": [],
   "source": [
    "for i in result:\n",
    "    file_path = i\n",
    "    #print(str(file_path))\n",
    "    abc_path = os.path.join(path_p,file_path)\n",
    "    os.remove(abc_path)"
   ]
  },
  {
   "cell_type": "code",
   "execution_count": 13,
   "id": "4c88d8f8",
   "metadata": {},
   "outputs": [
    {
     "data": {
      "text/plain": [
       "[]"
      ]
     },
     "execution_count": 13,
     "metadata": {},
     "output_type": "execute_result"
    }
   ],
   "source": [
    "os.listdir()"
   ]
  },
  {
   "cell_type": "code",
   "execution_count": 14,
   "id": "ce07b3fc",
   "metadata": {},
   "outputs": [
    {
     "ename": "FileNotFoundError",
     "evalue": "[WinError 2] The system cannot find the file specified: 'C:\\\\Users\\\\neroy\\\\Files\\\\file3.txt'",
     "output_type": "error",
     "traceback": [
      "\u001b[1;31m---------------------------------------------------------------------------\u001b[0m",
      "\u001b[1;31mFileNotFoundError\u001b[0m                         Traceback (most recent call last)",
      "\u001b[1;32m~\\AppData\\Local\\Temp\\ipykernel_8796\\3837556003.py\u001b[0m in \u001b[0;36m<module>\u001b[1;34m\u001b[0m\n\u001b[0;32m     24\u001b[0m     \u001b[1;31m#print(str(file_path))\u001b[0m\u001b[1;33m\u001b[0m\u001b[1;33m\u001b[0m\u001b[0m\n\u001b[0;32m     25\u001b[0m     \u001b[0mabc_path\u001b[0m \u001b[1;33m=\u001b[0m \u001b[0mos\u001b[0m\u001b[1;33m.\u001b[0m\u001b[0mpath\u001b[0m\u001b[1;33m.\u001b[0m\u001b[0mjoin\u001b[0m\u001b[1;33m(\u001b[0m\u001b[0mpath_p\u001b[0m\u001b[1;33m,\u001b[0m\u001b[0mfile_path\u001b[0m\u001b[1;33m)\u001b[0m\u001b[1;33m\u001b[0m\u001b[1;33m\u001b[0m\u001b[0m\n\u001b[1;32m---> 26\u001b[1;33m     \u001b[0mos\u001b[0m\u001b[1;33m.\u001b[0m\u001b[0mremove\u001b[0m\u001b[1;33m(\u001b[0m\u001b[0mabc_path\u001b[0m\u001b[1;33m)\u001b[0m\u001b[1;33m\u001b[0m\u001b[1;33m\u001b[0m\u001b[0m\n\u001b[0m",
      "\u001b[1;31mFileNotFoundError\u001b[0m: [WinError 2] The system cannot find the file specified: 'C:\\\\Users\\\\neroy\\\\Files\\\\file3.txt'"
     ]
    }
   ],
   "source": [
    "# path_p = 'C:\\\\Users\\\\neroy\\\\Files'\n",
    "# files_list = os.listdir(path = path_p)\n",
    "# os.chdir('C:\\\\Users\\\\neroy\\\\Files')\n",
    "\n",
    "# import hashlib\n",
    "# list1 = []\n",
    "# for i in files_list:\n",
    "#     file_obj = open(i,'r')\n",
    "#     #print(file_obj.read())\n",
    "#     content = file_obj.read()\n",
    "#     #print(content)\n",
    "#     file_obj.close()\n",
    "#     encode_content = content.encode()\n",
    "#     list1.append(hashlib.sha256(encode_content).hexdigest())\n",
    "\n",
    "# from collections import Counter\n",
    "# counts = Counter(new_dic.values())\n",
    "\n",
    "# result = {k: v for k, v in new_dic.items() if counts[v] > 1}\n",
    "\n",
    "# #print(result.keys())\n",
    "# for i in result:\n",
    "#     file_path = i\n",
    "#     #print(str(file_path))\n",
    "#     abc_path = os.path.join(path_p,file_path)\n",
    "#     os.remove(abc_path)"
   ]
  },
  {
   "cell_type": "code",
   "execution_count": null,
   "id": "241d025b",
   "metadata": {},
   "outputs": [],
   "source": []
  },
  {
   "cell_type": "markdown",
   "id": "9d37f1b0",
   "metadata": {},
   "source": [
    "* Generate random password iwth exact length = 6 with minimum 1 uppercase, 2 lowercase, 3 digits"
   ]
  },
  {
   "cell_type": "code",
   "execution_count": 51,
   "id": "4fb0a38a",
   "metadata": {},
   "outputs": [],
   "source": [
    "import random\n",
    "import string\n",
    "n1 = random.randint(0, 9)\n",
    "n2 = random.randint(0, 9)\n",
    "n3 = random.randint(0, 9)\n",
    "l1 = random.choice(string.ascii_lowercase)\n",
    "l2 = random.choice(string.ascii_lowercase)\n",
    "u1 = random.choice(string.ascii_uppercase)\n",
    "neel_password = [str(n1),str(2),str(n3),l1,l2,u1]\n",
    "random.shuffle(neel_password)\n",
    "secret_password = \"\"\n",
    "for i in neel_password:\n",
    "    secret_password+=i"
   ]
  },
  {
   "cell_type": "code",
   "execution_count": 52,
   "id": "e30f0136",
   "metadata": {},
   "outputs": [
    {
     "data": {
      "text/plain": [
       "'O85i2h'"
      ]
     },
     "execution_count": 52,
     "metadata": {},
     "output_type": "execute_result"
    }
   ],
   "source": [
    "secret_password"
   ]
  },
  {
   "cell_type": "code",
   "execution_count": null,
   "id": "64e0992c",
   "metadata": {},
   "outputs": [],
   "source": [
    "import random\n",
    "import string\n",
    "n1 = random.randint(0, 9)\n",
    "n2 = random.randint(0, 9)\n",
    "n3 = random.randint(0, 9)\n",
    "l1 = random.choice(string.ascii_lowercase)\n",
    "l2 = random.choice(string.ascii_lowercase)\n",
    "u1 = random.str(a,z)\n",
    "neel_password = [str(n1),str(2),str(n3),l1,l2,u1]\n",
    "random.shuffle(neel_password)\n",
    "secret_password = \"\"\n",
    "for i in neel_password:\n",
    "    secret_password+=i"
   ]
  }
 ],
 "metadata": {
  "kernelspec": {
   "display_name": "Python 3 (ipykernel)",
   "language": "python",
   "name": "python3"
  },
  "language_info": {
   "codemirror_mode": {
    "name": "ipython",
    "version": 3
   },
   "file_extension": ".py",
   "mimetype": "text/x-python",
   "name": "python",
   "nbconvert_exporter": "python",
   "pygments_lexer": "ipython3",
   "version": "3.9.13"
  }
 },
 "nbformat": 4,
 "nbformat_minor": 5
}
