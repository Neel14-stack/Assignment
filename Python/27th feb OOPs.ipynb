{
 "cells": [
  {
   "cell_type": "markdown",
   "id": "26ab9e65",
   "metadata": {},
   "source": [
    "### OOPs concept\n",
    "    * OOPs uses a bottom up approach\n",
    "    * the program is divided into objects\n",
    "    * oops uses access modifier\n",
    "    * objects can move freely within member function\n",
    "    \n",
    "    - object have 3 thing (identity, state/attribute, behaviour)\n",
    "    \n",
    "    "
   ]
  },
  {
   "cell_type": "markdown",
   "id": "7738253d",
   "metadata": {},
   "source": [
    "* self is object name, self is referring to object name\n",
    "- self is alawys the first parameter to pass in the class and whenvever we call a method on the object the object itselfi s automatically passed as the first parameter"
   ]
  },
  {
   "cell_type": "markdown",
   "id": "888a54e6",
   "metadata": {},
   "source": [
    "* A class is an object constructor or a blueprint for creating objects\n",
    "* objects are nothing but an encapsulation of multiple variables and methods in a single entity\n",
    "* Objects get thier vairables and fucntions from classes\n",
    "* self parameter is reference to current/newly created object of class, with object user can access attributes/methods etc.\n",
    "* self is the first parameter of any method(function) in class"
   ]
  },
  {
   "cell_type": "code",
   "execution_count": 1,
   "id": "5adeb491",
   "metadata": {},
   "outputs": [
    {
     "name": "stdout",
     "output_type": "stream",
     "text": [
      "hello Neel\n"
     ]
    }
   ],
   "source": [
    "class Classname:\n",
    "    def createname(self,name):\n",
    "        self.name = name\n",
    "    def greeting(self):\n",
    "        print(f'hello {self.name}')\n",
    "\n",
    "obj = Classname()\n",
    "obj.createname('Neel')\n",
    "obj.greeting()"
   ]
  },
  {
   "cell_type": "code",
   "execution_count": 5,
   "id": "20610e05",
   "metadata": {},
   "outputs": [
    {
     "name": "stdout",
     "output_type": "stream",
     "text": [
      "hello  Neel\n"
     ]
    }
   ],
   "source": [
    "class Classname:\n",
    "    def createname(self,name):\n",
    "        name = name\n",
    "        print('hello ',name)\n",
    "    #def greeting(self):\n",
    "     #   print(f'hello {name}')\n",
    "\n",
    "obj = Classname()\n",
    "obj.createname('Neel')\n",
    "#obj.greeting()"
   ]
  },
  {
   "cell_type": "markdown",
   "id": "e515df8d",
   "metadata": {},
   "source": [
    "* __init__ which is special method, when we the class object a new instance of the class is created and the __init__ method on this new object is immediately executed withall the parameters that we passed to the class object\n",
    "\n",
    "* __init__ is a method that is automatically claeed whne memory is allocated to a new object\n",
    " * in the init() method self reers to the newly created object, in other methods it refers to the instance whose mehtod was called\n",
    " \n",
    "* basically it works as a constructor\n"
   ]
  },
  {
   "cell_type": "code",
   "execution_count": 16,
   "id": "6e995f20",
   "metadata": {},
   "outputs": [],
   "source": [
    "#create a employee class\n",
    "\n",
    "class Employee:\n",
    "    def __init__(self,name,empid):          #__init__() method is used to assign value at the object declaration\n",
    "        self.Name = name\n",
    "        self.Empid = empid\n",
    "    def greet(self):\n",
    "        print('Thanks for joining TGS comapnay {}'.format(self.Name))"
   ]
  },
  {
   "cell_type": "code",
   "execution_count": 8,
   "id": "721d21ba",
   "metadata": {},
   "outputs": [],
   "source": [
    "emp1 = Employee('Neel',7)"
   ]
  },
  {
   "cell_type": "code",
   "execution_count": 9,
   "id": "755601f6",
   "metadata": {},
   "outputs": [
    {
     "name": "stdout",
     "output_type": "stream",
     "text": [
      "Thanks for joining TGS comapnay Neel\n"
     ]
    }
   ],
   "source": [
    "emp1.greet()"
   ]
  },
  {
   "cell_type": "code",
   "execution_count": 10,
   "id": "c31fff11",
   "metadata": {},
   "outputs": [
    {
     "data": {
      "text/plain": [
       "7"
      ]
     },
     "execution_count": 10,
     "metadata": {},
     "output_type": "execute_result"
    }
   ],
   "source": [
    "emp1.Empid"
   ]
  },
  {
   "cell_type": "code",
   "execution_count": 11,
   "id": "32d59dc5",
   "metadata": {},
   "outputs": [],
   "source": [
    "#create a employee class\n",
    "\n",
    "class Employee:\n",
    "    def pk(self,name,empid):          #__init__() method is used to assign value at the object declaration\n",
    "        self.Name = name\n",
    "        self.Empid = empid\n",
    "    def greet(self):\n",
    "        print('Thanks for joining TGS comapnay {}'.format(self.Name))"
   ]
  },
  {
   "cell_type": "code",
   "execution_count": 12,
   "id": "e55e69ec",
   "metadata": {},
   "outputs": [],
   "source": [
    "emp1 = Employee()"
   ]
  },
  {
   "cell_type": "code",
   "execution_count": 13,
   "id": "fb9e91c0",
   "metadata": {},
   "outputs": [],
   "source": [
    "emp1.pk('neel',7)"
   ]
  },
  {
   "cell_type": "code",
   "execution_count": 14,
   "id": "57bf9d73",
   "metadata": {},
   "outputs": [
    {
     "name": "stdout",
     "output_type": "stream",
     "text": [
      "Thanks for joining TGS comapnay neel\n"
     ]
    }
   ],
   "source": [
    "emp1.greet()"
   ]
  },
  {
   "cell_type": "markdown",
   "id": "bcbf679a",
   "metadata": {},
   "source": [
    "* instance is the attribute, for example earlier we have name and empid as instance....but now we can create instance on our own"
   ]
  },
  {
   "cell_type": "markdown",
   "id": "37becc83",
   "metadata": {},
   "source": [
    "#### country is the instance of the object emp2 in the below code"
   ]
  },
  {
   "cell_type": "code",
   "execution_count": 17,
   "id": "0e51b054",
   "metadata": {},
   "outputs": [
    {
     "name": "stdout",
     "output_type": "stream",
     "text": [
      "9\n",
      "parth\n",
      "India\n"
     ]
    }
   ],
   "source": [
    "#create another object\n",
    "emp2 = Employee('parth',9)\n",
    "print(emp2.Empid)\n",
    "print(emp2.Name)\n",
    "\n",
    "emp2.country = 'India' #\n",
    "\n",
    "print(emp2.country)\n"
   ]
  },
  {
   "cell_type": "code",
   "execution_count": 18,
   "id": "5bbba953",
   "metadata": {},
   "outputs": [],
   "source": [
    "#Delete an object properties\n",
    "\n",
    "del(emp1)"
   ]
  },
  {
   "cell_type": "markdown",
   "id": "dc430455",
   "metadata": {},
   "source": [
    "#### Exercise: create a class person\n",
    "    * intialie values"
   ]
  },
  {
   "cell_type": "code",
   "execution_count": 20,
   "id": "bf5deb5a",
   "metadata": {},
   "outputs": [],
   "source": [
    "import datetime"
   ]
  },
  {
   "cell_type": "code",
   "execution_count": 27,
   "id": "a36ed8e1",
   "metadata": {},
   "outputs": [],
   "source": [
    "class Person:\n",
    "    def __init__(self,name,surname,birthdate,address,contact,email):\n",
    "        self.name = name\n",
    "        self.surname = surname\n",
    "        self.birthday = datetime.date(birthday)\n",
    "        self.address = address\n",
    "        self.contact = self.contact\n",
    "        self.email = email\n",
    "    \n",
    "    def cal_age(self):\n",
    "        days_year = 365\n",
    "        today = datetime.date.today()\n",
    "        age = int((today - birthDate).days / days_year)\n",
    "        return age\n",
    "        \n",
    "\n",
    "        \n",
    "        "
   ]
  },
  {
   "cell_type": "code",
   "execution_count": 23,
   "id": "8f0d899f",
   "metadata": {},
   "outputs": [
    {
     "ename": "TypeError",
     "evalue": "int() argument must be a string, a bytes-like object or a number, not 'datetime.date'",
     "output_type": "error",
     "traceback": [
      "\u001b[1;31m---------------------------------------------------------------------------\u001b[0m",
      "\u001b[1;31mTypeError\u001b[0m                                 Traceback (most recent call last)",
      "\u001b[1;32m~\\AppData\\Local\\Temp\\ipykernel_17664\\3615121565.py\u001b[0m in \u001b[0;36m<module>\u001b[1;34m\u001b[0m\n\u001b[1;32m----> 1\u001b[1;33m \u001b[0mtoday\u001b[0m \u001b[1;33m=\u001b[0m \u001b[0mint\u001b[0m\u001b[1;33m(\u001b[0m\u001b[0mdatetime\u001b[0m\u001b[1;33m.\u001b[0m\u001b[0mdate\u001b[0m\u001b[1;33m.\u001b[0m\u001b[0mtoday\u001b[0m\u001b[1;33m(\u001b[0m\u001b[1;33m)\u001b[0m\u001b[1;33m)\u001b[0m\u001b[1;33m\u001b[0m\u001b[1;33m\u001b[0m\u001b[0m\n\u001b[0m\u001b[0;32m      2\u001b[0m \u001b[0mprint\u001b[0m\u001b[1;33m(\u001b[0m\u001b[0mtoday\u001b[0m \u001b[1;33m-\u001b[0m \u001b[1;33m(\u001b[0m\u001b[1;36m2001\u001b[0m\u001b[1;33m-\u001b[0m\u001b[1;36m8\u001b[0m\u001b[1;33m-\u001b[0m\u001b[1;36m16\u001b[0m\u001b[1;33m)\u001b[0m\u001b[1;33m)\u001b[0m\u001b[1;33m\u001b[0m\u001b[1;33m\u001b[0m\u001b[0m\n",
      "\u001b[1;31mTypeError\u001b[0m: int() argument must be a string, a bytes-like object or a number, not 'datetime.date'"
     ]
    }
   ],
   "source": [
    "today = datetime.date.today()\n",
    "print(today - (2001-8-16))"
   ]
  },
  {
   "cell_type": "code",
   "execution_count": 40,
   "id": "54b2821b",
   "metadata": {},
   "outputs": [],
   "source": [
    "class Person:\n",
    "    def __init__(self,birthday):#name,surname,birthdate,address,contact,email):\n",
    "        #self.name = name\n",
    "        #self.surname = surname\n",
    "        self.birthday = birthday\n",
    "        #self.address = address\n",
    "        #self.contact = self.contact\n",
    "        #self.email = email\n",
    "    \n",
    "    def cal_age(self):\n",
    "        days_year = 365\n",
    "        today = datetime.date.today()\n",
    "        age = int((today - self.birthday).days / days_year)\n",
    "        return age\n",
    "        \n",
    "\n",
    "        \n",
    "        "
   ]
  },
  {
   "cell_type": "code",
   "execution_count": 41,
   "id": "a1acb405",
   "metadata": {},
   "outputs": [
    {
     "data": {
      "text/plain": [
       "21"
      ]
     },
     "execution_count": 41,
     "metadata": {},
     "output_type": "execute_result"
    }
   ],
   "source": [
    "ob = Person(datetime.date(2001,8,15))\n",
    "ob.cal_age()"
   ]
  },
  {
   "cell_type": "code",
   "execution_count": 48,
   "id": "95fe4821",
   "metadata": {},
   "outputs": [],
   "source": [
    "class Person:\n",
    "    def __init__(self,birthday):#name,surname,birthdate,address,contact,email):\n",
    "        #self.name = name\n",
    "        #self.surname = surname\n",
    "        self.birthday = birthday\n",
    "        #self.address = address\n",
    "        #self.contact = self.contact\n",
    "        #self.email = email\n",
    "    \n",
    "    def cal_age(self):\n",
    "        days_year = 365\n",
    "        today = datetime.date.today()\n",
    "        age = (today - self.birthday).days//365\n",
    "        return age\n",
    "        \n",
    "\n",
    "        \n",
    "        "
   ]
  },
  {
   "cell_type": "code",
   "execution_count": 49,
   "id": "2c240368",
   "metadata": {},
   "outputs": [
    {
     "data": {
      "text/plain": [
       "21"
      ]
     },
     "execution_count": 49,
     "metadata": {},
     "output_type": "execute_result"
    }
   ],
   "source": [
    "ob = Person(datetime.date(2001,8,15))\n",
    "ob.cal_age()"
   ]
  },
  {
   "cell_type": "code",
   "execution_count": 52,
   "id": "baaaad89",
   "metadata": {},
   "outputs": [],
   "source": [
    "class Person:\n",
    "    def __init__(self,*args):#name,surname,birthdate,address,contact,email):\n",
    "        self.name = args[0]\n",
    "        self.surname = surname\n",
    "        self.birthday = birthday\n",
    "        #self.address = address\n",
    "        #self.contact = self.contact\n",
    "        #self.email = email\n",
    "    \n",
    "    def cal_age(self):\n",
    "        days_year = 365\n",
    "        today = datetime.date.today()\n",
    "        age = (today - self.birthday).days//365\n",
    "        return age\n",
    "        "
   ]
  },
  {
   "cell_type": "code",
   "execution_count": 53,
   "id": "f2ddeec2",
   "metadata": {},
   "outputs": [
    {
     "ename": "NameError",
     "evalue": "name 'surname' is not defined",
     "output_type": "error",
     "traceback": [
      "\u001b[1;31m---------------------------------------------------------------------------\u001b[0m",
      "\u001b[1;31mNameError\u001b[0m                                 Traceback (most recent call last)",
      "\u001b[1;32m~\\AppData\\Local\\Temp\\ipykernel_17664\\1644463125.py\u001b[0m in \u001b[0;36m<module>\u001b[1;34m\u001b[0m\n\u001b[1;32m----> 1\u001b[1;33m \u001b[0mobj\u001b[0m \u001b[1;33m=\u001b[0m \u001b[0mPerson\u001b[0m\u001b[1;33m(\u001b[0m\u001b[1;34m'Neel'\u001b[0m\u001b[1;33m,\u001b[0m\u001b[1;36m21\u001b[0m\u001b[1;33m,\u001b[0m\u001b[1;34m'hyd'\u001b[0m\u001b[1;33m)\u001b[0m\u001b[1;33m\u001b[0m\u001b[1;33m\u001b[0m\u001b[0m\n\u001b[0m",
      "\u001b[1;32m~\\AppData\\Local\\Temp\\ipykernel_17664\\250839988.py\u001b[0m in \u001b[0;36m__init__\u001b[1;34m(self, *args)\u001b[0m\n\u001b[0;32m      2\u001b[0m     \u001b[1;32mdef\u001b[0m \u001b[0m__init__\u001b[0m\u001b[1;33m(\u001b[0m\u001b[0mself\u001b[0m\u001b[1;33m,\u001b[0m\u001b[1;33m*\u001b[0m\u001b[0margs\u001b[0m\u001b[1;33m)\u001b[0m\u001b[1;33m:\u001b[0m\u001b[1;31m#name,surname,birthdate,address,contact,email):\u001b[0m\u001b[1;33m\u001b[0m\u001b[1;33m\u001b[0m\u001b[0m\n\u001b[0;32m      3\u001b[0m         \u001b[0mself\u001b[0m\u001b[1;33m.\u001b[0m\u001b[0mname\u001b[0m \u001b[1;33m=\u001b[0m \u001b[0margs\u001b[0m\u001b[1;33m[\u001b[0m\u001b[1;36m0\u001b[0m\u001b[1;33m]\u001b[0m\u001b[1;33m\u001b[0m\u001b[1;33m\u001b[0m\u001b[0m\n\u001b[1;32m----> 4\u001b[1;33m         \u001b[0mself\u001b[0m\u001b[1;33m.\u001b[0m\u001b[0msurname\u001b[0m \u001b[1;33m=\u001b[0m \u001b[0msurname\u001b[0m\u001b[1;33m\u001b[0m\u001b[1;33m\u001b[0m\u001b[0m\n\u001b[0m\u001b[0;32m      5\u001b[0m         \u001b[0mself\u001b[0m\u001b[1;33m.\u001b[0m\u001b[0mbirthday\u001b[0m \u001b[1;33m=\u001b[0m \u001b[0mbirthday\u001b[0m\u001b[1;33m\u001b[0m\u001b[1;33m\u001b[0m\u001b[0m\n\u001b[0;32m      6\u001b[0m         \u001b[1;31m#self.address = address\u001b[0m\u001b[1;33m\u001b[0m\u001b[1;33m\u001b[0m\u001b[0m\n",
      "\u001b[1;31mNameError\u001b[0m: name 'surname' is not defined"
     ]
    }
   ],
   "source": [
    "obj = Person('Neel',21,'hyd')"
   ]
  },
  {
   "cell_type": "markdown",
   "id": "a336f862",
   "metadata": {},
   "source": [
    "### Access Modifier\n",
    "    * Public access modifier\n",
    "    * protected access modifier\n",
    "    * private access modifier\n",
    "    \n",
    "    - member of a class that are declared public are easily accessible from any part of the program. all data members and member functions of a class are public by default\n",
    "    - data of a cclass are declared protected by adding a single underscore symbol before the data memebr of that class\n",
    "        class Car:\n",
    "            _brand = None\n",
    "            _model = None\n",
    "        \n",
    "    - data member of a class are delcared private by adding a double underscore symbol before the data member of that class\n",
    "        class car:\n",
    "            __brand = None\n",
    "            __model = None"
   ]
  },
  {
   "cell_type": "code",
   "execution_count": 54,
   "id": "a4559195",
   "metadata": {},
   "outputs": [],
   "source": [
    "class Employee:\n",
    "    def __init__(self,name,age):\n",
    "        self.employee_name = name\n",
    "        self.employee_age = age\n",
    "    \n",
    "    def printage(self):\n",
    "        print(\"employee age: \",self.employee_age)"
   ]
  },
  {
   "cell_type": "code",
   "execution_count": 55,
   "id": "183c7833",
   "metadata": {},
   "outputs": [],
   "source": [
    "obj = Employee('Neel',21)"
   ]
  },
  {
   "cell_type": "code",
   "execution_count": 56,
   "id": "139be9f5",
   "metadata": {},
   "outputs": [
    {
     "name": "stdout",
     "output_type": "stream",
     "text": [
      "employee age:  21\n"
     ]
    }
   ],
   "source": [
    "obj.printage()"
   ]
  },
  {
   "cell_type": "markdown",
   "id": "b3f57e71",
   "metadata": {},
   "source": [
    "### Protected access modifier"
   ]
  },
  {
   "cell_type": "code",
   "execution_count": 75,
   "id": "fef598ac",
   "metadata": {},
   "outputs": [],
   "source": [
    "#super class\n",
    "class Employee2:\n",
    "    _name = None\n",
    "    _age = 0\n",
    "    \n",
    "    def __init__(self,name,age):\n",
    "        self._employee2_name = name\n",
    "        self._employee2_age = age\n",
    "    \n",
    "    def _printemployee2age(self):\n",
    "        print('Employee 2 age is: ',self._employee2_age)\n",
    "    "
   ]
  },
  {
   "cell_type": "code",
   "execution_count": 76,
   "id": "e575f979",
   "metadata": {},
   "outputs": [
    {
     "name": "stdout",
     "output_type": "stream",
     "text": [
      "Employee 2 age is:  16\n"
     ]
    }
   ],
   "source": [
    "obj2 = Employee2('Bakugo',16)\n",
    "obj2._printemployee2age()"
   ]
  },
  {
   "cell_type": "code",
   "execution_count": 79,
   "id": "6865b275",
   "metadata": {},
   "outputs": [],
   "source": [
    "#derive class - derived class can access protected data members of parent class\n",
    "class empdetails(Employee2):\n",
    "    def __init__ (self,name,age):\n",
    "        #calling parent class constructor\n",
    "        Employee2.__init__(self,name,age)\n",
    "        \n",
    "    # public method \n",
    "    def displaydetails(self):\n",
    "        print('name',self._employee2_name)\n",
    "        self._printemployee2age()"
   ]
  },
  {
   "cell_type": "code",
   "execution_count": 80,
   "id": "65053bb7",
   "metadata": {},
   "outputs": [
    {
     "name": "stdout",
     "output_type": "stream",
     "text": [
      "name kamal\n",
      "Employee 2 age is:  45\n"
     ]
    }
   ],
   "source": [
    "obj3 = empdetails('kamal',45)\n",
    "obj3.displaydetails()"
   ]
  },
  {
   "cell_type": "code",
   "execution_count": 86,
   "id": "57471ed3",
   "metadata": {},
   "outputs": [],
   "source": [
    "#super class\n",
    "class Employee2:\n",
    "    #private data members\n",
    "    __name = None\n",
    "    __age = 0\n",
    "    \n",
    "    def __init__(self,name,age):\n",
    "        #private data memebers\n",
    "        self.__employee2_name = name\n",
    "        self.__employee2_age = age\n",
    "    \n",
    "    def __printemployee2age(self):\n",
    "        print('Employee 2 age is: ',self.__employee2_age)\n",
    "        \n",
    "    \n",
    "    def accessprivatefucntion(self):\n",
    "        self.__printemployee2age()\n",
    "    "
   ]
  },
  {
   "cell_type": "code",
   "execution_count": 87,
   "id": "7fd80079",
   "metadata": {},
   "outputs": [
    {
     "name": "stdout",
     "output_type": "stream",
     "text": [
      "Employee 2 age is:  24\n"
     ]
    }
   ],
   "source": [
    "obj5 = Employee2('Sandeep',24)\n",
    "obj5.accessprivatefucntion()"
   ]
  },
  {
   "cell_type": "code",
   "execution_count": null,
   "id": "96a1e689",
   "metadata": {},
   "outputs": [],
   "source": []
  }
 ],
 "metadata": {
  "kernelspec": {
   "display_name": "Python 3 (ipykernel)",
   "language": "python",
   "name": "python3"
  },
  "language_info": {
   "codemirror_mode": {
    "name": "ipython",
    "version": 3
   },
   "file_extension": ".py",
   "mimetype": "text/x-python",
   "name": "python",
   "nbconvert_exporter": "python",
   "pygments_lexer": "ipython3",
   "version": "3.9.13"
  }
 },
 "nbformat": 4,
 "nbformat_minor": 5
}
