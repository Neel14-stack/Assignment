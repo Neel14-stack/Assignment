{
 "cells": [
  {
   "cell_type": "code",
   "execution_count": 1,
   "id": "243cb7b5",
   "metadata": {
    "scrolled": true
   },
   "outputs": [
    {
     "name": "stdout",
     "output_type": "stream",
     "text": [
      "Requirement already satisfied: pytest in c:\\users\\neroy\\anaconda3\\lib\\site-packages (7.1.2)\n",
      "Requirement already satisfied: attrs>=19.2.0 in c:\\users\\neroy\\anaconda3\\lib\\site-packages (from pytest) (21.4.0)\n",
      "Requirement already satisfied: iniconfig in c:\\users\\neroy\\anaconda3\\lib\\site-packages (from pytest) (1.1.1)\n",
      "Requirement already satisfied: packaging in c:\\users\\neroy\\anaconda3\\lib\\site-packages (from pytest) (21.3)\n",
      "Requirement already satisfied: pluggy<2.0,>=0.12 in c:\\users\\neroy\\anaconda3\\lib\\site-packages (from pytest) (1.0.0)\n",
      "Requirement already satisfied: py>=1.8.2 in c:\\users\\neroy\\anaconda3\\lib\\site-packages (from pytest) (1.11.0)\n",
      "Requirement already satisfied: tomli>=1.0.0 in c:\\users\\neroy\\anaconda3\\lib\\site-packages (from pytest) (2.0.1)\n",
      "Requirement already satisfied: atomicwrites>=1.0 in c:\\users\\neroy\\anaconda3\\lib\\site-packages (from pytest) (1.4.0)\n",
      "Requirement already satisfied: colorama in c:\\users\\neroy\\anaconda3\\lib\\site-packages (from pytest) (0.4.5)\n",
      "Requirement already satisfied: pyparsing!=3.0.5,>=2.0.2 in c:\\users\\neroy\\anaconda3\\lib\\site-packages (from packaging->pytest) (3.0.9)\n",
      "Note: you may need to restart the kernel to use updated packages.\n"
     ]
    }
   ],
   "source": [
    "pip install pytest"
   ]
  },
  {
   "cell_type": "markdown",
   "id": "2188bbb9",
   "metadata": {},
   "source": [
    " ### Theory\n",
    "    * Graysclae is 2-d matrix.\n",
    "    * black and white is 3-d matrix, and rbg is also 3-d matrix."
   ]
  },
  {
   "cell_type": "markdown",
   "id": "427ddfab",
   "metadata": {},
   "source": [
    "Numpy Numerical -Python\n",
    "Pandas-pyton data anaylsis Libraries\n",
    "#### Structured:\n",
    "When Data is arranged in tabular form\n",
    "e.g->RDBMS,Excel,MsAccess\n",
    "    delimiter=> space,comma,semi-colons,tab\n",
    "#### SemiStructured:\n",
    "    json=> key value pair\n",
    "    xml.xml\n",
    "    xml.xml\n",
    "    row<id>\n",
    "#### Unstructured:\n",
    "text file,pdf,docs,html\n",
    "#### they have thier own staructure of storing data[Big data file formats]\n",
    "These files stores data in compressed format\n",
    "parquet,avro"
   ]
  },
  {
   "cell_type": "code",
   "execution_count": 26,
   "id": "76088dd9",
   "metadata": {},
   "outputs": [],
   "source": [
    "# Numerical python(numpy alias as np)\n",
    "import numpy as np"
   ]
  },
  {
   "cell_type": "code",
   "execution_count": 2,
   "id": "754d70b5",
   "metadata": {},
   "outputs": [
    {
     "name": "stdout",
     "output_type": "stream",
     "text": [
      "1.21.5\n"
     ]
    }
   ],
   "source": [
    "print(np.__version__)"
   ]
  },
  {
   "cell_type": "code",
   "execution_count": 7,
   "id": "02787b5a",
   "metadata": {},
   "outputs": [
    {
     "name": "stdout",
     "output_type": "stream",
     "text": [
      "<class 'list'>\n"
     ]
    },
    {
     "data": {
      "text/plain": [
       "array([1, 2, 3, 4, 5, 6, 7, 8, 9])"
      ]
     },
     "execution_count": 7,
     "metadata": {},
     "output_type": "execute_result"
    }
   ],
   "source": [
    "list1 = [1,2,3,4,5,6,7,8,9]\n",
    "print(type(list1))\n",
    "np.array(list1)"
   ]
  },
  {
   "cell_type": "code",
   "execution_count": 5,
   "id": "8c6863da",
   "metadata": {},
   "outputs": [
    {
     "data": {
      "text/plain": [
       "numpy.ndarray"
      ]
     },
     "execution_count": 5,
     "metadata": {},
     "output_type": "execute_result"
    }
   ],
   "source": [
    "# N-Dimensional Array\n",
    "type(np.array(list1))"
   ]
  },
  {
   "cell_type": "code",
   "execution_count": 6,
   "id": "83dbdf4e",
   "metadata": {},
   "outputs": [
    {
     "data": {
      "text/plain": [
       "dtype('int32')"
      ]
     },
     "execution_count": 6,
     "metadata": {},
     "output_type": "execute_result"
    }
   ],
   "source": [
    "arr1 = np.array(list1)\n",
    "arr1.dtype"
   ]
  },
  {
   "cell_type": "code",
   "execution_count": 8,
   "id": "ad46c9e2",
   "metadata": {},
   "outputs": [
    {
     "data": {
      "text/plain": [
       "(9,)"
      ]
     },
     "execution_count": 8,
     "metadata": {},
     "output_type": "execute_result"
    }
   ],
   "source": [
    "arr1.shape"
   ]
  },
  {
   "cell_type": "code",
   "execution_count": 9,
   "id": "f5f944dd",
   "metadata": {},
   "outputs": [
    {
     "data": {
      "text/plain": [
       "1"
      ]
     },
     "execution_count": 9,
     "metadata": {},
     "output_type": "execute_result"
    }
   ],
   "source": [
    "arr1.ndim"
   ]
  },
  {
   "cell_type": "code",
   "execution_count": 10,
   "id": "bafb4659",
   "metadata": {},
   "outputs": [
    {
     "name": "stdout",
     "output_type": "stream",
     "text": [
      "4\n"
     ]
    }
   ],
   "source": [
    "print(arr1.itemsize)"
   ]
  },
  {
   "cell_type": "code",
   "execution_count": 11,
   "id": "6dd8706d",
   "metadata": {},
   "outputs": [
    {
     "name": "stdout",
     "output_type": "stream",
     "text": [
      "36\n"
     ]
    }
   ],
   "source": [
    "print(arr1.nbytes)"
   ]
  },
  {
   "cell_type": "markdown",
   "id": "22c18e05",
   "metadata": {},
   "source": [
    " ## Array Operations\n",
    "     * Simple Array Math Operations"
   ]
  },
  {
   "cell_type": "code",
   "execution_count": 81,
   "id": "b001184f",
   "metadata": {},
   "outputs": [
    {
     "name": "stdout",
     "output_type": "stream",
     "text": [
      "(123, 'abc', 123, 'abc')\n"
     ]
    }
   ],
   "source": [
    "tt = (123,'abc')\n",
    "print(tt*2)"
   ]
  },
  {
   "cell_type": "code",
   "execution_count": 82,
   "id": "a15bd7ce",
   "metadata": {},
   "outputs": [
    {
     "ename": "TypeError",
     "evalue": "'set' object is not subscriptable",
     "output_type": "error",
     "traceback": [
      "\u001b[1;31m---------------------------------------------------------------------------\u001b[0m",
      "\u001b[1;31mTypeError\u001b[0m                                 Traceback (most recent call last)",
      "\u001b[1;32m~\\AppData\\Local\\Temp\\ipykernel_21308\\2837158293.py\u001b[0m in \u001b[0;36m<module>\u001b[1;34m\u001b[0m\n\u001b[0;32m      1\u001b[0m \u001b[0md\u001b[0m \u001b[1;33m=\u001b[0m \u001b[1;33m{\u001b[0m\u001b[1;34m'a'\u001b[0m\u001b[1;33m,\u001b[0m\u001b[1;34m'b'\u001b[0m\u001b[1;33m,\u001b[0m\u001b[1;34m'c'\u001b[0m\u001b[1;33m}\u001b[0m\u001b[1;33m\u001b[0m\u001b[1;33m\u001b[0m\u001b[0m\n\u001b[1;32m----> 2\u001b[1;33m \u001b[0mprint\u001b[0m\u001b[1;33m(\u001b[0m\u001b[0md\u001b[0m\u001b[1;33m[\u001b[0m\u001b[1;34m'b'\u001b[0m\u001b[1;33m]\u001b[0m\u001b[1;33m)\u001b[0m\u001b[1;33m\u001b[0m\u001b[1;33m\u001b[0m\u001b[0m\n\u001b[0m",
      "\u001b[1;31mTypeError\u001b[0m: 'set' object is not subscriptable"
     ]
    }
   ],
   "source": [
    "d = {'a','b','c'}\n",
    "print(d['b'])"
   ]
  },
  {
   "cell_type": "code",
   "execution_count": 85,
   "id": "682ec631",
   "metadata": {},
   "outputs": [
    {
     "name": "stdout",
     "output_type": "stream",
     "text": [
      "a\n",
      "b\n",
      "c\n"
     ]
    }
   ],
   "source": [
    "a = ['a','b','c']\n",
    "for i in a:\n",
    "    print(\"n\".join(i))"
   ]
  },
  {
   "cell_type": "code",
   "execution_count": null,
   "id": "446fa22a",
   "metadata": {},
   "outputs": [],
   "source": [
    "l = []\n",
    "?`insert()"
   ]
  },
  {
   "cell_type": "markdown",
   "id": "34a6107c",
   "metadata": {},
   "source": [
    " #### Why Numpy are better than lists"
   ]
  },
  {
   "cell_type": "code",
   "execution_count": 45,
   "id": "af28447b",
   "metadata": {},
   "outputs": [],
   "source": [
    "list2 = [10,20,30,40,50,60,70,80]\n",
    "list3 = [2,4,5,6,5,8,6,2,2]\n",
    "\n",
    "l = []\n",
    "for i in range(0,len(list2)):\n",
    "    l.append(list2[i]/list3[i])"
   ]
  },
  {
   "cell_type": "code",
   "execution_count": 24,
   "id": "31fb80d4",
   "metadata": {},
   "outputs": [
    {
     "data": {
      "text/plain": [
       "[5.0, 5.0, 6.0, 6.666666666666667, 10.0, 7.5, 11.666666666666666, 40.0, 45.0]"
      ]
     },
     "execution_count": 24,
     "metadata": {},
     "output_type": "execute_result"
    }
   ],
   "source": [
    "l"
   ]
  },
  {
   "cell_type": "code",
   "execution_count": 26,
   "id": "05adcdbc",
   "metadata": {},
   "outputs": [
    {
     "ename": "IndexError",
     "evalue": "list index out of range",
     "output_type": "error",
     "traceback": [
      "\u001b[1;31m---------------------------------------------------------------------------\u001b[0m",
      "\u001b[1;31mIndexError\u001b[0m                                Traceback (most recent call last)",
      "\u001b[1;32m~\\AppData\\Local\\Temp\\ipykernel_8256\\1519903127.py\u001b[0m in \u001b[0;36m<module>\u001b[1;34m\u001b[0m\n\u001b[0;32m      1\u001b[0m \u001b[1;32mfor\u001b[0m \u001b[0mi\u001b[0m\u001b[1;33m,\u001b[0m \u001b[0mj\u001b[0m \u001b[1;32min\u001b[0m \u001b[0menumerate\u001b[0m\u001b[1;33m(\u001b[0m\u001b[0mlist2\u001b[0m\u001b[1;33m)\u001b[0m\u001b[1;33m:\u001b[0m\u001b[1;33m\u001b[0m\u001b[1;33m\u001b[0m\u001b[0m\n\u001b[1;32m----> 2\u001b[1;33m     \u001b[0mprint\u001b[0m\u001b[1;33m(\u001b[0m\u001b[0mi\u001b[0m\u001b[1;33m/\u001b[0m\u001b[0mlist3\u001b[0m\u001b[1;33m[\u001b[0m\u001b[0mj\u001b[0m\u001b[1;33m]\u001b[0m\u001b[1;33m)\u001b[0m\u001b[1;33m\u001b[0m\u001b[1;33m\u001b[0m\u001b[0m\n\u001b[0m",
      "\u001b[1;31mIndexError\u001b[0m: list index out of range"
     ]
    }
   ],
   "source": [
    "for i, j in enumerate(list2):\n",
    "    print(i/list3[j])"
   ]
  },
  {
   "cell_type": "code",
   "execution_count": 20,
   "id": "f34b48c9",
   "metadata": {},
   "outputs": [
    {
     "data": {
      "text/plain": [
       "array([ 5.        ,  5.        ,  6.        ,  6.66666667, 10.        ,\n",
       "        7.5       , 11.66666667, 40.        , 45.        ])"
      ]
     },
     "execution_count": 20,
     "metadata": {},
     "output_type": "execute_result"
    }
   ],
   "source": [
    "arr3 = np.array([10,20,30,40,50,60,70,80,90])\n",
    "arr4 = np.array([2,4,5,6,5,8,6,2,2])\n",
    "\n",
    "arr3/arr4"
   ]
  },
  {
   "cell_type": "code",
   "execution_count": 36,
   "id": "4ae5a7a4",
   "metadata": {},
   "outputs": [
    {
     "data": {
      "text/plain": [
       "array([0.  , 3.14, 6.28, 9.42])"
      ]
     },
     "execution_count": 36,
     "metadata": {},
     "output_type": "execute_result"
    }
   ],
   "source": [
    "np.arange(0,10,3.14)"
   ]
  },
  {
   "cell_type": "code",
   "execution_count": 35,
   "id": "1b3394b6",
   "metadata": {},
   "outputs": [
    {
     "data": {
      "text/plain": [
       "array([0, 2, 4, 6, 8])"
      ]
     },
     "execution_count": 35,
     "metadata": {},
     "output_type": "execute_result"
    }
   ],
   "source": [
    "#to generate an array of give range with steps\n",
    "np.arange(0,10,2) #start stop stepsize"
   ]
  },
  {
   "cell_type": "markdown",
   "id": "c1e3db90",
   "metadata": {},
   "source": [
    "### Types of Numpy Array"
   ]
  },
  {
   "cell_type": "code",
   "execution_count": 42,
   "id": "8383433f",
   "metadata": {},
   "outputs": [],
   "source": [
    "#dtype = data type with size\n",
    "# int8, int 16, int32, int64\n",
    "# -128 to +127 for int8 range\n",
    "# if we dont mention it, by default it will be int64"
   ]
  },
  {
   "cell_type": "code",
   "execution_count": 51,
   "id": "5434fb1b",
   "metadata": {},
   "outputs": [],
   "source": [
    "arr1 = np.array([10,24,17,23,9,257,-128],dtype = 'int8') # int8 is used when we wanna fixed the size of our array"
   ]
  },
  {
   "cell_type": "code",
   "execution_count": 52,
   "id": "e415c901",
   "metadata": {},
   "outputs": [
    {
     "data": {
      "text/plain": [
       "array([  10,   24,   17,   23,    9,    1, -128], dtype=int8)"
      ]
     },
     "execution_count": 52,
     "metadata": {},
     "output_type": "execute_result"
    }
   ],
   "source": [
    "arr1"
   ]
  },
  {
   "cell_type": "code",
   "execution_count": 40,
   "id": "41f6bca9",
   "metadata": {},
   "outputs": [],
   "source": [
    "arr1 = np.array([10,24,17,23,9,10,54,13,55,47],dtype = 'int16') # int8 is used when we wanna fixed the size of our array"
   ]
  },
  {
   "cell_type": "code",
   "execution_count": 41,
   "id": "ed98307d",
   "metadata": {},
   "outputs": [],
   "source": [
    "arr2 = np.array([10.,24.,17.,23.,9.,10.,54.,13.,55.,47.],dtype = 'float16') # int8 is used when we wanna fixed the size of our array"
   ]
  },
  {
   "cell_type": "code",
   "execution_count": 46,
   "id": "a36141ed",
   "metadata": {},
   "outputs": [
    {
     "data": {
      "text/plain": [
       "104"
      ]
     },
     "execution_count": 46,
     "metadata": {},
     "output_type": "execute_result"
    }
   ],
   "source": [
    "list2.__sizeof__()"
   ]
  },
  {
   "cell_type": "code",
   "execution_count": 30,
   "id": "4ddde70f",
   "metadata": {},
   "outputs": [],
   "source": [
    "lt = []\n",
    "for i in range(1,100,2):\n",
    "    lt.append(i)"
   ]
  },
  {
   "cell_type": "code",
   "execution_count": 31,
   "id": "68f31f51",
   "metadata": {},
   "outputs": [
    {
     "name": "stdout",
     "output_type": "stream",
     "text": [
      "2500\n"
     ]
    }
   ],
   "source": [
    "from functools import reduce\n",
    "print(reduce(lambda x,y:x+y, lt))"
   ]
  },
  {
   "cell_type": "code",
   "execution_count": 32,
   "id": "5ad6ec35",
   "metadata": {},
   "outputs": [],
   "source": [
    "lt_temp = lt.copy()"
   ]
  },
  {
   "cell_type": "code",
   "execution_count": 33,
   "id": "6f2dcff8",
   "metadata": {},
   "outputs": [],
   "source": [
    "def list_version(l1,l2):\n",
    "    for i,j in enumerate(l1):\n",
    "        print(j+l2[i])"
   ]
  },
  {
   "cell_type": "code",
   "execution_count": 28,
   "id": "ac4fa3a4",
   "metadata": {},
   "outputs": [],
   "source": [
    "def numpy_version():\n",
    "    a1= np.arange(1,100,2)\n",
    "    a2 = np.arange(1,100,2)\n",
    "    print(a1+a2)"
   ]
  },
  {
   "cell_type": "code",
   "execution_count": 29,
   "id": "967356bd",
   "metadata": {},
   "outputs": [
    {
     "name": "stdout",
     "output_type": "stream",
     "text": [
      "[  2   6  10  14  18  22  26  30  34  38  42  46  50  54  58  62  66  70\n",
      "  74  78  82  86  90  94  98 102 106 110 114 118 122 126 130 134 138 142\n",
      " 146 150 154 158 162 166 170 174 178 182 186 190 194 198]\n"
     ]
    }
   ],
   "source": [
    "numpy_version()"
   ]
  },
  {
   "cell_type": "code",
   "execution_count": 36,
   "id": "5f3f071d",
   "metadata": {},
   "outputs": [
    {
     "name": "stdout",
     "output_type": "stream",
     "text": [
      "2\n",
      "6\n",
      "10\n",
      "14\n",
      "18\n",
      "22\n",
      "26\n",
      "30\n",
      "34\n",
      "38\n",
      "42\n",
      "46\n",
      "50\n",
      "54\n",
      "58\n",
      "62\n",
      "66\n",
      "70\n",
      "74\n",
      "78\n",
      "82\n",
      "86\n",
      "90\n",
      "94\n",
      "98\n",
      "102\n",
      "106\n",
      "110\n",
      "114\n",
      "118\n",
      "122\n",
      "126\n",
      "130\n",
      "134\n",
      "138\n",
      "142\n",
      "146\n",
      "150\n",
      "154\n",
      "158\n",
      "162\n",
      "166\n",
      "170\n",
      "174\n",
      "178\n",
      "182\n",
      "186\n",
      "190\n",
      "194\n",
      "198\n",
      "None\n"
     ]
    }
   ],
   "source": [
    "print(list_version(lt,lt_temp))"
   ]
  },
  {
   "cell_type": "markdown",
   "id": "ccf390cd",
   "metadata": {},
   "source": [
    "arr1[-1,-1"
   ]
  },
  {
   "cell_type": "code",
   "execution_count": 46,
   "id": "509b2754",
   "metadata": {},
   "outputs": [
    {
     "data": {
      "text/plain": [
       "array([[1, 2, 3, 4, 5, 6, 7, 8]])"
      ]
     },
     "execution_count": 46,
     "metadata": {},
     "output_type": "execute_result"
    }
   ],
   "source": [
    "arr1 = np.array([[1,2,3,4,5,6,7,8,9],[10,20,30,40,50,60,70,80,90]])\n",
    "arr1[:-1,:-1]"
   ]
  },
  {
   "cell_type": "markdown",
   "id": "27fcbca1",
   "metadata": {},
   "source": [
    "### Three dimentional Array"
   ]
  },
  {
   "cell_type": "code",
   "execution_count": 74,
   "id": "218625bc",
   "metadata": {},
   "outputs": [],
   "source": [
    "arr2 = np.array([[[1,2,3,4,5,6,7,8,9],[10,20,30,40,50,60,70,80,90]],\n",
    "               [[11,22,33,44,55,66,77,88,99],[100,200,300,400,500,600,700,800,900]],\n",
    "               [[11,12,13,14,15,16,17,18,19],[110,220,330,440,550,660,770,880,990]]])"
   ]
  },
  {
   "cell_type": "code",
   "execution_count": 75,
   "id": "2dc6dcb0",
   "metadata": {
    "scrolled": true
   },
   "outputs": [
    {
     "data": {
      "text/plain": [
       "array([[[  1,   2,   3,   4,   5,   6,   7,   8,   9],\n",
       "        [ 10,  20,  30,  40,  50,  60,  70,  80,  90]],\n",
       "\n",
       "       [[ 11,  22,  33,  44,  55,  66,  77,  88,  99],\n",
       "        [100, 200, 300, 400, 500, 600, 700, 800, 900]],\n",
       "\n",
       "       [[ 11,  12,  13,  14,  15,  16,  17,  18,  19],\n",
       "        [110, 220, 330, 440, 550, 660, 770, 880, 990]]])"
      ]
     },
     "execution_count": 75,
     "metadata": {},
     "output_type": "execute_result"
    }
   ],
   "source": [
    "arr2"
   ]
  },
  {
   "cell_type": "code",
   "execution_count": 78,
   "id": "0a153a4e",
   "metadata": {},
   "outputs": [
    {
     "data": {
      "text/plain": [
       "array([2, 3, 4, 5, 6, 7, 8])"
      ]
     },
     "execution_count": 78,
     "metadata": {},
     "output_type": "execute_result"
    }
   ],
   "source": [
    "arr2[0][0][1:8]"
   ]
  },
  {
   "cell_type": "code",
   "execution_count": 79,
   "id": "e72e1941",
   "metadata": {},
   "outputs": [
    {
     "data": {
      "text/plain": [
       "array([200, 300, 400, 500, 600, 700, 800])"
      ]
     },
     "execution_count": 79,
     "metadata": {},
     "output_type": "execute_result"
    }
   ],
   "source": [
    "arr2[1][1][1:8]"
   ]
  },
  {
   "cell_type": "code",
   "execution_count": 80,
   "id": "ad5a4447",
   "metadata": {},
   "outputs": [
    {
     "data": {
      "text/plain": [
       "array([22, 33, 44, 55, 66, 77, 88])"
      ]
     },
     "execution_count": 80,
     "metadata": {},
     "output_type": "execute_result"
    }
   ],
   "source": [
    "arr2[1][0][1:8]"
   ]
  },
  {
   "cell_type": "code",
   "execution_count": 50,
   "id": "8a67de66",
   "metadata": {},
   "outputs": [
    {
     "data": {
      "text/plain": [
       "(3, 2, 9)"
      ]
     },
     "execution_count": 50,
     "metadata": {},
     "output_type": "execute_result"
    }
   ],
   "source": [
    "arr2.shape #rank, rows, columns"
   ]
  },
  {
   "cell_type": "code",
   "execution_count": 53,
   "id": "ad22cd48",
   "metadata": {},
   "outputs": [
    {
     "data": {
      "text/plain": [
       "54"
      ]
     },
     "execution_count": 53,
     "metadata": {},
     "output_type": "execute_result"
    }
   ],
   "source": [
    "# shows length of all elements (3*2*9)\n",
    "# size = number of elements present in an array\n",
    "arr2.size "
   ]
  },
  {
   "cell_type": "code",
   "execution_count": 55,
   "id": "2f70edee",
   "metadata": {},
   "outputs": [
    {
     "data": {
      "text/plain": [
       "50"
      ]
     },
     "execution_count": 55,
     "metadata": {},
     "output_type": "execute_result"
    }
   ],
   "source": [
    "arr2[1,1,4]"
   ]
  },
  {
   "cell_type": "code",
   "execution_count": 56,
   "id": "b9d9362b",
   "metadata": {},
   "outputs": [
    {
     "data": {
      "text/plain": [
       "50"
      ]
     },
     "execution_count": 56,
     "metadata": {},
     "output_type": "execute_result"
    }
   ],
   "source": [
    "arr2[1][1][4]"
   ]
  },
  {
   "cell_type": "markdown",
   "id": "c9988529",
   "metadata": {},
   "source": [
    "### Empty array and fill it will some constact values"
   ]
  },
  {
   "cell_type": "code",
   "execution_count": 59,
   "id": "4cc221c6",
   "metadata": {},
   "outputs": [],
   "source": [
    "arr4 = np.empty(6,dtype = 'int16')"
   ]
  },
  {
   "cell_type": "code",
   "execution_count": 60,
   "id": "7792f9f4",
   "metadata": {},
   "outputs": [
    {
     "data": {
      "text/plain": [
       "array([-28496,  10535,    557,      0,      0,      0], dtype=int16)"
      ]
     },
     "execution_count": 60,
     "metadata": {},
     "output_type": "execute_result"
    }
   ],
   "source": [
    "arr4"
   ]
  },
  {
   "cell_type": "code",
   "execution_count": 61,
   "id": "cbfb93d5",
   "metadata": {},
   "outputs": [
    {
     "data": {
      "text/plain": [
       "array([[ 0,  1,  2,  3,  4,  5],\n",
       "       [ 6,  7,  8,  9, 10, 11],\n",
       "       [12, 13, 14, 15, 16, 17],\n",
       "       [18, 19, 20, 21, 22, 23],\n",
       "       [24, 25, 26, 27, 28, 29],\n",
       "       [30, 31, 32, 33, 34, 35]])"
      ]
     },
     "execution_count": 61,
     "metadata": {},
     "output_type": "execute_result"
    }
   ],
   "source": [
    "arr5 = np.arange(0,36).reshape(6,6)\n",
    "arr5"
   ]
  },
  {
   "cell_type": "code",
   "execution_count": 63,
   "id": "5375dba5",
   "metadata": {},
   "outputs": [
    {
     "data": {
      "text/plain": [
       "array([[[ 0,  1,  2,  3],\n",
       "        [ 4,  5,  6,  7],\n",
       "        [ 8,  9, 10, 11]],\n",
       "\n",
       "       [[12, 13, 14, 15],\n",
       "        [16, 17, 18, 19],\n",
       "        [20, 21, 22, 23]],\n",
       "\n",
       "       [[24, 25, 26, 27],\n",
       "        [28, 29, 30, 31],\n",
       "        [32, 33, 34, 35]]])"
      ]
     },
     "execution_count": 63,
     "metadata": {},
     "output_type": "execute_result"
    }
   ],
   "source": [
    "arr5 = np.arange(0,36).reshape(3,3,4)\n",
    "arr5"
   ]
  },
  {
   "cell_type": "markdown",
   "id": "bf9f6af4",
   "metadata": {},
   "source": [
    "### Reverse an Array"
   ]
  },
  {
   "cell_type": "code",
   "execution_count": 64,
   "id": "ce1e57a3",
   "metadata": {},
   "outputs": [
    {
     "data": {
      "text/plain": [
       "array([49, 48, 47, 46, 45, 44, 43, 42, 41, 40, 39, 38, 37, 36, 35, 34, 33,\n",
       "       32, 31, 30, 29, 28, 27, 26, 25, 24, 23, 22, 21, 20, 19, 18, 17, 16,\n",
       "       15, 14, 13, 12, 11, 10,  9,  8,  7,  6,  5,  4,  3,  2,  1,  0])"
      ]
     },
     "execution_count": 64,
     "metadata": {},
     "output_type": "execute_result"
    }
   ],
   "source": [
    "arr6 = np.arange(50)\n",
    "arr6[::-1]"
   ]
  },
  {
   "cell_type": "markdown",
   "id": "1cf875d7",
   "metadata": {},
   "source": [
    "### Create an array using various function\n",
    "    * np.ones()\n",
    "    * np.zeros()"
   ]
  },
  {
   "cell_type": "code",
   "execution_count": 66,
   "id": "8e65aa26",
   "metadata": {},
   "outputs": [
    {
     "data": {
      "text/plain": [
       "array([[1., 1., 1., 1., 1., 1.],\n",
       "       [1., 1., 1., 1., 1., 1.],\n",
       "       [1., 1., 1., 1., 1., 1.]], dtype=float16)"
      ]
     },
     "execution_count": 66,
     "metadata": {},
     "output_type": "execute_result"
    }
   ],
   "source": [
    "# shape 3 rows, 6 columns\n",
    "np.ones((3,6),dtype = 'float16')"
   ]
  },
  {
   "cell_type": "code",
   "execution_count": 67,
   "id": "0da065df",
   "metadata": {},
   "outputs": [
    {
     "data": {
      "text/plain": [
       "array([[0., 0., 0., 0., 0., 0.],\n",
       "       [0., 0., 0., 0., 0., 0.],\n",
       "       [0., 0., 0., 0., 0., 0.],\n",
       "       [0., 0., 0., 0., 0., 0.],\n",
       "       [0., 0., 0., 0., 0., 0.],\n",
       "       [0., 0., 0., 0., 0., 0.]], dtype=float16)"
      ]
     },
     "execution_count": 67,
     "metadata": {},
     "output_type": "execute_result"
    }
   ],
   "source": [
    "np.zeros((6,6),dtype = 'float16')"
   ]
  },
  {
   "cell_type": "markdown",
   "id": "88b2a0cc",
   "metadata": {},
   "source": [
    " * Identity matrix\n",
    "     * generate a N x N Identity matrix. The default dtype is float64\n",
    "     * Diagonal values are 1, and non diagonal values are 0"
   ]
  },
  {
   "cell_type": "code",
   "execution_count": 68,
   "id": "8f0a3592",
   "metadata": {},
   "outputs": [
    {
     "data": {
      "text/plain": [
       "array([[1., 0., 0., 0., 0., 0., 0.],\n",
       "       [0., 1., 0., 0., 0., 0., 0.],\n",
       "       [0., 0., 1., 0., 0., 0., 0.],\n",
       "       [0., 0., 0., 1., 0., 0., 0.],\n",
       "       [0., 0., 0., 0., 1., 0., 0.],\n",
       "       [0., 0., 0., 0., 0., 1., 0.],\n",
       "       [0., 0., 0., 0., 0., 0., 1.]])"
      ]
     },
     "execution_count": 68,
     "metadata": {},
     "output_type": "execute_result"
    }
   ],
   "source": [
    "np.identity(7)"
   ]
  },
  {
   "cell_type": "code",
   "execution_count": 69,
   "id": "288ac5bb",
   "metadata": {},
   "outputs": [
    {
     "data": {
      "text/plain": [
       "array([[1, 0, 0, 0, 0, 0, 0],\n",
       "       [0, 1, 0, 0, 0, 0, 0],\n",
       "       [0, 0, 1, 0, 0, 0, 0],\n",
       "       [0, 0, 0, 1, 0, 0, 0],\n",
       "       [0, 0, 0, 0, 1, 0, 0],\n",
       "       [0, 0, 0, 0, 0, 1, 0],\n",
       "       [0, 0, 0, 0, 0, 0, 1]], dtype=int8)"
      ]
     },
     "execution_count": 69,
     "metadata": {},
     "output_type": "execute_result"
    }
   ],
   "source": [
    "np.identity(7,dtype = 'int8')"
   ]
  },
  {
   "cell_type": "code",
   "execution_count": 70,
   "id": "8f051d81",
   "metadata": {},
   "outputs": [
    {
     "data": {
      "text/plain": [
       "array([0. , 0.1, 0.2, 0.3, 0.4, 0.5, 0.6, 0.7, 0.8, 0.9, 1. ])"
      ]
     },
     "execution_count": 70,
     "metadata": {},
     "output_type": "execute_result"
    }
   ],
   "source": [
    "# (start, stop, elements)\n",
    "# equally spaced\n",
    "np.linspace(0,1,11)"
   ]
  },
  {
   "cell_type": "code",
   "execution_count": null,
   "id": "029de62e",
   "metadata": {},
   "outputs": [],
   "source": [
    "### Excerise: "
   ]
  },
  {
   "cell_type": "code",
   "execution_count": null,
   "id": "0cc1f978",
   "metadata": {},
   "outputs": [],
   "source": []
  }
 ],
 "metadata": {
  "kernelspec": {
   "display_name": "Python 3 (ipykernel)",
   "language": "python",
   "name": "python3"
  },
  "language_info": {
   "codemirror_mode": {
    "name": "ipython",
    "version": 3
   },
   "file_extension": ".py",
   "mimetype": "text/x-python",
   "name": "python",
   "nbconvert_exporter": "python",
   "pygments_lexer": "ipython3",
   "version": "3.9.13"
  }
 },
 "nbformat": 4,
 "nbformat_minor": 5
}
