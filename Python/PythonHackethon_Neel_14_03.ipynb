{
 "cells": [
  {
   "cell_type": "markdown",
   "id": "29ee4814",
   "metadata": {},
   "source": [
    "Create a CountDividedBy() Function:\n",
    "This function will take a list of integers as an Input and return an Integer count of numbers \n",
    "that satisfies the condition, mentioned below.\n",
    "Sample Input:\n",
    "e.g. Assume you have given list of 4 integers with values 3, 5, 15, 11, then given input as \n",
    "follows:\n",
    "4\n",
    "3\n",
    "7\n",
    "12\n",
    "21\n",
    "Sample Output\n",
    "1"
   ]
  },
  {
   "cell_type": "code",
   "execution_count": 93,
   "id": "d99d605b",
   "metadata": {},
   "outputs": [
    {
     "data": {
      "text/plain": [
       "1"
      ]
     },
     "execution_count": 93,
     "metadata": {},
     "output_type": "execute_result"
    }
   ],
   "source": [
    "def CountDividedBy(list1):\n",
    "    i=0\n",
    "    x=0\n",
    "    c =0\n",
    "    for i in range(len(list1)):\n",
    "        if list1[i] % 3==0 and list1[i] %4==0:\n",
    "            y=list1[i]\n",
    "            while (y):\n",
    "                rk =y%10\n",
    "                x = x+rk\n",
    "                y=y//10\n",
    "            if x%5!=0:\n",
    "                c = c+1\n",
    "    return c\n",
    "\n",
    "list1 = [4,3,7,12,21]\n",
    "#list_input = list(int(input(\"enter the list \")))\n",
    "CountDividedBy(list1)"
   ]
  },
  {
   "cell_type": "markdown",
   "id": "834aa2e4",
   "metadata": {},
   "source": [
    "Create a function StringBinaryOperations ()\n",
    "Description:\n",
    "The Binary number system uses two digits 0 and 1 and number system can be called binary \n",
    "string. You are required to implement given function\n",
    "StringBinaryOperations() This function accepts a string str as its argument. The string str \n",
    "consists of binary digits separated with an alphabet as follows:\n",
    "- X denotes AND operation\n",
    "- Y denotes OR operation\n",
    "- Z denotes XOR Operation\n",
    "You are required to calculate the result of the string, scanning the string to right taking one \n",
    "operation at a time, and return the same.\n",
    "Note:\n",
    "• No order of priorities of operations is required\n",
    "• Length of str is odd\n",
    "• If str is NULL / None (in case of Python), return “Invalid Input”\n",
    "Input str: 1Z0Z1Z1X0Y1\n",
    "Output: 1\n"
   ]
  },
  {
   "cell_type": "code",
   "execution_count": 33,
   "id": "1fc0eae4",
   "metadata": {},
   "outputs": [],
   "source": [
    "def stringop(string):\n",
    "    a = int(string[0])\n",
    "    i = 1\n",
    "    while i< len(string):\n",
    "        if string[i] == 'Y':\n",
    "            a &= int(string[i+1])\n",
    "        elif string[i]== 'X':\n",
    "            a ^= int(string[i+1])\n",
    "        else:\n",
    "            a |= int(string[i+1])\n",
    "        i = i + 2\n",
    "        \n",
    "    print(a)\n",
    "        \n",
    "        "
   ]
  },
  {
   "cell_type": "code",
   "execution_count": 35,
   "id": "c872a4e7",
   "metadata": {},
   "outputs": [
    {
     "name": "stdout",
     "output_type": "stream",
     "text": [
      "1\n"
     ]
    }
   ],
   "source": [
    "stringop('1Z0Z1Z1X0Y1')"
   ]
  },
  {
   "cell_type": "code",
   "execution_count": 36,
   "id": "a11f238d",
   "metadata": {},
   "outputs": [
    {
     "name": "stdout",
     "output_type": "stream",
     "text": [
      "enter the string u want to enter: 1Z0Z1Z1X0Y1\n",
      "1\n"
     ]
    }
   ],
   "source": [
    "ik = input(\"enter the string u want to enter: \")\n",
    "stringop(ik)"
   ]
  },
  {
   "cell_type": "markdown",
   "id": "3849f409",
   "metadata": {},
   "source": [
    "Create a class Account with the below attributes:\n",
    "accntNo (Integer)\n",
    "accntName (String)\n",
    "accntBalance (Integer)\n",
    "Create a constructor which takes all parameters in the above sequence.\n",
    "Create a class AccountDemo Create a default constructor in the AccountDemo class as \n",
    "below \n",
    "def __init__(self):\n",
    "pass\n",
    "Create a method depositAmnt which takes an account object and amount to be deposited\n",
    "(amount) as input parameters. Update the balance i.e. Add the amount to the \n",
    "existingbalance and return the updated balanceCreate another method withdrawAmnt \n",
    "which takes an Account object and amount to bedeposited (amount) as input parameters. \n",
    "Deduct the amount from the balance and returnthe updated balance. Minimum balance to \n",
    "be maintained is 10000. i.e if the balance isbecoming less than 10000 when deducting the \n",
    "withdrawal amount, the operation needs tobe stopped with a message “No Adequate \n",
    "balance”. \n",
    "Create a main function if __name__ == ‘__main__’. Declare all user’s input using input() \n",
    "required. "
   ]
  },
  {
   "cell_type": "code",
   "execution_count": 2,
   "id": "7fa8acd5",
   "metadata": {},
   "outputs": [],
   "source": [
    "class Account:\n",
    "    def __init__(self, accntNo, accntName, accntBalance):\n",
    "        self.accntNo = accntNo\n",
    "        self.accntName = accntName\n",
    "        self.accntBalance = accntBalance       \n",
    "    "
   ]
  },
  {
   "cell_type": "code",
   "execution_count": 19,
   "id": "f7632a12",
   "metadata": {},
   "outputs": [],
   "source": [
    "class AccountDemo (Account):\n",
    "    def __init__(self):\n",
    "        #super().__init__(accntNo, accntName, accntBalance)\n",
    "        #print(self.accntBalance)\n",
    "        pass            \n",
    "    \n",
    "    def depositamt(self,ac,depamount):\n",
    "        self.accntBalance_ = ac.accntBalance + depamount\n",
    "        print(f\"Updated balance is after depositing {depamount} is {self.accntBalance_}\")\n",
    "        \n",
    "    def withdrawamt(self,ac,withamt):\n",
    "        if (ac.accntBalance > 10000):\n",
    "            self.accntBalance_ = ac.accntBalance - withamt\n",
    "            print(f\"after deduction of {withamt} the remaning balance is {self.accntBalance_}\")\n",
    "        if (ac.accntBalance <= 10000):\n",
    "            print(\"No Adequate balance\")"
   ]
  },
  {
   "cell_type": "code",
   "execution_count": 20,
   "id": "972f89ac",
   "metadata": {},
   "outputs": [
    {
     "name": "stdout",
     "output_type": "stream",
     "text": [
      "enter the account number 1231231\n",
      "enter the account name holder neel\n",
      "enter the account inital balance 10000\n",
      "enter the deposite amount 2000\n",
      "Updated balance is after depositing 2000 is 12000\n",
      "enter the withdraw amount 12000\n",
      "No Adequate balance\n"
     ]
    }
   ],
   "source": [
    "if __name__ == '__main__':\n",
    "    acnumber = int(input(\"enter the account number \"))\n",
    "    acname = input(\"enter the account name holder \")\n",
    "    acbalance = int(input(\"enter the account inital balance \"))\n",
    "    \n",
    "    acc = Account(acnumber, acname, acbalance)\n",
    "    \n",
    "    deposite = int(input(\"enter the deposite amount \"))\n",
    "    \n",
    "    accdemo = AccountDemo()\n",
    "    accdemo.depositamt(acc,deposite)\n",
    "    \n",
    "    withdraw = int(input(\"enter the withdraw amount \"))\n",
    "    \n",
    "    accdemo.withdrawamt(acc,withdraw)\n",
    "    \n",
    "    "
   ]
  },
  {
   "cell_type": "markdown",
   "id": "1fd3f622",
   "metadata": {},
   "source": [
    "An Autobiographical Number is a number N such that the first digit of N represents the \n",
    "count of how many zeroes are there in N, the second digit represents the count of how \n",
    "many ones are there in N and so on.\n",
    "You are given a function, def FindAutoCount(n):\n",
    "The function accepts string “n” which is a number and checks whether the number is an \n",
    "autobiographical number or not. If it is, an integer is returned, i.e. the count of distinct \n",
    "numbers in ‘n’. If not, it returns 0.\n",
    "Assumption:\n",
    "The input string will not be longer than 10 characters.\n",
    "Input string will consist of numeric characters.\n",
    "Note:\n",
    "If string is None return 0.\n",
    "Example:\n",
    "Input:\n",
    "n: “1210”\n",
    "Output:\n",
    "3\n",
    "Explanation:\n",
    "0th position in the input contains the number of 0 present in input, i.e., 1, in 1st position the \n",
    "count of number of 1s in input i.e. 2, in 2nd position the count of 2s in input i.e. 1, and in 3rd \n",
    "position the count of 3s i.e. 0, so the number is an autobiographical number.\n",
    "Now unique numbers in the input are 0, 1, 2, so the count of unique numbers is 3."
   ]
  },
  {
   "cell_type": "code",
   "execution_count": 30,
   "id": "d7dd554a",
   "metadata": {},
   "outputs": [],
   "source": [
    "def FindAutoCount(item):\n",
    "    if item is None:\n",
    "        return 0\n",
    "    most_num = [0] * 10\n",
    "    for j in item:\n",
    "        most_num[int(j)] += 1\n",
    "    c = 0\n",
    "    for k in range(len(item)):\n",
    "        if int(item[k]) != most_num[k]:\n",
    "            return 0\n",
    "        if most_num[k] > 0:\n",
    "            c += 1\n",
    "    return c"
   ]
  },
  {
   "cell_type": "code",
   "execution_count": 31,
   "id": "6df81697",
   "metadata": {},
   "outputs": [
    {
     "data": {
      "text/plain": [
       "3"
      ]
     },
     "execution_count": 31,
     "metadata": {},
     "output_type": "execute_result"
    }
   ],
   "source": [
    "FindAutoCount('1210')"
   ]
  },
  {
   "cell_type": "markdown",
   "id": "18c146e7",
   "metadata": {},
   "source": [
    "Write a function isAnagrams () to validate if the provided two strings are anagrams or not. If \n",
    "the two strings are anagrams, then return ‘Anagrams. Otherwise, return ‘Word is not\n",
    "anagrams.\n",
    "Words Example: Race and Care, Listen and Silen"
   ]
  },
  {
   "cell_type": "code",
   "execution_count": 37,
   "id": "19ff8e7e",
   "metadata": {},
   "outputs": [
    {
     "name": "stdout",
     "output_type": "stream",
     "text": [
      "enter the first string: race\n",
      "enter the second string: care\n",
      "Its Anagrams\n"
     ]
    }
   ],
   "source": [
    "def anagram(str1,str2):\n",
    "    if sorted(str1) == sorted(str2):\n",
    "        print(\"Its Anagrams\")\n",
    "    else:\n",
    "        print(\"Word is not Anagrams\")\n",
    "        \n",
    "str1 = input(\"enter the first string: \")\n",
    "str2 = input(\"enter the second string: \")\n",
    "\n",
    "anagram(str1,str2)"
   ]
  },
  {
   "cell_type": "code",
   "execution_count": null,
   "id": "14f5a0ce",
   "metadata": {},
   "outputs": [],
   "source": []
  }
 ],
 "metadata": {
  "kernelspec": {
   "display_name": "Python 3 (ipykernel)",
   "language": "python",
   "name": "python3"
  },
  "language_info": {
   "codemirror_mode": {
    "name": "ipython",
    "version": 3
   },
   "file_extension": ".py",
   "mimetype": "text/x-python",
   "name": "python",
   "nbconvert_exporter": "python",
   "pygments_lexer": "ipython3",
   "version": "3.9.13"
  }
 },
 "nbformat": 4,
 "nbformat_minor": 5
}
