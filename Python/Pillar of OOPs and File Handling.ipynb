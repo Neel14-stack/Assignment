{
 "cells": [
  {
   "cell_type": "markdown",
   "id": "39fcea03",
   "metadata": {},
   "source": [
    " * single inheritance - a class can inherit from only one class\n",
    " * multiple inheritance - a class can inherit from more than one class\n",
    " * multilevel inheritance - a derived alss is created from another derived class\n",
    " * hierarchical inheritance - more than one sub lcass is inherited from a single base class"
   ]
  },
  {
   "cell_type": "markdown",
   "id": "e02ca0ec",
   "metadata": {},
   "source": [
    "### Inheritance\n",
    "    * Inheritance provides code resuability in program coz we cn use an existing class() as knows as super class/parent class/base class to create a new class (sub class/ child class/ derived class) instead of creating everything from scratch"
   ]
  },
  {
   "cell_type": "code",
   "execution_count": 1,
   "id": "e3532758",
   "metadata": {},
   "outputs": [],
   "source": [
    "#parent class declaration\n",
    "class Parent:\n",
    "    def __init__(self,name):\n",
    "        self.name = name\n",
    "        print(\"calling name: \",self.name)\n",
    "    \n",
    "    def parentmethod(self):\n",
    "        print('calling parent class method')\n",
    "    \n",
    "# derived class\n",
    "class Child(Parent):\n",
    "    def __init__(self):\n",
    "        print('calling child clas constructor')\n",
    "        \n",
    "    def childmethod(self):\n",
    "        print('calling child class method')"
   ]
  },
  {
   "cell_type": "code",
   "execution_count": 2,
   "id": "9400745d",
   "metadata": {},
   "outputs": [
    {
     "name": "stdout",
     "output_type": "stream",
     "text": [
      "calling name:  Python\n",
      "calling child clas constructor\n"
     ]
    }
   ],
   "source": [
    "# object of parent class\n",
    "obj1 = Parent('Python')\n",
    "# object of child class\n",
    "obj2 = Child()"
   ]
  },
  {
   "cell_type": "code",
   "execution_count": 3,
   "id": "14e992f9",
   "metadata": {},
   "outputs": [
    {
     "name": "stdout",
     "output_type": "stream",
     "text": [
      "calling parent class method\n",
      "calling child class method\n"
     ]
    }
   ],
   "source": [
    "obj2.parentmethod()\n",
    "obj2.childmethod()"
   ]
  },
  {
   "cell_type": "code",
   "execution_count": 7,
   "id": "e8a47b30",
   "metadata": {},
   "outputs": [],
   "source": [
    "class Person:\n",
    "    def __init__(self,name,age,gender):\n",
    "        self.name = name\n",
    "        self.age = age\n",
    "        self.gender = gender\n",
    "    \n",
    "    def personinfo(self):\n",
    "        print(f'name: {self.name}')\n",
    "        print(f'age: {self.age}')\n",
    "        print(f'gender: {self.gender}')\n",
    "        \n",
    "\n",
    "#child class of person\n",
    "class Employee(Person):\n",
    "    def __init__ (self,name,age,gender,empid,salary):\n",
    "        person.__init__(self,name,age,gender)\n",
    "        self.empid = empid\n",
    "        self.salary = salary\n",
    "    \n",
    "    def employeeinfo(self):\n",
    "        print(f'Employee ID: {self.empid}')\n",
    "        print(f'Salary: {self.salary}')\n",
    "        \n",
    "        \n",
    "class Fulltime(Employee):\n",
    "    def __init__(self,name,age,gender,empid,salary,workexp):\n",
    "        Employee.__init__(self,name,age,gender,empid,salary)\n",
    "        self.workexp = workexp\n",
    "        \n",
    "    def fulltimeemp(self):\n",
    "        print(f'work experience of {self.name} is {self.workexp}')\n"
   ]
  },
  {
   "cell_type": "code",
   "execution_count": 16,
   "id": "6a821406",
   "metadata": {},
   "outputs": [],
   "source": [
    "class Person:\n",
    "    def __init__(self,name,age,gender):\n",
    "        self.name = name\n",
    "        self.age = age\n",
    "        self.gender = gender\n",
    "    \n",
    "    def personinfo(self):\n",
    "        print(f'name: {self.name}')\n",
    "        print(f'age: {self.age}')\n",
    "        print(f'gender: {self.gender}')\n",
    "        \n",
    "\n",
    "#child class of person\n",
    "class Employee(Person):\n",
    "    def __init__ (self,name,age,gender,empid,salary):\n",
    "        Person.__init__(self,name,age,gender)\n",
    "        self.empid = empid\n",
    "        self.salary = salary\n",
    "    \n",
    "    def employeeinfo(self):\n",
    "        print(f'Employee ID: {self.empid}')\n",
    "        print(f'Salary: {self.salary}')\n",
    "        \n",
    "        \n",
    "class Fulltime(Employee):\n",
    "    def __init__(self,name,age,gender,empid,salary,workexp):\n",
    "        Employee.__init__(self,name,age,gender,empid,salary)\n",
    "        #Person.__init__(self,name,age,gender)\n",
    "        #Employee.__init__(self,empid,salary)\n",
    "        self.workexp = workexp\n",
    "        \n",
    "    def fulltimeemp(self):\n",
    "        print(f'work experience of {self.name} is {self.workexp}')\n",
    "\n",
    "        \n",
    "class Contractual(Employee):\n",
    "    def __init__(self,name,age,gender,empid,salary,contract_expiry):\n",
    "        Employee.__init__(self,name,age,gender,empid,salary)\n",
    "        self.contract_expiry = contract_expiry\n",
    "    \n",
    "    def contract_expiry(self):\n",
    "        print(f'contract expiers on {self.contract_expiry}')"
   ]
  },
  {
   "cell_type": "code",
   "execution_count": 15,
   "id": "b864f798",
   "metadata": {},
   "outputs": [
    {
     "name": "stdout",
     "output_type": "stream",
     "text": [
      "contractual employee details\n",
      "*****************************\n",
      "name: Dharan\n",
      "age: 22\n",
      "gender: Male\n",
      "Employee ID: 10884\n",
      "Salary: 15000\n"
     ]
    }
   ],
   "source": [
    "print(\"contractual employee details\")\n",
    "print(\"*****************************\")\n",
    "contra_obj = Contractual('Dharan',22,'Male',10884,15000,'30-3-2024')\n",
    "contra_obj.personinfo()\n",
    "contra_obj.employeeinfo()"
   ]
  },
  {
   "cell_type": "code",
   "execution_count": 17,
   "id": "6ad64e99",
   "metadata": {},
   "outputs": [
    {
     "name": "stdout",
     "output_type": "stream",
     "text": [
      "fulltime employee details\n",
      "*****************************\n",
      "work experience of Raju is 6years\n"
     ]
    }
   ],
   "source": [
    "print(\"fulltime employee details\")\n",
    "print(\"*****************************\")\n",
    "fulltime_obj = Fulltime('Raju',21,'Not specific',120,15000,'6years')\n",
    "fulltime_obj.fulltimeemp()"
   ]
  },
  {
   "cell_type": "markdown",
   "id": "bf95a32c",
   "metadata": {},
   "source": [
    "### Multiple Inheritance"
   ]
  },
  {
   "cell_type": "code",
   "execution_count": 18,
   "id": "09e18639",
   "metadata": {},
   "outputs": [],
   "source": [
    "# multiple inheritance\n",
    "\n",
    "# class father:\n",
    "#     statement(s)\n",
    "\n",
    "# class mother:\n",
    "#     statement(s)\n",
    "    \n",
    "# class child(father,mother):\n",
    "#     statement(s"
   ]
  },
  {
   "cell_type": "code",
   "execution_count": 26,
   "id": "81b9418f",
   "metadata": {},
   "outputs": [
    {
     "name": "stdout",
     "output_type": "stream",
     "text": [
      "2023-02-2810:58;20\n",
      "current date class\n"
     ]
    }
   ],
   "source": [
    "class Currentdate:\n",
    "    def __init__(self,date):\n",
    "        self.date = date\n",
    "    \n",
    "    def printt(self):\n",
    "        print(\"current date class\")\n",
    "    \n",
    "class Currenttime:\n",
    "    def __init__(self,time):\n",
    "        self.time = time\n",
    "        \n",
    "    def printt(self):\n",
    "        print(\"curent time class\")\n",
    "        \n",
    "        \n",
    "class Timestamp(Currentdate,Currenttime):\n",
    "    def __init__(self,date,time):\n",
    "        Currentdate.__init__(self,date)\n",
    "        Currenttime.__init__(self,time)\n",
    "        timestamp = self.date + self.time\n",
    "        print(timestamp)\n",
    "        \n",
    "datatime1 = Timestamp('2023-02-28','10:58;20')\n",
    "datatime1.printt()\n",
    "            "
   ]
  },
  {
   "cell_type": "code",
   "execution_count": 27,
   "id": "04103c02",
   "metadata": {},
   "outputs": [],
   "source": [
    "class P1:\n",
    "    def __init__(self,surname):\n",
    "        self.surname = surname\n",
    "    \n",
    "class C1(P1):\n",
    "    def __init__(self,name,surname):\n",
    "        P1.__init__(self,surname)\n",
    "        self.name = name\n",
    "        \n",
    "    def printc1(self):\n",
    "        print(f'The name of the child is {self.name} and the surname is {self.surname}')\n",
    "\n",
    "        \n",
    "class C2(P1):\n",
    "    def __init__(self,name,surname):\n",
    "        P1.__init__(self,surname)\n",
    "        self.name = name\n",
    "        \n",
    "    def printc2(self):\n",
    "        print(f'The name of the child is {self.name} and the surname is {self.surname}')"
   ]
  },
  {
   "cell_type": "code",
   "execution_count": 28,
   "id": "549c284f",
   "metadata": {},
   "outputs": [
    {
     "name": "stdout",
     "output_type": "stream",
     "text": [
      "The name of the child is Neel and the surname is Roy\n"
     ]
    }
   ],
   "source": [
    "obj_c1 = C1('Neel','Roy')\n",
    "obj_c1.printc1()"
   ]
  },
  {
   "cell_type": "code",
   "execution_count": 29,
   "id": "60b71e6a",
   "metadata": {},
   "outputs": [
    {
     "name": "stdout",
     "output_type": "stream",
     "text": [
      "The name of the child is Somu and the surname is Roy\n"
     ]
    }
   ],
   "source": [
    "obj_c2 = C2('Somu','Roy')\n",
    "obj_c2.printc2()"
   ]
  },
  {
   "cell_type": "code",
   "execution_count": 31,
   "id": "a470c3ce",
   "metadata": {},
   "outputs": [],
   "source": [
    "\n",
    "#* super() : builtin function this allow to access methods of parent class"
   ]
  },
  {
   "cell_type": "code",
   "execution_count": 1,
   "id": "ec922221",
   "metadata": {},
   "outputs": [],
   "source": [
    "class Person:\n",
    "    def __init__(self,name,age,gender):\n",
    "        self.name = name\n",
    "        self.age = age \n",
    "        self.gender = gender\n",
    "    \n",
    "    def personinfo(self):\n",
    "        print(f'the name is {self.name}')\n",
    "        print(f'the age is {self.age}')\n",
    "        print(f'the gender is {self.gender}')\n",
    "        \n",
    "class Student(Person):\n",
    "    def __init__(self,name,age,gender,studentid,fees):\n",
    "        # super function is used in place of parent class name\n",
    "        super().__init__(name,age,gender)\n",
    "        self.studentid = studentid\n",
    "        self.fees = fees\n",
    "        \n",
    "    def studentinfo(self):\n",
    "        #using the super function in place of parent class name\n",
    "        super().personinfo()\n",
    "        print(f'emp id is {self.studentid}')\n",
    "        print(f'the fees is {self.fees}')"
   ]
  },
  {
   "cell_type": "code",
   "execution_count": 2,
   "id": "25e989cd",
   "metadata": {},
   "outputs": [
    {
     "name": "stdout",
     "output_type": "stream",
     "text": [
      "the name is Neel\n",
      "the age is 21\n",
      "the gender is Male\n",
      "emp id is 10879\n",
      "the fees is 1500\n"
     ]
    }
   ],
   "source": [
    "student_obj = Student('Neel',21,'Male',10879,1500)\n",
    "student_obj.studentinfo()"
   ]
  },
  {
   "cell_type": "code",
   "execution_count": null,
   "id": "2ebb7d7b",
   "metadata": {},
   "outputs": [],
   "source": []
  },
  {
   "cell_type": "markdown",
   "id": "08ccc7d5",
   "metadata": {},
   "source": [
    "###  Encapsulation\n",
    "    - Encapsulation is a process of binding data members and member functions into a single unit Encapsulation hides the state of a structured data object inside a class, preventing unauthorized access to an unauthorized person"
   ]
  },
  {
   "cell_type": "code",
   "execution_count": 3,
   "id": "e9e9dfa2",
   "metadata": {},
   "outputs": [
    {
     "name": "stdout",
     "output_type": "stream",
     "text": [
      "calling a protected member:  1000\n",
      "calling a protected member:  200\n",
      "1000\n",
      "200\n"
     ]
    }
   ],
   "source": [
    "class Parent:\n",
    "    def __init__(self):\n",
    "        #protected member\n",
    "        self._value = 1000\n",
    "\n",
    "class Child(Parent):\n",
    "    def __init__(self):\n",
    "        Parent.__init__(self)\n",
    "        print(\"calling a protected member: \",self._value)\n",
    "        # modify proteted variable\n",
    "        self._value = 200\n",
    "        print('calling a protected member: ',self._value)\n",
    "        \n",
    "obj1 = Parent()\n",
    "obj2 = Child()\n",
    "print(obj1._value)\n",
    "print(obj2._value)"
   ]
  },
  {
   "cell_type": "code",
   "execution_count": 8,
   "id": "2d4713b4",
   "metadata": {},
   "outputs": [
    {
     "name": "stdout",
     "output_type": "stream",
     "text": [
      "The Employee Neel works in TGS\n"
     ]
    }
   ],
   "source": [
    "class Employee:\n",
    "    def __init__(self):\n",
    "        self._name = 'Neel'\n",
    "        self.company = 'TGS'\n",
    "        self.__salary = 15000\n",
    "    \n",
    "    def printinfo(self):\n",
    "        print(f'The Employee {self._name} works in {self.company}')\n",
    "\n",
    "        \n",
    "obj_emp = Employee()\n",
    "obj_emp.printinfo()"
   ]
  },
  {
   "cell_type": "markdown",
   "id": "d8898820",
   "metadata": {},
   "source": [
    "### Method Overriding\n",
    "    * Ability to oop that allows child class to provide a specific implementation of method that is already present by super class or parent class."
   ]
  },
  {
   "cell_type": "code",
   "execution_count": 11,
   "id": "9a930e26",
   "metadata": {},
   "outputs": [],
   "source": [
    "class Vehicle:\n",
    "    # constructor\n",
    "    def __init__ (self):\n",
    "        self.tyres = 1\n",
    "    \n",
    "    def showtyres(self):\n",
    "        print(self.tyres)\n",
    "\n",
    "#inheritance\n",
    "class Auto(Vehicle):\n",
    "    # constructor\n",
    "    def __init__(self):\n",
    "        self.tyres = 3\n",
    "        \n",
    "        #method overriding\n",
    "        def showtyres(self):\n",
    "            print(self.tyres)\n",
    "\n",
    "#inheritance\n",
    "class Car(Vehicle):\n",
    "    # constructor\n",
    "    def __init__ (self):\n",
    "        self.tyres = 4\n",
    "    \n",
    "    def showtyres(self):\n",
    "        print(self.tyres)\n",
    "    "
   ]
  },
  {
   "cell_type": "code",
   "execution_count": 12,
   "id": "9b7e190b",
   "metadata": {},
   "outputs": [
    {
     "name": "stdout",
     "output_type": "stream",
     "text": [
      "3\n",
      "4\n"
     ]
    }
   ],
   "source": [
    "auto_obj = Auto()\n",
    "auto_obj.showtyres()\n",
    "\n",
    "car_obj = Car()\n",
    "car_obj.showtyres()"
   ]
  },
  {
   "cell_type": "markdown",
   "id": "22309c54",
   "metadata": {},
   "source": [
    "### Decorators - used to extend the function behaviour,\n",
    "    * suppose we have a function and we want to add something new to it, without changing the function....we can use decorator, which will add the new feature without changing the function\n",
    "    * powerful tool of the python programming that allows programmers to modify the behaviour of a method/function or class.\n",
    "    * decorators allow you to modify the functionality of method by wrapping it in another function.\n",
    "    * outer function is called as decorator '@function_name' which takes origianl function and returns a modified version of it.\n",
    "    \n",
    "    "
   ]
  },
  {
   "cell_type": "code",
   "execution_count": 19,
   "id": "d967a46a",
   "metadata": {},
   "outputs": [],
   "source": [
    "def calculate(a,b):\n",
    "    print(a/b)\n",
    "    \n",
    "    "
   ]
  },
  {
   "cell_type": "code",
   "execution_count": 17,
   "id": "005e3b69",
   "metadata": {},
   "outputs": [],
   "source": [
    "def calcualte(a,b):\n",
    "    if a<b:\n",
    "        a,b = b,a\n",
    "    print(a/b)\n",
    "\n",
    "\n",
    "# we dont have this function, we have only above function....and we cant modift that function.\n",
    "#So to add some new feature into it we hae to use decorator\n",
    "\n",
    " #   ** what if we needed a program which will swap values, but not inside the function assing thins function is not given to you"
   ]
  },
  {
   "cell_type": "code",
   "execution_count": 18,
   "id": "2ba431ea",
   "metadata": {},
   "outputs": [],
   "source": [
    "def calculate_smart(func):\n",
    "    def inner(a,b):\n",
    "        if a<b:\n",
    "            a,b = b,a\n",
    "        return func(a,b)\n",
    "    return inner"
   ]
  },
  {
   "cell_type": "code",
   "execution_count": 20,
   "id": "823d1241",
   "metadata": {
    "scrolled": true
   },
   "outputs": [
    {
     "name": "stdout",
     "output_type": "stream",
     "text": [
      "2.0\n"
     ]
    }
   ],
   "source": [
    "calculate1 = calculate_smart(calcualte)\n",
    "calculate1(2,4)"
   ]
  },
  {
   "cell_type": "code",
   "execution_count": 28,
   "id": "6181af73",
   "metadata": {},
   "outputs": [
    {
     "data": {
      "text/plain": [
       "function"
      ]
     },
     "execution_count": 28,
     "metadata": {},
     "output_type": "execute_result"
    }
   ],
   "source": [
    "type(calculate1)"
   ]
  },
  {
   "cell_type": "code",
   "execution_count": 21,
   "id": "08a60d84",
   "metadata": {},
   "outputs": [],
   "source": [
    "def calculate_smart(func):\n",
    "    def inner(a,b):\n",
    "        if a<b:\n",
    "            a,b = b,a\n",
    "        return func(a,b)\n",
    "    return inner\n",
    "\n",
    "@calculate_smart\n",
    "def calculate(a,b):\n",
    "    print(a/b)\n",
    "    \n",
    "    "
   ]
  },
  {
   "cell_type": "code",
   "execution_count": 22,
   "id": "307cfbe5",
   "metadata": {},
   "outputs": [
    {
     "name": "stdout",
     "output_type": "stream",
     "text": [
      "2.0\n"
     ]
    }
   ],
   "source": [
    "calculate(2,4)"
   ]
  },
  {
   "cell_type": "code",
   "execution_count": 29,
   "id": "9153a9c3",
   "metadata": {},
   "outputs": [
    {
     "data": {
      "text/plain": [
       "5"
      ]
     },
     "execution_count": 29,
     "metadata": {},
     "output_type": "execute_result"
    }
   ],
   "source": [
    "def var(a):\n",
    "    return a\n",
    "\n",
    "var(5)"
   ]
  },
  {
   "cell_type": "code",
   "execution_count": 27,
   "id": "499dbae6",
   "metadata": {},
   "outputs": [
    {
     "data": {
      "text/plain": [
       "int"
      ]
     },
     "execution_count": 27,
     "metadata": {},
     "output_type": "execute_result"
    }
   ],
   "source": [
    "type(var2)"
   ]
  },
  {
   "cell_type": "markdown",
   "id": "99dc0aee",
   "metadata": {},
   "source": [
    "### Polymorphism in Class methods.\n",
    "    * same thing act different for different person"
   ]
  },
  {
   "cell_type": "code",
   "execution_count": 30,
   "id": "21396a55",
   "metadata": {},
   "outputs": [
    {
     "name": "stdout",
     "output_type": "stream",
     "text": [
      "30\n",
      "neel roy\n"
     ]
    }
   ],
   "source": [
    "# polymorphism in addition operator\n",
    "var1 = 10\n",
    "var2 = 20\n",
    "var3 = 10 + 20\n",
    "print(var3)\n",
    "\n",
    "str1 = 'neel'\n",
    "str2 = 'roy'\n",
    "print(str1 + ' ' + str2)\n"
   ]
  },
  {
   "cell_type": "code",
   "execution_count": 31,
   "id": "f772a774",
   "metadata": {},
   "outputs": [],
   "source": [
    "class Tortoise:\n",
    "    def __init__(self,name,age):\n",
    "        self.name = name\n",
    "        self.age = age\n",
    "    def petinfo(self):\n",
    "        print(f'Hey I am Tortoise. My name is {self.name}. My age is {self.age}')\n",
    "    def sound(self):\n",
    "        print('Clicks')\n",
    "        \n",
    "class Dog:\n",
    "    def __init__(self,name,age):\n",
    "        self.name = name\n",
    "        self.age = age\n",
    "    def petinfo(self):\n",
    "        print(f'Hey I am Dog. My name is {self.name}. My age is {self.age}')\n",
    "    def sound(self):\n",
    "        print('Barks')\n",
    "        \n",
    "class Cat:\n",
    "    def __init__(self,name,age):\n",
    "        self.name = name\n",
    "        self.age = age\n",
    "    def petinfo(self):\n",
    "        print(f'Hey I am cat. My name is {self.name}. My age is {self.age}')\n",
    "    def sound(self):\n",
    "        print('Meows')"
   ]
  },
  {
   "cell_type": "code",
   "execution_count": 32,
   "id": "3d109493",
   "metadata": {},
   "outputs": [],
   "source": [
    "cat_obj = Cat('Kitty',3)\n",
    "dog_obj = Dog('Kallu',7)\n",
    "tor_obj = Tortoise('toto',100)"
   ]
  },
  {
   "cell_type": "code",
   "execution_count": 33,
   "id": "d9ea4f08",
   "metadata": {},
   "outputs": [
    {
     "name": "stdout",
     "output_type": "stream",
     "text": [
      "Hey I am cat. My name is Kitty. My age is 3\n",
      "Meows\n",
      "Hey I am Dog. My name is Kallu. My age is 7\n",
      "Barks\n",
      "Hey I am Tortoise. My name is toto. My age is 100\n",
      "Clicks\n"
     ]
    }
   ],
   "source": [
    "for objects in [cat_obj,dog_obj,tor_obj]:\n",
    "    objects.petinfo()\n",
    "    objects.sound()"
   ]
  },
  {
   "cell_type": "code",
   "execution_count": 35,
   "id": "475c4f1c",
   "metadata": {},
   "outputs": [],
   "source": [
    "# polymorphism in class inheritance\n",
    "\n",
    "import math\n",
    "\n",
    "class Shape:\n",
    "    def __init__(self,name):\n",
    "        self.name = name\n",
    "    def area(self):\n",
    "        pass\n",
    "    \n",
    "\n",
    "class Circle(Shape):\n",
    "    def __init__(self,name,radius):\n",
    "        super().__init__(name)\n",
    "        self.radius = radius\n",
    "        \n",
    "    def area(self):\n",
    "        return math.pi*self.radius ** 2"
   ]
  },
  {
   "cell_type": "code",
   "execution_count": 39,
   "id": "ea71b679",
   "metadata": {},
   "outputs": [
    {
     "data": {
      "text/plain": [
       "29"
      ]
     },
     "execution_count": 39,
     "metadata": {},
     "output_type": "execute_result"
    }
   ],
   "source": [
    "import random\n",
    "random.randint(2,30)\n"
   ]
  },
  {
   "cell_type": "code",
   "execution_count": 56,
   "id": "f50e1ef3",
   "metadata": {},
   "outputs": [
    {
     "name": "stdout",
     "output_type": "stream",
     "text": [
      "27\n"
     ]
    },
    {
     "data": {
      "text/plain": [
       "2290.221044466959"
      ]
     },
     "execution_count": 56,
     "metadata": {},
     "output_type": "execute_result"
    }
   ],
   "source": [
    "# pass value using random.randint - generate integer value b/w range (2,30)\n",
    "obj1 = Circle('Circle',random.randint(2,30))\n",
    "print(obj1.radius)\n",
    "obj1.area()"
   ]
  },
  {
   "cell_type": "code",
   "execution_count": 44,
   "id": "96f2149c",
   "metadata": {},
   "outputs": [
    {
     "data": {
      "text/plain": [
       "530.929158456675"
      ]
     },
     "execution_count": 44,
     "metadata": {},
     "output_type": "execute_result"
    }
   ],
   "source": [
    "obj1.area()"
   ]
  },
  {
   "cell_type": "markdown",
   "id": "cc91168c",
   "metadata": {},
   "source": [
    "## File Handling"
   ]
  },
  {
   "cell_type": "code",
   "execution_count": 57,
   "id": "32860a76",
   "metadata": {},
   "outputs": [],
   "source": [
    "import os\n",
    "\n"
   ]
  },
  {
   "cell_type": "code",
   "execution_count": 59,
   "id": "8f41fe59",
   "metadata": {},
   "outputs": [
    {
     "data": {
      "text/plain": [
       "'C:\\\\Users\\\\neroy'"
      ]
     },
     "execution_count": 59,
     "metadata": {},
     "output_type": "execute_result"
    }
   ],
   "source": [
    "os.getcwd() #returns current working directory"
   ]
  },
  {
   "cell_type": "code",
   "execution_count": 65,
   "id": "ab8d5b13",
   "metadata": {},
   "outputs": [
    {
     "data": {
      "text/plain": [
       "['.conda',\n",
       " '.condarc',\n",
       " '.continuum',\n",
       " '.ipynb_checkpoints',\n",
       " '.ipython',\n",
       " '.jupyter',\n",
       " '.ms-ad',\n",
       " '23th Feb.ipynb',\n",
       " '24th Feb.ipynb',\n",
       " '27th feb OOPs.ipynb',\n",
       " '27th feb.ipynb',\n",
       " '28th feb.ipynb',\n",
       " '3D Objects',\n",
       " 'Anaconda3',\n",
       " 'AppData',\n",
       " 'Application Data',\n",
       " 'Contacts',\n",
       " 'Cookies',\n",
       " 'Desktop',\n",
       " 'Documents',\n",
       " 'Downloads',\n",
       " 'Favorites',\n",
       " 'IntelGraphicsProfiles',\n",
       " 'Links',\n",
       " 'Local Settings',\n",
       " 'Logs',\n",
       " 'Music',\n",
       " 'My Documents',\n",
       " 'NetHood',\n",
       " 'NTUSER.DAT',\n",
       " 'ntuser.dat.LOG1',\n",
       " 'ntuser.dat.LOG2',\n",
       " 'NTUSER.DAT{53b39e88-18c4-11ea-a811-000d3aa4692b}.TM.blf',\n",
       " 'NTUSER.DAT{53b39e88-18c4-11ea-a811-000d3aa4692b}.TMContainer00000000000000000001.regtrans-ms',\n",
       " 'NTUSER.DAT{53b39e88-18c4-11ea-a811-000d3aa4692b}.TMContainer00000000000000000002.regtrans-ms',\n",
       " 'ntuser.ini',\n",
       " 'OneDrive',\n",
       " 'Pictures',\n",
       " 'PrintHood',\n",
       " 'Recent',\n",
       " 'Roaming',\n",
       " 'Saved Games',\n",
       " 'Searches',\n",
       " 'SendTo',\n",
       " 'Start Menu',\n",
       " 'Templates',\n",
       " 'text.txt',\n",
       " 'Videos']"
      ]
     },
     "execution_count": 65,
     "metadata": {},
     "output_type": "execute_result"
    }
   ],
   "source": [
    "parent_path = 'C:\\\\Users\\\\neroy'\n",
    "os.listdir()"
   ]
  },
  {
   "cell_type": "code",
   "execution_count": 66,
   "id": "ea134ac0",
   "metadata": {},
   "outputs": [],
   "source": [
    "directory = 'Temp'\n",
    "path = os.path.join(parent_path,directory)\n",
    "os.makedirs(path)"
   ]
  },
  {
   "cell_type": "code",
   "execution_count": 67,
   "id": "6df4f885",
   "metadata": {},
   "outputs": [],
   "source": [
    "os.rmdir(path) # to delete that"
   ]
  },
  {
   "cell_type": "code",
   "execution_count": 71,
   "id": "e27e37d8",
   "metadata": {},
   "outputs": [],
   "source": [
    "directory = []"
   ]
  },
  {
   "cell_type": "code",
   "execution_count": 75,
   "id": "ae35625b",
   "metadata": {},
   "outputs": [],
   "source": [
    "#os.walk() reads all directory and subdirectory"
   ]
  },
  {
   "cell_type": "code",
   "execution_count": 73,
   "id": "e019d780",
   "metadata": {
    "scrolled": false
   },
   "outputs": [
    {
     "name": "stderr",
     "output_type": "stream",
     "text": [
      "IOPub data rate exceeded.\n",
      "The notebook server will temporarily stop sending output\n",
      "to the client in order to avoid crashing it.\n",
      "To change this limit, set the config variable\n",
      "`--NotebookApp.iopub_data_rate_limit`.\n",
      "\n",
      "Current values:\n",
      "NotebookApp.iopub_data_rate_limit=1000000.0 (bytes/sec)\n",
      "NotebookApp.rate_limit_window=3.0 (secs)\n",
      "\n"
     ]
    }
   ],
   "source": [
    "for (dir_path, dir_names, files_name) in os.walk(parent_path):\n",
    "    directory.extend(files_name)\n",
    "print(directory)"
   ]
  },
  {
   "cell_type": "code",
   "execution_count": 74,
   "id": "f1873675",
   "metadata": {},
   "outputs": [
    {
     "data": {
      "text/plain": [
       "True"
      ]
     },
     "execution_count": 74,
     "metadata": {},
     "output_type": "execute_result"
    }
   ],
   "source": [
    "#return true for file else false\n",
    "os.path.isfile('text.txt')"
   ]
  },
  {
   "cell_type": "code",
   "execution_count": 80,
   "id": "4b5a1bd3",
   "metadata": {},
   "outputs": [],
   "source": [
    "# open file from a location in read/text mode\n",
    "\n",
    "fileobj = open('text.txt')"
   ]
  },
  {
   "cell_type": "code",
   "execution_count": 81,
   "id": "ebcaa941",
   "metadata": {},
   "outputs": [
    {
     "data": {
      "text/plain": [
       "'Your only chance of survival, if you are sincerely smitten, lies in hiding this fact from the woman you love, of feigning a casual detachment under all circumstances. What sadness there is in this simple observation! What an accusation against man! However, it had never occurred to me to contest this law, nor to imagine disobeying it: love makes you weak, and the weaker of the two is oppressed, tortured and finally killed by the other, who in his or her turn oppresses, tortures and kills without having evil intentions, without even getting pleasure from it, with complete indifference; thatâ€™s what men, normally, call love.'"
      ]
     },
     "execution_count": 81,
     "metadata": {},
     "output_type": "execute_result"
    }
   ],
   "source": [
    "fileobj.read() #read the file"
   ]
  },
  {
   "cell_type": "code",
   "execution_count": 83,
   "id": "3118b2af",
   "metadata": {},
   "outputs": [
    {
     "data": {
      "text/plain": [
       "'Your only chance of survival, if you are sincerely smitten, lies in hiding this fact from the woman you love, of feigning a casual detachment under all circumstances. What sadness there is in this simple observation! What an accusation against man! However, it had never occurred to me to contest this law, nor to imagine disobeying it: love makes you weak, and the weaker of the two is oppressed, tortured and finally killed by the other, who in his or her turn oppresses, tortures and kills without having evil intentions, without even getting pleasure from it, with complete indifference; thatâ€™s what men, normally, call love.'"
      ]
     },
     "execution_count": 83,
     "metadata": {},
     "output_type": "execute_result"
    }
   ],
   "source": [
    "fileobj = open('text.txt','r')\n",
    "\n",
    "fileobj.readline()"
   ]
  },
  {
   "cell_type": "code",
   "execution_count": 86,
   "id": "cc31a88c",
   "metadata": {},
   "outputs": [
    {
     "data": {
      "text/plain": [
       "35"
      ]
     },
     "execution_count": 86,
     "metadata": {},
     "output_type": "execute_result"
    }
   ],
   "source": [
    "# create a new file and open in write mode\n",
    "fileobj = open('text.txt','w') #open file in write mode\n",
    "fileobj.write('Hey, I m writing over this file....')"
   ]
  },
  {
   "cell_type": "code",
   "execution_count": 87,
   "id": "4f1ecbc2",
   "metadata": {},
   "outputs": [],
   "source": [
    "fileobj.close()"
   ]
  },
  {
   "cell_type": "code",
   "execution_count": 88,
   "id": "03fb4af9",
   "metadata": {},
   "outputs": [
    {
     "data": {
      "text/plain": [
       "'Hey, I m writing over this file....'"
      ]
     },
     "execution_count": 88,
     "metadata": {},
     "output_type": "execute_result"
    }
   ],
   "source": [
    "fileobj = open('text.txt','r')\n",
    "fileobj.read()"
   ]
  },
  {
   "cell_type": "markdown",
   "id": "a5142b78",
   "metadata": {},
   "source": [
    " * Append\n",
    " * - iif we open a file in write mode, the previous context will over written and we will lost our data"
   ]
  },
  {
   "cell_type": "code",
   "execution_count": 89,
   "id": "344ed5eb",
   "metadata": {},
   "outputs": [
    {
     "data": {
      "text/plain": [
       "83"
      ]
     },
     "execution_count": 89,
     "metadata": {},
     "output_type": "execute_result"
    }
   ],
   "source": [
    "fileobj2 = open('text.txt','a')\n",
    "fileobj2.write('Python is easy programming langugae. we are learning about files and file handling.')"
   ]
  },
  {
   "cell_type": "code",
   "execution_count": 91,
   "id": "8b735c4a",
   "metadata": {},
   "outputs": [],
   "source": [
    "fileobj2.close()"
   ]
  },
  {
   "cell_type": "code",
   "execution_count": 92,
   "id": "2b82bed9",
   "metadata": {},
   "outputs": [
    {
     "data": {
      "text/plain": [
       "'Hey, I m writing over this file....Python is easy programming langugae. we are learning about files and file handling.'"
      ]
     },
     "execution_count": 92,
     "metadata": {},
     "output_type": "execute_result"
    }
   ],
   "source": [
    "fileobj2 = open('text.txt')\n",
    "fileobj2.read()"
   ]
  },
  {
   "cell_type": "code",
   "execution_count": 96,
   "id": "2baa9509",
   "metadata": {},
   "outputs": [
    {
     "data": {
      "text/plain": [
       "'Your only '"
      ]
     },
     "execution_count": 96,
     "metadata": {},
     "output_type": "execute_result"
    }
   ],
   "source": [
    "fileobj2 = open('text.txt','r')\n",
    "fileobj2.read(10)"
   ]
  },
  {
   "cell_type": "code",
   "execution_count": 100,
   "id": "8babcf7e",
   "metadata": {},
   "outputs": [
    {
     "name": "stdout",
     "output_type": "stream",
     "text": [
      "What sadness there is in this simple observation! What an accusation against man! However, \n",
      "\n"
     ]
    }
   ],
   "source": [
    "print(fileobj2.readline());"
   ]
  },
  {
   "cell_type": "code",
   "execution_count": 98,
   "id": "f77a358f",
   "metadata": {},
   "outputs": [
    {
     "data": {
      "text/plain": [
       "'lies in hiding this fact from the woman you love, \\n'"
      ]
     },
     "execution_count": 98,
     "metadata": {},
     "output_type": "execute_result"
    }
   ],
   "source": [
    "fileobj2.readline()"
   ]
  },
  {
   "cell_type": "code",
   "execution_count": 104,
   "id": "88884853",
   "metadata": {},
   "outputs": [
    {
     "data": {
      "text/plain": [
       "'only chance of survival, if you are sincerely smitten, \\n'"
      ]
     },
     "execution_count": 104,
     "metadata": {},
     "output_type": "execute_result"
    }
   ],
   "source": [
    "fileobj2.seek(5) # bring cursor at the start of the file (initial position of the cursor)\n",
    "fileobj2.readline()"
   ]
  },
  {
   "cell_type": "code",
   "execution_count": 105,
   "id": "1a1d1ac5",
   "metadata": {},
   "outputs": [
    {
     "data": {
      "text/plain": [
       "61"
      ]
     },
     "execution_count": 105,
     "metadata": {},
     "output_type": "execute_result"
    }
   ],
   "source": [
    "fileobj2.tell() #return the cursor position"
   ]
  },
  {
   "cell_type": "markdown",
   "id": "da17bb62",
   "metadata": {},
   "source": [
    "#### Create a program read first 5 lines of file using readlines()"
   ]
  },
  {
   "cell_type": "code",
   "execution_count": 133,
   "id": "ba14d184",
   "metadata": {
    "scrolled": true
   },
   "outputs": [
    {
     "name": "stdout",
     "output_type": "stream",
     "text": [
      "Your only chance of survival, if you are sincerely smitten, \n",
      "\n",
      "lies in hiding this fact from the woman you love, \n",
      "\n",
      "of feigning a casual detachment under all circumstances. \n",
      "\n",
      "What sadness there is in this simple observation! What an accusation against man! However, \n",
      "\n",
      "it had never occurred to me to contest this law, nor to imagine disobeying it: \n",
      "\n"
     ]
    }
   ],
   "source": [
    "f_obj = open('text.txt','r')\n",
    "l=f_obj.readlines()\n",
    "for i in range(0,5):\n",
    "    print(l[i])\n"
   ]
  },
  {
   "cell_type": "code",
   "execution_count": 136,
   "id": "85ac48c5",
   "metadata": {},
   "outputs": [
    {
     "name": "stdout",
     "output_type": "stream",
     "text": [
      "[]\n",
      "[]\n",
      "[]\n",
      "[]\n",
      "[]\n"
     ]
    }
   ],
   "source": [
    "# f_obj = open('text.txt','r')\n",
    "# l=f_obj.readlines()\n",
    "# for i in range(0,5):\n",
    "#     #k = list(f_obj.readlines())\n",
    "#     print(list(f_obj.readlines())[:5])\n",
    "#     #print(k[i])"
   ]
  },
  {
   "cell_type": "markdown",
   "id": "9111a707",
   "metadata": {},
   "source": [
    "### Exceptions\n",
    "    * Python has many built in exceptions (ZeroDvisionError, EOFError, KeyError, SyntaxError, IndentationError, FileNotFoundError, EOLError etc.) These are raised when your program encounters an error."
   ]
  },
  {
   "cell_type": "code",
   "execution_count": 137,
   "id": "c2825c28",
   "metadata": {},
   "outputs": [
    {
     "ename": "SyntaxError",
     "evalue": "invalid syntax (3757719507.py, line 4)",
     "output_type": "error",
     "traceback": [
      "\u001b[1;36m  File \u001b[1;32m\"C:\\Users\\neroy\\AppData\\Local\\Temp\\ipykernel_3028\\3757719507.py\"\u001b[1;36m, line \u001b[1;32m4\u001b[0m\n\u001b[1;33m    elif symbol == '/':\u001b[0m\n\u001b[1;37m    ^\u001b[0m\n\u001b[1;31mSyntaxError\u001b[0m\u001b[1;31m:\u001b[0m invalid syntax\n"
     ]
    }
   ],
   "source": [
    "def calculate(a,b,symbol):\n",
    "    if symbol == '+':\n",
    "        print(a+b)\n",
    "elif symbol == '/':\n",
    "        print()"
   ]
  },
  {
   "cell_type": "code",
   "execution_count": 138,
   "id": "7f483ae4",
   "metadata": {},
   "outputs": [
    {
     "ename": "IndentationError",
     "evalue": "expected an indented block (735691930.py, line 5)",
     "output_type": "error",
     "traceback": [
      "\u001b[1;36m  File \u001b[1;32m\"C:\\Users\\neroy\\AppData\\Local\\Temp\\ipykernel_3028\\735691930.py\"\u001b[1;36m, line \u001b[1;32m5\u001b[0m\n\u001b[1;33m    print()\u001b[0m\n\u001b[1;37m    ^\u001b[0m\n\u001b[1;31mIndentationError\u001b[0m\u001b[1;31m:\u001b[0m expected an indented block\n"
     ]
    }
   ],
   "source": [
    "def calculate(a,b,symbol):\n",
    "    if symbol == '+':\n",
    "        print(a+b)\n",
    "    elif symbol == '/':\n",
    "    print()"
   ]
  },
  {
   "cell_type": "code",
   "execution_count": 140,
   "id": "523a24a2",
   "metadata": {},
   "outputs": [
    {
     "ename": "FileNotFoundError",
     "evalue": "[Errno 2] No such file or directory: 'hojo.txt'",
     "output_type": "error",
     "traceback": [
      "\u001b[1;31m---------------------------------------------------------------------------\u001b[0m",
      "\u001b[1;31mFileNotFoundError\u001b[0m                         Traceback (most recent call last)",
      "\u001b[1;32m~\\AppData\\Local\\Temp\\ipykernel_3028\\3150653401.py\u001b[0m in \u001b[0;36m<module>\u001b[1;34m\u001b[0m\n\u001b[1;32m----> 1\u001b[1;33m \u001b[0mfl\u001b[0m \u001b[1;33m=\u001b[0m \u001b[0mopen\u001b[0m\u001b[1;33m(\u001b[0m\u001b[1;34m'hojo.txt'\u001b[0m\u001b[1;33m,\u001b[0m\u001b[1;34m'r'\u001b[0m\u001b[1;33m)\u001b[0m \u001b[1;31m#FileNotFoundError: will be raised if no file is found in location\u001b[0m\u001b[1;33m\u001b[0m\u001b[1;33m\u001b[0m\u001b[0m\n\u001b[0m",
      "\u001b[1;31mFileNotFoundError\u001b[0m: [Errno 2] No such file or directory: 'hojo.txt'"
     ]
    }
   ],
   "source": [
    "fl = open('hojo.txt','r') #FileNotFoundError: will be raised if no file is found in location"
   ]
  },
  {
   "cell_type": "code",
   "execution_count": 142,
   "id": "f4e02b4e",
   "metadata": {},
   "outputs": [
    {
     "ename": "SyntaxError",
     "evalue": "EOL while scanning string literal (914370245.py, line 1)",
     "output_type": "error",
     "traceback": [
      "\u001b[1;36m  File \u001b[1;32m\"C:\\Users\\neroy\\AppData\\Local\\Temp\\ipykernel_3028\\914370245.py\"\u001b[1;36m, line \u001b[1;32m1\u001b[0m\n\u001b[1;33m    print('My name is Khan # when we forgot to end paranthesis its EOL Error\u001b[0m\n\u001b[1;37m                                                                            ^\u001b[0m\n\u001b[1;31mSyntaxError\u001b[0m\u001b[1;31m:\u001b[0m EOL while scanning string literal\n"
     ]
    }
   ],
   "source": [
    "print('My name is Khan # when we forgot to '' its EOL Error"
   ]
  },
  {
   "cell_type": "code",
   "execution_count": 144,
   "id": "1e54643e",
   "metadata": {},
   "outputs": [
    {
     "ename": "SyntaxError",
     "evalue": "unexpected EOF while parsing (282555087.py, line 1)",
     "output_type": "error",
     "traceback": [
      "\u001b[1;36m  File \u001b[1;32m\"C:\\Users\\neroy\\AppData\\Local\\Temp\\ipykernel_3028\\282555087.py\"\u001b[1;36m, line \u001b[1;32m1\u001b[0m\n\u001b[1;33m    print('my name is khan' # when we forgot the end parathesis its called EOF Error\u001b[0m\n\u001b[1;37m                                                                                    ^\u001b[0m\n\u001b[1;31mSyntaxError\u001b[0m\u001b[1;31m:\u001b[0m unexpected EOF while parsing\n"
     ]
    }
   ],
   "source": [
    "print('my name is khan' # when we forgot the end parathesis its called EOF Error"
   ]
  },
  {
   "cell_type": "markdown",
   "id": "9a2c3b24",
   "metadata": {},
   "source": [
    "### Exception Handling in python\n",
    "     * When the exception occurs in Python Program interpreter stops the current process and it passes it to calling process until it handled. It exception is handled the program will crash.\n",
    "     * Exception in python is handled by using 'try' statement. the 'try' lets you test a block of code for errors."
   ]
  },
  {
   "cell_type": "code",
   "execution_count": 145,
   "id": "4a98298a",
   "metadata": {},
   "outputs": [
    {
     "name": "stdout",
     "output_type": "stream",
     "text": [
      "enter denominator value: 0\n",
      "division by zero Exception Occured\n",
      "run this code always\n"
     ]
    }
   ],
   "source": [
    "import sys\n",
    "\n",
    "num = int(input(\"enter denominator value: \"))\n",
    "try:\n",
    "    print(100/num)\n",
    "except:\n",
    "    print(sys.exc_info()[1],'Exception Occured')\n",
    "print('run this code always')"
   ]
  },
  {
   "cell_type": "code",
   "execution_count": 146,
   "id": "bf1ce1ed",
   "metadata": {},
   "outputs": [
    {
     "name": "stdout",
     "output_type": "stream",
     "text": [
      "enter denominator value: 0\n",
      "(<class 'ZeroDivisionError'>, ZeroDivisionError('division by zero'), <traceback object at 0x00000166F8D184C0>) Exception Occured\n",
      "run this code always\n"
     ]
    }
   ],
   "source": [
    "import sys\n",
    "\n",
    "num = int(input(\"enter denominator value: \"))\n",
    "try:\n",
    "    print(100/num)\n",
    "except:\n",
    "    print(sys.exc_info(),'Exception Occured')\n",
    "print('run this code always')"
   ]
  },
  {
   "cell_type": "code",
   "execution_count": 148,
   "id": "e2b8acba",
   "metadata": {},
   "outputs": [
    {
     "name": "stdout",
     "output_type": "stream",
     "text": [
      "not writable Exception Occured\n",
      "Run this block of code always\n"
     ]
    }
   ],
   "source": [
    "try:\n",
    "    file = open('text.txt','r')\n",
    "    file.write('This is exception handling example')\n",
    "except:\n",
    "    #write error message\n",
    "    print(sys.exc_info()[1],'Exception Occured')\n",
    "else:\n",
    "    #success message\n",
    "    print('write successfully !!')\n",
    "finally:\n",
    "    print('Run this block of code always')"
   ]
  },
  {
   "cell_type": "code",
   "execution_count": 149,
   "id": "f2d5a129",
   "metadata": {},
   "outputs": [],
   "source": [
    "### Excerise waf that ask for an integer and prints the square of it. use while loop with try,except and else"
   ]
  },
  {
   "cell_type": "code",
   "execution_count": null,
   "id": "527a77b3",
   "metadata": {},
   "outputs": [
    {
     "name": "stdout",
     "output_type": "stream",
     "text": [
      "enter the number: 4\n"
     ]
    }
   ],
   "source": [
    "x = input(\"enter the number: \")\n",
    "\n",
    "while True:\n",
    "    try:\n",
    "        x = int(input(\"enter number: \"))\n",
    "    except:\n",
    "        print(sys.exc_info()[1], 'Exception Occured')\n",
    "        continue\n",
    "    else:\n",
    "        #flag = True\n",
    "        #print(x**2)\n",
    "        break\n",
    "    print(x**2)\n",
    "    #x = x-x\n",
    "#     finally:\n",
    "#         print(\"Program executed !!\")"
   ]
  },
  {
   "cell_type": "code",
   "execution_count": 2,
   "id": "a4cc1fc9",
   "metadata": {},
   "outputs": [],
   "source": [
    "def ask(): \n",
    "    while True:\n",
    "        try:\n",
    "            num = int(input(\"enter the number: \"))\n",
    "        except:\n",
    "            print(\"error\")\n",
    "            continue\n",
    "        else:\n",
    "            print('success !')\n",
    "            break\n",
    "    print(num**2)"
   ]
  },
  {
   "cell_type": "code",
   "execution_count": null,
   "id": "876dfa3f",
   "metadata": {},
   "outputs": [
    {
     "name": "stdout",
     "output_type": "stream",
     "text": [
      "enter the number: kl\n",
      "error\n"
     ]
    }
   ],
   "source": [
    "ask()"
   ]
  },
  {
   "cell_type": "code",
   "execution_count": null,
   "id": "15d002d2",
   "metadata": {},
   "outputs": [],
   "source": []
  }
 ],
 "metadata": {
  "kernelspec": {
   "display_name": "Python 3 (ipykernel)",
   "language": "python",
   "name": "python3"
  },
  "language_info": {
   "codemirror_mode": {
    "name": "ipython",
    "version": 3
   },
   "file_extension": ".py",
   "mimetype": "text/x-python",
   "name": "python",
   "nbconvert_exporter": "python",
   "pygments_lexer": "ipython3",
   "version": "3.9.13"
  }
 },
 "nbformat": 4,
 "nbformat_minor": 5
}
