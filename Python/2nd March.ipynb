{
 "cells": [
  {
   "cell_type": "code",
   "execution_count": 1,
   "id": "3eb22ea4",
   "metadata": {},
   "outputs": [],
   "source": [
    "import numpy as np\n"
   ]
  },
  {
   "cell_type": "markdown",
   "id": "57f94447",
   "metadata": {},
   "source": [
    "### Create a 2d array with 1 on the border and rest position will zeros"
   ]
  },
  {
   "cell_type": "code",
   "execution_count": 38,
   "id": "d21fc137",
   "metadata": {},
   "outputs": [],
   "source": [
    "# shape 3 rows, 6 columns\n",
    "arr = np.ones((6,6),dtype = 'int16')"
   ]
  },
  {
   "cell_type": "code",
   "execution_count": 39,
   "id": "5377efcf",
   "metadata": {},
   "outputs": [
    {
     "data": {
      "text/plain": [
       "array([[1, 1, 1, 1, 1, 1],\n",
       "       [1, 1, 1, 1, 1, 1],\n",
       "       [1, 1, 1, 1, 1, 1],\n",
       "       [1, 1, 1, 1, 1, 1],\n",
       "       [1, 1, 1, 1, 1, 1],\n",
       "       [1, 1, 1, 1, 1, 1]], dtype=int16)"
      ]
     },
     "execution_count": 39,
     "metadata": {},
     "output_type": "execute_result"
    }
   ],
   "source": [
    "arr"
   ]
  },
  {
   "cell_type": "code",
   "execution_count": 36,
   "id": "82038540",
   "metadata": {},
   "outputs": [
    {
     "name": "stdout",
     "output_type": "stream",
     "text": [
      "enter the number4\n"
     ]
    }
   ],
   "source": [
    "x = int(input(\"enter the number\"))\n",
    "x_arr = np.ones((x,x),dtype = 'int16')\n",
    "s_shp = x_arr.shape[0]\n",
    "for i in range(x,s_shp-1):\n",
    "    if i > s_shp-1:\n",
    "        x_arr[i-s_shp+1][1:(i-1)] = 0\n"
   ]
  },
  {
   "cell_type": "code",
   "execution_count": 47,
   "id": "74133259",
   "metadata": {},
   "outputs": [],
   "source": [
    "arr[1:-1,1:-1] = 0"
   ]
  },
  {
   "cell_type": "code",
   "execution_count": 48,
   "id": "1435ede3",
   "metadata": {},
   "outputs": [
    {
     "data": {
      "text/plain": [
       "array([[1, 1, 1, 1, 1, 1],\n",
       "       [1, 0, 0, 0, 0, 1],\n",
       "       [1, 0, 0, 0, 0, 1],\n",
       "       [1, 0, 0, 0, 0, 1],\n",
       "       [1, 0, 0, 0, 0, 1],\n",
       "       [1, 1, 1, 1, 1, 1]], dtype=int16)"
      ]
     },
     "execution_count": 48,
     "metadata": {},
     "output_type": "execute_result"
    }
   ],
   "source": [
    "arr"
   ]
  },
  {
   "cell_type": "code",
   "execution_count": 8,
   "id": "8ea2e455",
   "metadata": {},
   "outputs": [],
   "source": [
    "arr[1][1:5] = 0\n",
    "arr[2][1:5] = 0\n",
    "arr[3][1:5] = 0\n",
    "arr[4][1:5] = 0\n",
    "#arr[][1:5] = 0"
   ]
  },
  {
   "cell_type": "code",
   "execution_count": 34,
   "id": "1c89b564",
   "metadata": {},
   "outputs": [
    {
     "data": {
      "text/plain": [
       "array([[1, 1, 1, 1, 1, 1],\n",
       "       [1, 0, 0, 0, 0, 1],\n",
       "       [1, 0, 0, 0, 0, 1],\n",
       "       [1, 0, 0, 0, 0, 1],\n",
       "       [1, 0, 0, 0, 0, 1],\n",
       "       [1, 1, 1, 1, 1, 1]], dtype=int16)"
      ]
     },
     "execution_count": 34,
     "metadata": {},
     "output_type": "execute_result"
    }
   ],
   "source": [
    "arr"
   ]
  },
  {
   "cell_type": "code",
   "execution_count": 25,
   "id": "73e9e0a0",
   "metadata": {},
   "outputs": [],
   "source": [
    "arr3 = np.ones((3,6),dtype = 'int16')"
   ]
  },
  {
   "cell_type": "code",
   "execution_count": 26,
   "id": "6bacdc8d",
   "metadata": {},
   "outputs": [
    {
     "data": {
      "text/plain": [
       "array([[1, 1, 1, 1, 1, 1],\n",
       "       [1, 1, 1, 1, 1, 1],\n",
       "       [1, 1, 1, 1, 1, 1]], dtype=int16)"
      ]
     },
     "execution_count": 26,
     "metadata": {},
     "output_type": "execute_result"
    }
   ],
   "source": [
    "arr3"
   ]
  },
  {
   "cell_type": "code",
   "execution_count": 27,
   "id": "c058e15d",
   "metadata": {},
   "outputs": [],
   "source": [
    "arr3[0][1] = 0\n",
    "arr3[0][3] = 0\n",
    "arr3[0][5] = 0\n",
    "arr3[1][0] = 0\n",
    "arr3[1][2] = 0\n",
    "arr3[1][4] = 0\n",
    "arr3[2][1] = 0\n",
    "arr3[2][3] = 0\n",
    "arr3[2][5] = 0"
   ]
  },
  {
   "cell_type": "markdown",
   "id": "e58881e2",
   "metadata": {},
   "source": [
    "### Create a CheckerBoard (Chess Board"
   ]
  },
  {
   "cell_type": "code",
   "execution_count": 55,
   "id": "3461022a",
   "metadata": {},
   "outputs": [],
   "source": [
    "arr4 = np.ones((10,10),dtype = 'int16')\n",
    "arr4[1::2,0::2] = 0\n",
    "arr4[0::2,1::2] = 0"
   ]
  },
  {
   "cell_type": "code",
   "execution_count": 56,
   "id": "0ddc6206",
   "metadata": {},
   "outputs": [
    {
     "data": {
      "text/plain": [
       "array([[1, 0, 1, 0, 1, 0, 1, 0, 1, 0],\n",
       "       [0, 1, 0, 1, 0, 1, 0, 1, 0, 1],\n",
       "       [1, 0, 1, 0, 1, 0, 1, 0, 1, 0],\n",
       "       [0, 1, 0, 1, 0, 1, 0, 1, 0, 1],\n",
       "       [1, 0, 1, 0, 1, 0, 1, 0, 1, 0],\n",
       "       [0, 1, 0, 1, 0, 1, 0, 1, 0, 1],\n",
       "       [1, 0, 1, 0, 1, 0, 1, 0, 1, 0],\n",
       "       [0, 1, 0, 1, 0, 1, 0, 1, 0, 1],\n",
       "       [1, 0, 1, 0, 1, 0, 1, 0, 1, 0],\n",
       "       [0, 1, 0, 1, 0, 1, 0, 1, 0, 1]], dtype=int16)"
      ]
     },
     "execution_count": 56,
     "metadata": {},
     "output_type": "execute_result"
    }
   ],
   "source": [
    "arr4"
   ]
  },
  {
   "cell_type": "code",
   "execution_count": 59,
   "id": "26fb1087",
   "metadata": {},
   "outputs": [],
   "source": [
    "arr5 = arr4[0::2,0::2] #extracting ones only from arr4 "
   ]
  },
  {
   "cell_type": "code",
   "execution_count": 58,
   "id": "4a1a3296",
   "metadata": {},
   "outputs": [
    {
     "data": {
      "text/plain": [
       "array([[1, 1, 1, 1, 1],\n",
       "       [1, 1, 1, 1, 1],\n",
       "       [1, 1, 1, 1, 1],\n",
       "       [1, 1, 1, 1, 1],\n",
       "       [1, 1, 1, 1, 1]], dtype=int16)"
      ]
     },
     "execution_count": 58,
     "metadata": {},
     "output_type": "execute_result"
    }
   ],
   "source": [
    "arr5"
   ]
  },
  {
   "cell_type": "markdown",
   "id": "5ea08cc9",
   "metadata": {},
   "source": [
    "### Null Values"
   ]
  },
  {
   "cell_type": "code",
   "execution_count": 60,
   "id": "a1382ff5",
   "metadata": {},
   "outputs": [
    {
     "data": {
      "text/plain": [
       "array([[ 1., nan,  1., nan,  1., nan,  1., nan,  1., nan],\n",
       "       [nan,  1., nan,  1., nan,  1., nan,  1., nan,  1.],\n",
       "       [ 1., nan,  1., nan,  1., nan,  1., nan,  1., nan],\n",
       "       [nan,  1., nan,  1., nan,  1., nan,  1., nan,  1.],\n",
       "       [ 1., nan,  1., nan,  1., nan,  1., nan,  1., nan],\n",
       "       [nan,  1., nan,  1., nan,  1., nan,  1., nan,  1.],\n",
       "       [ 1., nan,  1., nan,  1., nan,  1., nan,  1., nan],\n",
       "       [nan,  1., nan,  1., nan,  1., nan,  1., nan,  1.],\n",
       "       [ 1., nan,  1., nan,  1., nan,  1., nan,  1., nan],\n",
       "       [nan,  1., nan,  1., nan,  1., nan,  1., nan,  1.]])"
      ]
     },
     "execution_count": 60,
     "metadata": {},
     "output_type": "execute_result"
    }
   ],
   "source": [
    "# nan - not a number\n",
    "arr6 = np.ones((10,10))\n",
    "arr6[1::2,0::2] = np.nan\n",
    "arr6[0::2,1::2] = np.nan\n",
    "arr6"
   ]
  },
  {
   "cell_type": "code",
   "execution_count": 63,
   "id": "b20ff99a",
   "metadata": {},
   "outputs": [
    {
     "data": {
      "text/plain": [
       "array([[False,  True, False,  True, False,  True, False,  True, False,\n",
       "         True],\n",
       "       [ True, False,  True, False,  True, False,  True, False,  True,\n",
       "        False],\n",
       "       [False,  True, False,  True, False,  True, False,  True, False,\n",
       "         True],\n",
       "       [ True, False,  True, False,  True, False,  True, False,  True,\n",
       "        False],\n",
       "       [False,  True, False,  True, False,  True, False,  True, False,\n",
       "         True],\n",
       "       [ True, False,  True, False,  True, False,  True, False,  True,\n",
       "        False],\n",
       "       [False,  True, False,  True, False,  True, False,  True, False,\n",
       "         True],\n",
       "       [ True, False,  True, False,  True, False,  True, False,  True,\n",
       "        False],\n",
       "       [False,  True, False,  True, False,  True, False,  True, False,\n",
       "         True],\n",
       "       [ True, False,  True, False,  True, False,  True, False,  True,\n",
       "        False]])"
      ]
     },
     "execution_count": 63,
     "metadata": {},
     "output_type": "execute_result"
    }
   ],
   "source": [
    "# isnan() - returns boolean value, True for missing data, False for not missing data\n",
    "np.isnan(arr6) "
   ]
  },
  {
   "cell_type": "code",
   "execution_count": 66,
   "id": "930dfc8f",
   "metadata": {},
   "outputs": [
    {
     "data": {
      "text/plain": [
       "50"
      ]
     },
     "execution_count": 66,
     "metadata": {},
     "output_type": "execute_result"
    }
   ],
   "source": [
    "# np.count_nonzero() count False/0 values\n",
    "np.count_nonzero(~np.isnan(arr6))"
   ]
  },
  {
   "cell_type": "code",
   "execution_count": 4,
   "id": "fc18c1c6",
   "metadata": {},
   "outputs": [],
   "source": [
    "import numpy as np\n",
    "arr7 = np.array([['a','b','c','d'],\n",
    "       ['e','f','g','h'],\n",
    "       ['i','j','k','l'],\n",
    "       ['m','n','o','p'],\n",
    "       ['q','r','s','t'],\n",
    "       ['u','v','w','x']])"
   ]
  },
  {
   "cell_type": "code",
   "execution_count": 2,
   "id": "b77cea38",
   "metadata": {},
   "outputs": [
    {
     "ename": "AttributeError",
     "evalue": "'list' object has no attribute 'shape'",
     "output_type": "error",
     "traceback": [
      "\u001b[1;31m---------------------------------------------------------------------------\u001b[0m",
      "\u001b[1;31mAttributeError\u001b[0m                            Traceback (most recent call last)",
      "\u001b[1;32m~\\AppData\\Local\\Temp\\ipykernel_13040\\2982947633.py\u001b[0m in \u001b[0;36m<module>\u001b[1;34m\u001b[0m\n\u001b[1;32m----> 1\u001b[1;33m \u001b[0marr7\u001b[0m\u001b[1;33m.\u001b[0m\u001b[0mshape\u001b[0m\u001b[1;33m\u001b[0m\u001b[1;33m\u001b[0m\u001b[0m\n\u001b[0m",
      "\u001b[1;31mAttributeError\u001b[0m: 'list' object has no attribute 'shape'"
     ]
    }
   ],
   "source": [
    "arr7.shape"
   ]
  },
  {
   "cell_type": "code",
   "execution_count": 146,
   "id": "637a8c9b",
   "metadata": {},
   "outputs": [
    {
     "name": "stdout",
     "output_type": "stream",
     "text": [
      "a\n",
      "e\n",
      "i\n",
      "o\n",
      "u\n"
     ]
    }
   ],
   "source": [
    "count = 0\n",
    "for i in range(0,6):\n",
    "    for j in range(0,4):\n",
    "        if arr7[i][j] in list1:\n",
    "            print(arr7[i][j])\n",
    "            arr7[i][j] = False\n",
    "            count += 1"
   ]
  },
  {
   "cell_type": "code",
   "execution_count": 147,
   "id": "5e05d496",
   "metadata": {},
   "outputs": [
    {
     "data": {
      "text/plain": [
       "[[False, 'b', 'c', 'd'],\n",
       " [False, 'f', 'g', 'h'],\n",
       " [False, 'j', 'k', 'l'],\n",
       " ['m', 'n', False, 'p'],\n",
       " ['q', 'r', 's', 't'],\n",
       " [False, 'v', 'w', 'x']]"
      ]
     },
     "execution_count": 147,
     "metadata": {},
     "output_type": "execute_result"
    }
   ],
   "source": [
    "arr7"
   ]
  },
  {
   "cell_type": "code",
   "execution_count": null,
   "id": "e954a51c",
   "metadata": {},
   "outputs": [],
   "source": []
  },
  {
   "cell_type": "code",
   "execution_count": null,
   "id": "3896bb24",
   "metadata": {},
   "outputs": [],
   "source": []
  },
  {
   "cell_type": "code",
   "execution_count": 141,
   "id": "4804468b",
   "metadata": {},
   "outputs": [],
   "source": [
    "arr7 = np.array([['a','b','c','d'],\n",
    "       ['e','f','g','h'],\n",
    "       ['i','j','k','l'],\n",
    "       ['m','n','o','p'],\n",
    "       ['q','r','s','t'],\n",
    "       ['u','v','w','x']])"
   ]
  },
  {
   "cell_type": "code",
   "execution_count": null,
   "id": "d7dc6f93",
   "metadata": {},
   "outputs": [],
   "source": [
    "arr7 = np.array([['a','b','c','d'],\n",
    "       ['e','f','g','h'],\n",
    "       ['i','j','k','l'],\n",
    "       ['m','n','o','p'],\n",
    "       ['q','r','s','t'],\n",
    "       ['u','v','w','x']])\n",
    "\n"
   ]
  },
  {
   "cell_type": "code",
   "execution_count": 142,
   "id": "a64bdf55",
   "metadata": {
    "scrolled": true
   },
   "outputs": [
    {
     "data": {
      "text/plain": [
       "(6, 4)"
      ]
     },
     "execution_count": 142,
     "metadata": {},
     "output_type": "execute_result"
    }
   ],
   "source": [
    "arr7.shape"
   ]
  },
  {
   "cell_type": "code",
   "execution_count": 143,
   "id": "91a501ef",
   "metadata": {},
   "outputs": [],
   "source": [
    "list1 = ['a','e','i','o','u']"
   ]
  },
  {
   "cell_type": "code",
   "execution_count": null,
   "id": "91ab599e",
   "metadata": {},
   "outputs": [],
   "source": [
    "for i in  "
   ]
  },
  {
   "cell_type": "code",
   "execution_count": 144,
   "id": "7ad39e47",
   "metadata": {},
   "outputs": [
    {
     "name": "stdout",
     "output_type": "stream",
     "text": [
      "a\n",
      "e\n",
      "i\n",
      "o\n",
      "u\n"
     ]
    }
   ],
   "source": [
    "for i in range(0,6):\n",
    "    for j in range(0,4):\n",
    "        if arr7[i][j] in list1:\n",
    "            print(arr7[i][j])\n",
    "            arr7[i][j] = '?'"
   ]
  },
  {
   "cell_type": "code",
   "execution_count": 139,
   "id": "1fbf386b",
   "metadata": {},
   "outputs": [
    {
     "data": {
      "text/plain": [
       "array([['?', 'b', 'c', 'd'],\n",
       "       ['?', 'f', 'g', 'h'],\n",
       "       ['?', 'j', 'k', 'l'],\n",
       "       ['m', 'n', '?', 'p'],\n",
       "       ['q', 'r', 's', 't'],\n",
       "       ['?', 'v', 'w', 'x']], dtype='<U1')"
      ]
     },
     "execution_count": 139,
     "metadata": {},
     "output_type": "execute_result"
    }
   ],
   "source": [
    "arr7"
   ]
  },
  {
   "cell_type": "code",
   "execution_count": 140,
   "id": "9bf13ba9",
   "metadata": {},
   "outputs": [
    {
     "name": "stdout",
     "output_type": "stream",
     "text": [
      "5\n"
     ]
    }
   ],
   "source": [
    "count = 0\n",
    "for i in range(0,6):\n",
    "    for j in range(0,4):\n",
    "        if arr7[i][j] == '?':\n",
    "            count = count +1\n",
    "print(count)"
   ]
  },
  {
   "cell_type": "markdown",
   "id": "6a4452c3",
   "metadata": {},
   "source": [
    "### Reversing of an array"
   ]
  },
  {
   "cell_type": "code",
   "execution_count": 149,
   "id": "c6b78ed3",
   "metadata": {},
   "outputs": [
    {
     "data": {
      "text/plain": [
       "array([ 0,  1,  2,  3,  4,  5,  6,  7,  8,  9, 10, 11, 12, 13, 14, 15, 16,\n",
       "       17, 18, 19, 20, 21, 22, 23, 24, 25, 26, 27, 28, 29, 30, 31, 32, 33,\n",
       "       34, 35, 36, 37, 38, 39, 40, 41, 42, 43, 44, 45, 46, 47, 48, 49])"
      ]
     },
     "execution_count": 149,
     "metadata": {},
     "output_type": "execute_result"
    }
   ],
   "source": [
    "arr8 = np.arange(50)\n",
    "arr8"
   ]
  },
  {
   "cell_type": "code",
   "execution_count": 150,
   "id": "780ebfe9",
   "metadata": {},
   "outputs": [
    {
     "data": {
      "text/plain": [
       "array([49, 48, 47, 46, 45, 44, 43, 42, 41, 40, 39, 38, 37, 36, 35, 34, 33,\n",
       "       32, 31, 30, 29, 28, 27, 26, 25, 24, 23, 22, 21, 20, 19, 18, 17, 16,\n",
       "       15, 14, 13, 12, 11, 10,  9,  8,  7,  6,  5,  4,  3,  2,  1,  0])"
      ]
     },
     "execution_count": 150,
     "metadata": {},
     "output_type": "execute_result"
    }
   ],
   "source": [
    "arr8[::-1]"
   ]
  },
  {
   "cell_type": "code",
   "execution_count": 152,
   "id": "5e0fcf3d",
   "metadata": {},
   "outputs": [
    {
     "data": {
      "text/plain": [
       "array([[ 0,  1,  2,  3,  4,  5],\n",
       "       [ 6,  7,  8,  9, 10, 11],\n",
       "       [12, 13, 14, 15, 16, 17],\n",
       "       [18, 19, 20, 21, 22, 23],\n",
       "       [24, 25, 26, 27, 28, 29],\n",
       "       [30, 31, 32, 33, 34, 35]])"
      ]
     },
     "execution_count": 152,
     "metadata": {},
     "output_type": "execute_result"
    }
   ],
   "source": [
    "arr9 = np.arange(0,36).reshape(6,6)\n",
    "arr9"
   ]
  },
  {
   "cell_type": "code",
   "execution_count": 162,
   "id": "193256b9",
   "metadata": {},
   "outputs": [
    {
     "name": "stdout",
     "output_type": "stream",
     "text": [
      "[[ 0  1  2  3  4  5]\n",
      " [ 6  7  8  9 10 11]\n",
      " [12 13 14 15 16 17]\n",
      " [18 19 20 21 22 23]\n",
      " [24 25 26 27 28 29]\n",
      " [30 31 32 33 34 35]]\n"
     ]
    },
    {
     "data": {
      "text/plain": [
       "array([[30, 31, 32, 33, 34, 35],\n",
       "       [24, 25, 26, 27, 28, 29],\n",
       "       [18, 19, 20, 21, 22, 23],\n",
       "       [12, 13, 14, 15, 16, 17],\n",
       "       [ 6,  7,  8,  9, 10, 11],\n",
       "       [ 0,  1,  2,  3,  4,  5]])"
      ]
     },
     "execution_count": 162,
     "metadata": {},
     "output_type": "execute_result"
    }
   ],
   "source": [
    "# up() -> up/down\n",
    "print(arr9)\n",
    "np.flipud(arr9) #rows will interchange\n"
   ]
  },
  {
   "cell_type": "code",
   "execution_count": 160,
   "id": "79fbc421",
   "metadata": {},
   "outputs": [
    {
     "name": "stdout",
     "output_type": "stream",
     "text": [
      "[[ 0  1  2  3  4  5]\n",
      " [ 6  7  8  9 10 11]\n",
      " [12 13 14 15 16 17]\n",
      " [18 19 20 21 22 23]\n",
      " [24 25 26 27 28 29]\n",
      " [30 31 32 33 34 35]]\n"
     ]
    },
    {
     "data": {
      "text/plain": [
       "array([[ 5,  4,  3,  2,  1,  0],\n",
       "       [11, 10,  9,  8,  7,  6],\n",
       "       [17, 16, 15, 14, 13, 12],\n",
       "       [23, 22, 21, 20, 19, 18],\n",
       "       [29, 28, 27, 26, 25, 24],\n",
       "       [35, 34, 33, 32, 31, 30]])"
      ]
     },
     "execution_count": 160,
     "metadata": {},
     "output_type": "execute_result"
    }
   ],
   "source": [
    "# lr() - left/right\n",
    "print(arr9)\n",
    "np.fliplr(arr9) #column will inter change"
   ]
  },
  {
   "cell_type": "code",
   "execution_count": 159,
   "id": "3b7aaef1",
   "metadata": {},
   "outputs": [
    {
     "name": "stdout",
     "output_type": "stream",
     "text": [
      "[[ 0  1  2  3  4  5]\n",
      " [ 6  7  8  9 10 11]\n",
      " [12 13 14 15 16 17]\n",
      " [18 19 20 21 22 23]\n",
      " [24 25 26 27 28 29]\n",
      " [30 31 32 33 34 35]]\n"
     ]
    },
    {
     "data": {
      "text/plain": [
       "array([[35, 34, 33, 32, 31, 30],\n",
       "       [29, 28, 27, 26, 25, 24],\n",
       "       [23, 22, 21, 20, 19, 18],\n",
       "       [17, 16, 15, 14, 13, 12],\n",
       "       [11, 10,  9,  8,  7,  6],\n",
       "       [ 5,  4,  3,  2,  1,  0]])"
      ]
     },
     "execution_count": 159,
     "metadata": {},
     "output_type": "execute_result"
    }
   ],
   "source": [
    "# to flip both rows and columns\n",
    "print(arr9)\n",
    "np.flip(arr9)"
   ]
  },
  {
   "cell_type": "code",
   "execution_count": 167,
   "id": "abc8e100",
   "metadata": {},
   "outputs": [],
   "source": [
    "temp = [[1,2,3],[4,5,6]]"
   ]
  },
  {
   "cell_type": "code",
   "execution_count": 168,
   "id": "f4559e73",
   "metadata": {},
   "outputs": [
    {
     "data": {
      "text/plain": [
       "list"
      ]
     },
     "execution_count": 168,
     "metadata": {},
     "output_type": "execute_result"
    }
   ],
   "source": [
    "type(temp)"
   ]
  },
  {
   "cell_type": "code",
   "execution_count": 163,
   "id": "98c4ca34",
   "metadata": {},
   "outputs": [
    {
     "data": {
      "text/plain": [
       "array([[1, 2, 3],\n",
       "       [4, 5, 6]])"
      ]
     },
     "execution_count": 163,
     "metadata": {},
     "output_type": "execute_result"
    }
   ],
   "source": [
    "arr10 = np.array([[1,2,3],\n",
    "                 [4,5,6]])\n",
    "arr10"
   ]
  },
  {
   "cell_type": "code",
   "execution_count": 164,
   "id": "3527ef55",
   "metadata": {},
   "outputs": [
    {
     "data": {
      "text/plain": [
       "21"
      ]
     },
     "execution_count": 164,
     "metadata": {},
     "output_type": "execute_result"
    }
   ],
   "source": [
    "arr10.sum()"
   ]
  },
  {
   "cell_type": "code",
   "execution_count": 165,
   "id": "09550e48",
   "metadata": {},
   "outputs": [
    {
     "data": {
      "text/plain": [
       "array([5, 7, 9])"
      ]
     },
     "execution_count": 165,
     "metadata": {},
     "output_type": "execute_result"
    }
   ],
   "source": [
    "# row1 + row2\n",
    "# apply sum() along 8th axis\n",
    "arr10.sum(axis = 0)"
   ]
  },
  {
   "cell_type": "code",
   "execution_count": 166,
   "id": "fa7cfec7",
   "metadata": {},
   "outputs": [
    {
     "data": {
      "text/plain": [
       "array([ 6, 15])"
      ]
     },
     "execution_count": 166,
     "metadata": {},
     "output_type": "execute_result"
    }
   ],
   "source": [
    "# column1 + column2\n",
    "arr10.sum(axis=1)"
   ]
  },
  {
   "cell_type": "code",
   "execution_count": 169,
   "id": "24030e15",
   "metadata": {},
   "outputs": [
    {
     "data": {
      "text/plain": [
       "1"
      ]
     },
     "execution_count": 169,
     "metadata": {},
     "output_type": "execute_result"
    }
   ],
   "source": [
    "arr10.min()"
   ]
  },
  {
   "cell_type": "code",
   "execution_count": 171,
   "id": "f97e2cf4",
   "metadata": {},
   "outputs": [
    {
     "name": "stdout",
     "output_type": "stream",
     "text": [
      "[[1 2 3]\n",
      " [4 5 6]]\n"
     ]
    },
    {
     "data": {
      "text/plain": [
       "5"
      ]
     },
     "execution_count": 171,
     "metadata": {},
     "output_type": "execute_result"
    }
   ],
   "source": [
    "# argmax used to get the index of max element\n",
    "print(arr10)\n",
    "np.argmax(arr10)"
   ]
  },
  {
   "cell_type": "code",
   "execution_count": 174,
   "id": "7199cdfe",
   "metadata": {},
   "outputs": [
    {
     "data": {
      "text/plain": [
       "array([[ 0,  1,  2,  3,  4,  5],\n",
       "       [ 6,  7,  8,  9, 10, 11],\n",
       "       [12, 13, 14, 15, 16, 17],\n",
       "       [18, 19, 20, 21, 22, 23],\n",
       "       [24, 25, 26, 27, 28, 29],\n",
       "       [30, 31, 32, 33, 34, 35]])"
      ]
     },
     "execution_count": 174,
     "metadata": {},
     "output_type": "execute_result"
    }
   ],
   "source": [
    "arr11 = np.arange(0,36).reshape(6,6)\n",
    "arr11"
   ]
  },
  {
   "cell_type": "code",
   "execution_count": 175,
   "id": "6e6ea352",
   "metadata": {},
   "outputs": [
    {
     "ename": "TypeError",
     "evalue": "only integer scalar arrays can be converted to a scalar index",
     "output_type": "error",
     "traceback": [
      "\u001b[1;31m---------------------------------------------------------------------------\u001b[0m",
      "\u001b[1;31mTypeError\u001b[0m                                 Traceback (most recent call last)",
      "\u001b[1;32m~\\AppData\\Local\\Temp\\ipykernel_18400\\2869884103.py\u001b[0m in \u001b[0;36m<module>\u001b[1;34m\u001b[0m\n\u001b[1;32m----> 1\u001b[1;33m \u001b[0marr11\u001b[0m\u001b[1;33m.\u001b[0m\u001b[0margmax\u001b[0m\u001b[1;33m(\u001b[0m\u001b[0marr11\u001b[0m\u001b[1;33m)\u001b[0m\u001b[1;33m\u001b[0m\u001b[1;33m\u001b[0m\u001b[0m\n\u001b[0m",
      "\u001b[1;31mTypeError\u001b[0m: only integer scalar arrays can be converted to a scalar index"
     ]
    }
   ],
   "source": [
    "arr11.argmax(arr11)"
   ]
  },
  {
   "cell_type": "code",
   "execution_count": 176,
   "id": "788c6123",
   "metadata": {},
   "outputs": [
    {
     "data": {
      "text/plain": [
       "17.5"
      ]
     },
     "execution_count": 176,
     "metadata": {},
     "output_type": "execute_result"
    }
   ],
   "source": [
    "np.median(arr11)"
   ]
  },
  {
   "cell_type": "code",
   "execution_count": 177,
   "id": "b655ad8b",
   "metadata": {},
   "outputs": [
    {
     "data": {
      "text/plain": [
       "10.388294694831615"
      ]
     },
     "execution_count": 177,
     "metadata": {},
     "output_type": "execute_result"
    }
   ],
   "source": [
    "np.std(arr11)"
   ]
  },
  {
   "cell_type": "code",
   "execution_count": 178,
   "id": "1b8e3450",
   "metadata": {},
   "outputs": [
    {
     "data": {
      "text/plain": [
       "107.91666666666667"
      ]
     },
     "execution_count": 178,
     "metadata": {},
     "output_type": "execute_result"
    }
   ],
   "source": [
    "np.var(arr11)"
   ]
  },
  {
   "cell_type": "code",
   "execution_count": null,
   "id": "2c21acd3",
   "metadata": {},
   "outputs": [],
   "source": [
    "au"
   ]
  }
 ],
 "metadata": {
  "kernelspec": {
   "display_name": "Python 3 (ipykernel)",
   "language": "python",
   "name": "python3"
  },
  "language_info": {
   "codemirror_mode": {
    "name": "ipython",
    "version": 3
   },
   "file_extension": ".py",
   "mimetype": "text/x-python",
   "name": "python",
   "nbconvert_exporter": "python",
   "pygments_lexer": "ipython3",
   "version": "3.9.13"
  }
 },
 "nbformat": 4,
 "nbformat_minor": 5
}
