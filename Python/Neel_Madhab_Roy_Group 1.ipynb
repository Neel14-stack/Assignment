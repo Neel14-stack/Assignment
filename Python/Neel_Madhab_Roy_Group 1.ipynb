{
 "cells": [
  {
   "cell_type": "markdown",
   "id": "76fc6aa3-6501-467f-9685-79bbe33d8eff",
   "metadata": {},
   "source": [
    "### 1. Create this dictionary:\n",
    "**{0: 0, 1: 1, 2: 8, 3: 27, 4: 64}\n",
    " using a dictionary comprehension.**"
   ]
  },
  {
   "cell_type": "code",
   "execution_count": 15,
   "id": "f65c9064",
   "metadata": {},
   "outputs": [],
   "source": [
    "dic = {}\n",
    "for i in range(0,5):\n",
    "    dic[i] = i**3"
   ]
  },
  {
   "cell_type": "code",
   "execution_count": 16,
   "id": "60015095",
   "metadata": {},
   "outputs": [
    {
     "data": {
      "text/plain": [
       "{0: 0, 1: 1, 2: 8, 3: 27, 4: 64}"
      ]
     },
     "execution_count": 16,
     "metadata": {},
     "output_type": "execute_result"
    }
   ],
   "source": [
    "dic"
   ]
  },
  {
   "cell_type": "markdown",
   "id": "4d499c8b-9a50-40c8-9e76-d5cc6bca4635",
   "metadata": {},
   "source": [
    "### 2. if the length of a word is even print \"even!\""
   ]
  },
  {
   "cell_type": "code",
   "execution_count": 2,
   "id": "2450d4df-7361-408e-a864-06143b116a5f",
   "metadata": {},
   "outputs": [],
   "source": [
    "st = 'Print every word in this sentence that has an even number of letters'"
   ]
  },
  {
   "cell_type": "code",
   "execution_count": 3,
   "id": "d8ac42a6",
   "metadata": {},
   "outputs": [],
   "source": [
    "list1 = st.split()"
   ]
  },
  {
   "cell_type": "code",
   "execution_count": 6,
   "id": "2fd9594b",
   "metadata": {},
   "outputs": [
    {
     "name": "stdout",
     "output_type": "stream",
     "text": [
      "even! word\n",
      "even! in\n",
      "even! this\n",
      "even! sentence\n",
      "even! that\n",
      "even! an\n",
      "even! even\n",
      "even! number\n",
      "even! of\n"
     ]
    }
   ],
   "source": [
    "for i in list1:\n",
    "    even = len(i)\n",
    "    if even % 2 == 0:\n",
    "        print(\"even!\",i)"
   ]
  },
  {
   "cell_type": "markdown",
   "id": "bc19e049-18b9-48c3-b321-40b108c4f95e",
   "metadata": {},
   "source": [
    "### 3. Generate Password: 17 characters , minimum 1 Uppercase, 1 lowercase, 1 digits and 2 minimun special characters"
   ]
  },
  {
   "cell_type": "code",
   "execution_count": 13,
   "id": "3db5b655",
   "metadata": {},
   "outputs": [],
   "source": [
    "import random\n",
    "import string\n",
    "n1 = random.randint(0, 9)\n",
    "n2 = random.randint(0, 9)\n",
    "n3 = random.randint(0, 9)\n",
    "n4 = random.randint(0, 9)\n",
    "n5 = random.randint(0, 9)\n",
    "l1 = random.choice(string.ascii_lowercase)\n",
    "l2 = random.choice(string.ascii_lowercase)\n",
    "l3 = random.choice(string.ascii_lowercase)\n",
    "l4 = random.choice(string.ascii_lowercase)\n",
    "l5 = random.choice(string.ascii_lowercase)\n",
    "u1 = random.choice(string.ascii_uppercase)\n",
    "u2 = random.choice(string.ascii_uppercase)\n",
    "u3 = random.choice(string.ascii_uppercase)\n",
    "u4 = random.choice(string.ascii_uppercase)\n",
    "s1 = random.choice(string.punctuation)\n",
    "s2 = random.choice(string.punctuation)\n",
    "s3 = random.choice(string.punctuation)\n",
    "neel_password = [str(n1),str(n2),str(n3),str(n4),str(n5),l1,l2,l3,l4,l5,u1,u2,u3,u4,s1,s2,s3]\n",
    "random.shuffle(neel_password)\n",
    "secret_password = \"\"\n",
    "for i in neel_password:\n",
    "    secret_password+=i"
   ]
  },
  {
   "cell_type": "code",
   "execution_count": 14,
   "id": "cf64364b",
   "metadata": {},
   "outputs": [
    {
     "data": {
      "text/plain": [
       "'R1g9{8Y5g7y:yLb\\\\P'"
      ]
     },
     "execution_count": 14,
     "metadata": {},
     "output_type": "execute_result"
    }
   ],
   "source": [
    "secret_password"
   ]
  },
  {
   "cell_type": "markdown",
   "id": "48cca1de-e507-4920-9caf-0b58e1d27f42",
   "metadata": {},
   "source": [
    "### 4. you are given a list which is [6, 15, 5, 3, 5, 14, 3, 202, 34, 235, 555, 6]. You have to sort it such that the seventh element is greatest of all, second element is greater than last element and second last element is not greater than sum of 8 and sixth element"
   ]
  },
  {
   "cell_type": "code",
   "execution_count": 67,
   "id": "a45f822f",
   "metadata": {},
   "outputs": [],
   "source": [
    "list1 = [6, 15, 5, 3, 5, 14, 3, 202, 34, 235, 555, 6]\n",
    "max1 = max(list1)\n",
    "index_l = list1.index(max1)\n",
    "list1[index_l], list1[6] = list1[6], list1[index_l]\n",
    "if list1[1]<list1[-1]:\n",
    "    list[1],list1[-1] = list1[-1],list1[1]\n",
    "#print(list1)"
   ]
  },
  {
   "cell_type": "code",
   "execution_count": 68,
   "id": "2d5787b7",
   "metadata": {},
   "outputs": [
    {
     "name": "stdout",
     "output_type": "stream",
     "text": [
      "[6, 15, 5, 3, 5, 14, 555, 202, 34, 235, 3, 6]\n"
     ]
    }
   ],
   "source": [
    "index_l = 0\n",
    "while (list1[-2]>list1[7]+list1[5]):\n",
    "    if index_l!=1 and index_l!=6:\n",
    "        list1[index_l],list1[-2] = list1[-2],list1[index_l]\n",
    "        index_l = index_l +1\n",
    "print(list1)"
   ]
  },
  {
   "cell_type": "markdown",
   "id": "4cc065eb-e5c5-40ff-9d82-2b6f8f2f43a6",
   "metadata": {},
   "source": [
    "### 5. Write a program that prints the integers from 1 to 100. But for multiples of three print \"Fizz\" instead of the number, and for the multiples of five print \"Buzz\". For numbers which are multiples of both three and five print \"FizzBuzz\"."
   ]
  },
  {
   "cell_type": "code",
   "execution_count": 25,
   "id": "ac12f239",
   "metadata": {
    "collapsed": true
   },
   "outputs": [
    {
     "name": "stdout",
     "output_type": "stream",
     "text": [
      "1\n",
      "2\n",
      "Fizz\n",
      "4\n",
      "Buzz\n",
      "Fizz\n",
      "7\n",
      "8\n",
      "Fizz\n",
      "Buzz\n",
      "11\n",
      "Fizz\n",
      "13\n",
      "14\n",
      "Fizz\n",
      "16\n",
      "17\n",
      "Fizz\n",
      "19\n",
      "Buzz\n",
      "Fizz\n",
      "22\n",
      "23\n",
      "Fizz\n",
      "Buzz\n",
      "26\n",
      "Fizz\n",
      "28\n",
      "29\n",
      "Fizz\n",
      "31\n",
      "32\n",
      "Fizz\n",
      "34\n",
      "Buzz\n",
      "Fizz\n",
      "37\n",
      "38\n",
      "Fizz\n",
      "Buzz\n",
      "41\n",
      "Fizz\n",
      "43\n",
      "44\n",
      "Fizz\n",
      "46\n",
      "47\n",
      "Fizz\n",
      "49\n",
      "Buzz\n",
      "Fizz\n",
      "52\n",
      "53\n",
      "Fizz\n",
      "Buzz\n",
      "56\n",
      "Fizz\n",
      "58\n",
      "59\n",
      "Fizz\n",
      "61\n",
      "62\n",
      "Fizz\n",
      "64\n",
      "Buzz\n",
      "Fizz\n",
      "67\n",
      "68\n",
      "Fizz\n",
      "Buzz\n",
      "71\n",
      "Fizz\n",
      "73\n",
      "74\n",
      "Fizz\n",
      "76\n",
      "77\n",
      "Fizz\n",
      "79\n",
      "Buzz\n",
      "Fizz\n",
      "82\n",
      "83\n",
      "Fizz\n",
      "Buzz\n",
      "86\n",
      "Fizz\n",
      "88\n",
      "89\n",
      "Fizz\n",
      "91\n",
      "92\n",
      "Fizz\n",
      "94\n",
      "Buzz\n",
      "Fizz\n",
      "97\n",
      "98\n",
      "Fizz\n",
      "Buzz\n"
     ]
    }
   ],
   "source": [
    "for i in range(1,101):\n",
    "    if i%3 == 0:\n",
    "        print(\"Fizz\")\n",
    "    elif i%5 == 0:\n",
    "        print(\"Buzz\")\n",
    "    elif (i%15 == 0):\n",
    "        print(\"FizzBuzz\")\n",
    "    else:\n",
    "        print(i)"
   ]
  },
  {
   "cell_type": "code",
   "execution_count": null,
   "id": "40871d81",
   "metadata": {},
   "outputs": [],
   "source": []
  },
  {
   "cell_type": "markdown",
   "id": "42943a70-2349-4290-ac41-a5c1a5cc2ff0",
   "metadata": {},
   "source": [
    "### 6. Write a program that accepts a sentence and calculate the number of letters and digits. Suppose the following input is supplied to the program."
   ]
  },
  {
   "cell_type": "code",
   "execution_count": 35,
   "id": "48b6cd6d",
   "metadata": {},
   "outputs": [
    {
     "name": "stdout",
     "output_type": "stream",
     "text": [
      "enter the sentence: neel99422l\n"
     ]
    }
   ],
   "source": [
    "sentence = input(\"enter the sentence: \")\n",
    "\n",
    "list2 = []\n",
    "num_dic = {}\n",
    "for i in sentence:\n",
    "    list2.append(i)\n",
    "\n",
    "for i in list2:\n",
    "    num_dic[i] = list2.count(i)"
   ]
  },
  {
   "cell_type": "code",
   "execution_count": 36,
   "id": "984741c7",
   "metadata": {},
   "outputs": [
    {
     "data": {
      "text/plain": [
       "{'n': 1, 'e': 2, 'l': 2, '9': 2, '4': 1, '2': 2}"
      ]
     },
     "execution_count": 36,
     "metadata": {},
     "output_type": "execute_result"
    }
   ],
   "source": [
    "num_dic"
   ]
  },
  {
   "cell_type": "markdown",
   "id": "ee9e1ad1-842c-4fff-9ee2-55e24eb24701",
   "metadata": {},
   "source": [
    "### 7. Exercise: Write a program which takes 2 digits, X,Y as input and generates a 2-dimensional array. The element value in the i-th row and j-th column of the array should be i*j\n",
    "\n",
    "[[0, 0, 0, 0, 0],\n",
    " [0, 1, 2, 3, 4],\n",
    " [0, 2, 4, 6, 8]\n",
    " ..............]]"
   ]
  },
  {
   "cell_type": "code",
   "execution_count": 51,
   "id": "95b0bbf2",
   "metadata": {},
   "outputs": [
    {
     "name": "stdout",
     "output_type": "stream",
     "text": [
      "Input number of rows: 3\n",
      "Input number of columns: 5\n",
      "[[0, 0, 0, 0, 0], [0, 1, 2, 3, 4], [0, 2, 4, 6, 8]]\n"
     ]
    }
   ],
   "source": [
    "x = int(input(\"Input number of rows: \"))\n",
    "y = int(input(\"Input number of columns: \"))\n",
    "arr = [[0 for col in range(y)] for row in range(x)]\n",
    "\n",
    "for i in range(x):\n",
    "    for j in range(y):\n",
    "        arr[i][j]= i*j\n",
    "\n",
    "print(arr)\n"
   ]
  },
  {
   "cell_type": "markdown",
   "id": "f1efcf4a-bc10-4189-8228-3270b0cf1483",
   "metadata": {},
   "source": [
    "## 8. For this challenge,\n",
    "Create a bank account class that has two attributes:\n",
    "\n",
    "owner balance and two methods:\n",
    "\n",
    "deposit withdraw As an added requirement, withdrawals may not exceed the available balance.\n",
    "\n",
    "Instantiate your class, make several deposits and withdrawals, and test to make sure the account can't be overdrawn."
   ]
  },
  {
   "cell_type": "code",
   "execution_count": 43,
   "id": "f459abf0",
   "metadata": {},
   "outputs": [],
   "source": [
    "class Bank_Account:\n",
    "          \n",
    "    def __init__(self,owner,balance=0):\n",
    "        self.owner = owner\n",
    "        self.avaliable_balance = balance\n",
    "        \n",
    "    def deposite(self,deposite_amount):\n",
    "        self.avaliable_balance = self.avaliable_balance + deposite_amount\n",
    "        print(f\"deposite done! Your avaliable balance is {self.avaliable_balance}\")\n",
    "    \n",
    "    def withdrawal(self,withdrawal_amount):\n",
    "        if (self.avaliable_balance >= withdrawal_amount):\n",
    "            self.avaliable_balance = self.avaliable_balance - withdrawal_amount\n",
    "            print(f\"Withdrawal Done! Your avaliable balance is {self.avaliable_balance}\")\n",
    "        else:\n",
    "            print(\"Unavaliabel balance\")\n",
    "        \n",
    "        \n",
    "        "
   ]
  },
  {
   "cell_type": "code",
   "execution_count": 44,
   "id": "f2649908",
   "metadata": {},
   "outputs": [],
   "source": [
    "obj = Bank_Account('Neel',1000)"
   ]
  },
  {
   "cell_type": "code",
   "execution_count": 45,
   "id": "ee7dc4f1",
   "metadata": {},
   "outputs": [
    {
     "name": "stdout",
     "output_type": "stream",
     "text": [
      "deposite done! Your avaliable balance is 3000\n"
     ]
    }
   ],
   "source": [
    "obj.deposite(2000)"
   ]
  },
  {
   "cell_type": "code",
   "execution_count": 46,
   "id": "35c4a6d6",
   "metadata": {},
   "outputs": [
    {
     "name": "stdout",
     "output_type": "stream",
     "text": [
      "deposite done! Your avaliable balance is 13000\n"
     ]
    }
   ],
   "source": [
    "obj.deposite(10000)"
   ]
  },
  {
   "cell_type": "code",
   "execution_count": 47,
   "id": "11429219",
   "metadata": {},
   "outputs": [
    {
     "name": "stdout",
     "output_type": "stream",
     "text": [
      "Withdrawal Done! Your avaliable balance is 1000\n"
     ]
    }
   ],
   "source": [
    "obj.withdrawal(12000)"
   ]
  },
  {
   "cell_type": "code",
   "execution_count": 48,
   "id": "ab5c5206",
   "metadata": {},
   "outputs": [
    {
     "name": "stdout",
     "output_type": "stream",
     "text": [
      "Unavaliabel balance\n"
     ]
    }
   ],
   "source": [
    "obj.withdrawal(10000)"
   ]
  },
  {
   "cell_type": "code",
   "execution_count": null,
   "id": "740356dc",
   "metadata": {},
   "outputs": [],
   "source": []
  }
 ],
 "metadata": {
  "kernelspec": {
   "display_name": "Python 3 (ipykernel)",
   "language": "python",
   "name": "python3"
  },
  "language_info": {
   "codemirror_mode": {
    "name": "ipython",
    "version": 3
   },
   "file_extension": ".py",
   "mimetype": "text/x-python",
   "name": "python",
   "nbconvert_exporter": "python",
   "pygments_lexer": "ipython3",
   "version": "3.9.13"
  }
 },
 "nbformat": 4,
 "nbformat_minor": 5
}
