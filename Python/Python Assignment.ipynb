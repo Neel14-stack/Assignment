{
 "cells": [
  {
   "cell_type": "markdown",
   "id": "0eb4fb3f",
   "metadata": {},
   "source": [
    "1.\tCreate a python program to find duplicate files by content. User will input path and it will scan all directories, sub-directories to find all duplicates files.\n",
    "Delete the found duplicate file.\n",
    "[Hint: use hashlib]\n"
   ]
  },
  {
   "cell_type": "code",
   "execution_count": 51,
   "id": "eea89ba1",
   "metadata": {},
   "outputs": [
    {
     "name": "stdout",
     "output_type": "stream",
     "text": [
      "Enter path to search for duplicates: D:\\testing\n",
      "Found duplicates:\n",
      "D:\\testing\\python\\file2.txt\n",
      "D:\\testing\\python\\python-2\\file3.txt\n",
      "D:\\testing\\sql\\sql2.txt\n",
      "Do you want to delete the duplicates? (y/n) y\n",
      "Duplicates deleted.\n"
     ]
    }
   ],
   "source": [
    "import os\n",
    "import hashlib\n",
    "\n",
    "def get_files(path):\n",
    "    \"\"\"\n",
    "    This function takes a path as input and returns a list of all the files in that path and its subdirectories.\n",
    "    \"\"\"\n",
    "    files = []\n",
    "    for dirpath, _, filenames in os.walk(path):\n",
    "        for filename in filenames:\n",
    "            files.append(os.path.join(dirpath, filename))\n",
    "    return files\n",
    "\n",
    "def get_file_hash(file_path):\n",
    "    \"\"\"\n",
    "    This function takes a file path as input and returns the SHA-256 hash of the file's contents.\n",
    "    \"\"\"\n",
    "    with open(file_path, \"rb\") as f:\n",
    "        file_hash = hashlib.sha256()\n",
    "        while chunk := f.read(8192):\n",
    "            file_hash.update(chunk)\n",
    "        return file_hash.digest()\n",
    "\n",
    "def find_duplicates(path):\n",
    "    \"\"\"\n",
    "    This function takes a path as input and finds all the duplicate files by content.\n",
    "    \"\"\"\n",
    "    hashes = {}\n",
    "    duplicates = []\n",
    "    files = get_files(path)\n",
    "    for file_path in files:\n",
    "        file_hash = get_file_hash(file_path)\n",
    "        if file_hash in hashes:\n",
    "            duplicates.append(file_path)\n",
    "        else:\n",
    "            hashes[file_hash] = file_path\n",
    "    return duplicates\n",
    "\n",
    "def delete_duplicates(duplicates):\n",
    "    \"\"\"\n",
    "    This function takes a list of duplicate file paths as input and deletes them.\n",
    "    \"\"\"\n",
    "    for file_path in duplicates:\n",
    "        os.remove(file_path)\n",
    "\n",
    "if __name__ == \"__main__\":\n",
    "    path = input(\"Enter path to search for duplicates: \")\n",
    "    duplicates = find_duplicates(path)\n",
    "    if len(duplicates) > 0:\n",
    "        print(\"Found duplicates:\")\n",
    "        for file_path in duplicates:\n",
    "            print(file_path)\n",
    "        delete = input(\"Do you want to delete the duplicates? (y/n) \")\n",
    "        if delete.lower() == \"y\":\n",
    "            delete_duplicates(duplicates)\n",
    "            print(\"Duplicates deleted.\")\n",
    "        else:\n",
    "            print(\"Duplicates not deleted.\")\n",
    "    else:\n",
    "        print(\"No duplicates found.\")\n"
   ]
  },
  {
   "cell_type": "markdown",
   "id": "14e86734",
   "metadata": {},
   "source": [
    "2. Generate random Password with exact length = 6, with minimum 1 uppercase, 2 lowercase, 2 digits, and remaining special characters.\n",
    "Using these packages [random, strings]\n"
   ]
  },
  {
   "cell_type": "code",
   "execution_count": 5,
   "id": "509e0f9f",
   "metadata": {},
   "outputs": [],
   "source": [
    "import random\n",
    "import string\n",
    "n1 = random.randint(0, 9)\n",
    "n2 = random.randint(0, 9)\n",
    "s3 = random.choice(string.punctuation)\n",
    "l1 = random.choice(string.ascii_lowercase)\n",
    "l2 = random.choice(string.ascii_lowercase)\n",
    "u1 = random.choice(string.ascii_uppercase)\n",
    "neel_password = [str(n1),str(n2),s3,l1,l2,u1]\n",
    "random.shuffle(neel_password)\n",
    "secret_password = \"\"\n",
    "for i in neel_password:\n",
    "    secret_password+=i"
   ]
  },
  {
   "cell_type": "code",
   "execution_count": 6,
   "id": "d41caa9b",
   "metadata": {},
   "outputs": [
    {
     "data": {
      "text/plain": [
       "'\\\\eU2r2'"
      ]
     },
     "execution_count": 6,
     "metadata": {},
     "output_type": "execute_result"
    }
   ],
   "source": [
    "secret_password"
   ]
  },
  {
   "cell_type": "markdown",
   "id": "bc5cdbc7",
   "metadata": {},
   "source": [
    "3.\tCreate 2D array and update the same 2D array provided that every prime number position should be replaced by cube of the positioned number."
   ]
  },
  {
   "cell_type": "code",
   "execution_count": 56,
   "id": "cc74fee9",
   "metadata": {},
   "outputs": [
    {
     "name": "stdout",
     "output_type": "stream",
     "text": [
      "[1 2 3 4 5 6 7 8]\n",
      "[1, 2, 4, 6]\n",
      "[[  1   8  27   4]\n",
      " [125   6 343   8]]\n",
      "[1, 2, 3, 4, 5, 6, 7, 8]\n"
     ]
    }
   ],
   "source": [
    "import numpy as np\n",
    "arr = np.array([[1,2,3,4],[5,6,7,8]])\n",
    "arr\n",
    "arr.shape\n",
    "a =[]\n",
    "# flag= 0\n",
    "# n=29\n",
    "a =[]\n",
    "def is_prime(n):\n",
    "    if n<2:\n",
    "        return False\n",
    "    for i in range(2,n):\n",
    "        if n%i==0:\n",
    "            return False\n",
    "    return True\n",
    "arr_3 =arr.reshape(8)\n",
    "print(arr_3)\n",
    "a=arr_3.tolist()\n",
    "b=[]\n",
    "for i in a:\n",
    "    if is_prime(i)==True:\n",
    "        b.append(a.index(i))\n",
    "print(b)\n",
    "for i in range(arr.shape[0]):\n",
    "    for j in range(arr.shape[1]):\n",
    "        if is_prime(arr[i][j]):\n",
    "#             a.append(i)\n",
    "            arr[i,j] = (arr[i][j])**3\n",
    "print(arr)\n",
    "print(a)"
   ]
  },
  {
   "cell_type": "markdown",
   "id": "f7358fad",
   "metadata": {},
   "source": [
    "4.\tPython program to get the sum of every cubed value and its previous integer. "
   ]
  },
  {
   "cell_type": "code",
   "execution_count": 57,
   "id": "fc751ee3",
   "metadata": {},
   "outputs": [
    {
     "name": "stdout",
     "output_type": "stream",
     "text": [
      "[[  1   8  27   4]\n",
      " [125   6 343   8]]\n"
     ]
    },
    {
     "data": {
      "text/plain": [
       "array([  1,   8,  27,   4, 125,   6, 343,   8])"
      ]
     },
     "execution_count": 57,
     "metadata": {},
     "output_type": "execute_result"
    }
   ],
   "source": [
    "print(arr)\n",
    "new_array=arr.reshape(8)\n",
    "new_array"
   ]
  },
  {
   "cell_type": "code",
   "execution_count": 58,
   "id": "41c22d07",
   "metadata": {},
   "outputs": [
    {
     "data": {
      "text/plain": [
       "array([[  1,   9,  36,   4],\n",
       "       [129,   6, 349,   8]])"
      ]
     },
     "execution_count": 58,
     "metadata": {},
     "output_type": "execute_result"
    }
   ],
   "source": [
    "for i in b:\n",
    "    new_array[i]=new_array[i]+new_array[i-1]\n",
    "# print(new_array)\n",
    "final_array = new_array.reshape(2,4)\n",
    "# print(final_array)\n",
    "my_array = np.asarray(final_array)\n",
    "my_array"
   ]
  },
  {
   "cell_type": "code",
   "execution_count": null,
   "id": "2fb1d8c8",
   "metadata": {},
   "outputs": [],
   "source": [
    "5.\tGiven two arrays, find their intersection. Examples:\n",
    "\n",
    "Input:  arr1[] = [1, 3, 4, 5, 7]\n",
    "             arr2[] = [2, 3, 5, 6]\n"
   ]
  },
  {
   "cell_type": "code",
   "execution_count": 8,
   "id": "769e0750",
   "metadata": {},
   "outputs": [
    {
     "name": "stdout",
     "output_type": "stream",
     "text": [
      "[3 5]\n"
     ]
    }
   ],
   "source": [
    "import numpy as np\n",
    "arr1 = np.array([1, 3, 4, 5, 7])\n",
    "arr2 = np.array([2, 3, 5, 6])\n",
    "\n",
    "intersection = np.intersect1d(arr1,arr2)\n",
    "print(intersection)"
   ]
  },
  {
   "cell_type": "markdown",
   "id": "217a2076",
   "metadata": {},
   "source": [
    "  6.\tCreate a 7 x 7  2D array having only multiples of 7. And return the last element of the same."
   ]
  },
  {
   "cell_type": "code",
   "execution_count": 24,
   "id": "7193e25c",
   "metadata": {},
   "outputs": [],
   "source": [
    "arr4 = np.arange(7,344,7).reshape(7,7)"
   ]
  },
  {
   "cell_type": "code",
   "execution_count": 27,
   "id": "fbbbea6a",
   "metadata": {},
   "outputs": [
    {
     "name": "stdout",
     "output_type": "stream",
     "text": [
      "(7, 7)\n",
      "[[  7  14  21  28  35  42  49]\n",
      " [ 56  63  70  77  84  91  98]\n",
      " [105 112 119 126 133 140 147]\n",
      " [154 161 168 175 182 189 196]\n",
      " [203 210 217 224 231 238 245]\n",
      " [252 259 266 273 280 287 294]\n",
      " [301 308 315 322 329 336 343]]\n"
     ]
    }
   ],
   "source": [
    "print(arr4.shape)\n",
    "print(arr4)"
   ]
  },
  {
   "cell_type": "code",
   "execution_count": 28,
   "id": "180228b2",
   "metadata": {},
   "outputs": [
    {
     "data": {
      "text/plain": [
       "343"
      ]
     },
     "execution_count": 28,
     "metadata": {},
     "output_type": "execute_result"
    }
   ],
   "source": [
    "arr4[6][6]"
   ]
  },
  {
   "cell_type": "code",
   "execution_count": null,
   "id": "1303edda",
   "metadata": {},
   "outputs": [],
   "source": [
    "7.\tChecker Board Patten using Numpy:\n",
    "[   1   0   1   0   1   0   1\n",
    "    0   1   0   1   0   1   0\n",
    "    1   0   1   0   1   0   1\n",
    "    0   1   0   1   0   1   0\n",
    "    1   0   1   0   1   0   1  ]\n"
   ]
  },
  {
   "cell_type": "code",
   "execution_count": 31,
   "id": "a44e7e68",
   "metadata": {},
   "outputs": [],
   "source": [
    "arr5 = np.ones((5,7),dtype = 'int16')\n",
    "arr5[1::2,0::2] = 0\n",
    "arr5[0::2,1::2] = 0"
   ]
  },
  {
   "cell_type": "code",
   "execution_count": 32,
   "id": "de8c5357",
   "metadata": {},
   "outputs": [
    {
     "name": "stdout",
     "output_type": "stream",
     "text": [
      "[[1 0 1 0 1 0 1]\n",
      " [0 1 0 1 0 1 0]\n",
      " [1 0 1 0 1 0 1]\n",
      " [0 1 0 1 0 1 0]\n",
      " [1 0 1 0 1 0 1]]\n"
     ]
    }
   ],
   "source": [
    "print(arr5)"
   ]
  },
  {
   "cell_type": "code",
   "execution_count": null,
   "id": "31fef6b4",
   "metadata": {},
   "outputs": [],
   "source": [
    "8.\tCreate a given Matrix:\n",
    "[  A,     B,     C,       D\n",
    "   E,      F,     G,       H\n",
    "    I,      a,      K,       L\n",
    "   M,    N,     o,       P\n",
    "   Q,     R,      S,       T\n",
    "   U,     0,     W,      O ]\n",
    "\n",
    "Replace all the vowels by np.nan\n",
    "A, E, I, O U  -- >  np.nan\n",
    "Return the count of the missing values\n"
   ]
  },
  {
   "cell_type": "code",
   "execution_count": 46,
   "id": "f784d12f",
   "metadata": {},
   "outputs": [],
   "source": [
    "arr6 = ['A','B','C','D',\n",
    "       'E','F','G','H',\n",
    "       'I','A','K','L',\n",
    "       'M','N','O','P',\n",
    "       'Q','R','S','T',\n",
    "       'U',0,'W','O']\n"
   ]
  },
  {
   "cell_type": "code",
   "execution_count": 47,
   "id": "e8fd786d",
   "metadata": {},
   "outputs": [],
   "source": [
    "vovl = ['A','E','I','O','U']"
   ]
  },
  {
   "cell_type": "code",
   "execution_count": 48,
   "id": "c2acccbe",
   "metadata": {},
   "outputs": [],
   "source": [
    "for i in range(0,len(arr6)):\n",
    "    if arr6[i] in vovl:\n",
    "        arr6[i] = False\n",
    "    if arr6[i] == False:\n",
    "        arr6[i] = False\n",
    "        "
   ]
  },
  {
   "cell_type": "code",
   "execution_count": 50,
   "id": "49b8f501",
   "metadata": {},
   "outputs": [
    {
     "data": {
      "text/plain": [
       "8"
      ]
     },
     "execution_count": 50,
     "metadata": {},
     "output_type": "execute_result"
    }
   ],
   "source": [
    "arr6.count(False)"
   ]
  },
  {
   "cell_type": "code",
   "execution_count": null,
   "id": "d42d52a9",
   "metadata": {},
   "outputs": [],
   "source": []
  }
 ],
 "metadata": {
  "kernelspec": {
   "display_name": "Python 3 (ipykernel)",
   "language": "python",
   "name": "python3"
  },
  "language_info": {
   "codemirror_mode": {
    "name": "ipython",
    "version": 3
   },
   "file_extension": ".py",
   "mimetype": "text/x-python",
   "name": "python",
   "nbconvert_exporter": "python",
   "pygments_lexer": "ipython3",
   "version": "3.9.13"
  }
 },
 "nbformat": 4,
 "nbformat_minor": 5
}
